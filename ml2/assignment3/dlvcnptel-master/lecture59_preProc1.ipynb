{
 "cells": [
  {
   "cell_type": "markdown",
   "metadata": {},
   "source": [
    "# Lecture 59: Activity recognition using 3D-CNN"
   ]
  },
  {
   "cell_type": "markdown",
   "metadata": {},
   "source": [
    "## Frame extraction and dataset preparation for training CNN\n",
    "#### Dataset: [UCF101](https://www.crcv.ucf.edu/research/data-sets/ucf101/)\n",
    "\n",
    "Download the dataset and unzip in the current directory"
   ]
  },
  {
   "cell_type": "code",
   "execution_count": null,
   "metadata": {},
   "outputs": [],
   "source": [
    "import os\n",
    "import shutil\n",
    "import numpy as np\n",
    "import pickle"
   ]
  },
  {
   "cell_type": "markdown",
   "metadata": {},
   "source": [
    "### Extract frames from all videos of the dataset\n",
    "\n",
    "Install ffmpeg if not already installed"
   ]
  },
  {
   "cell_type": "code",
   "execution_count": null,
   "metadata": {},
   "outputs": [],
   "source": [
    "srcPath = 'UCF-101/'\n",
    "classes = os.listdir(srcPath)\n",
    "for c in classes:\n",
    "    files = os.listdir(srcPath+c)\n",
    "    for f in files:\n",
    "        filename = srcPath+c+'/'+f\n",
    "        dstPath = 'frames/'+c+'/'+f[:-4]\n",
    "        if not os.path.exists(dstPath):\n",
    "            os.makedirs(dstPath)\n",
    "        os.system('ffmpeg -i {0} {1}/frame_%04d.jpg'.format(filename, dstPath))     \n",
    "       "
   ]
  },
  {
   "cell_type": "markdown",
   "metadata": {},
   "source": [
    "### Truncating the dataset to 5 classes"
   ]
  },
  {
   "cell_type": "code",
   "execution_count": null,
   "metadata": {},
   "outputs": [],
   "source": [
    "path = 'frames'\n",
    "classes = os.listdir(path)\n",
    "classes.sort()\n",
    "classes_5 = classes[:5]\n",
    "print(classes_5)"
   ]
  },
  {
   "cell_type": "code",
   "execution_count": null,
   "metadata": {},
   "outputs": [],
   "source": [
    "# The dataset has videos of 25 individuals performing each activity\n",
    "# Choosing 20 for training; 5 for testing\n",
    "trainList = []\n",
    "testList = []\n",
    "for c in classes_5:\n",
    "    trainIndvList = []\n",
    "    vidList = os.listdir(path+'/'+c)\n",
    "    vidList.sort()   \n",
    "    for item in vidList:\n",
    "        # video name eg: v_ApplyEyeMakeup_g01_c01 => g01 \n",
    "        user = item.split('_')[2]\n",
    "        if (user not in trainIndvList):   \n",
    "            if len(trainIndvList)<20:              \n",
    "                trainIndvList.append(user) # Keeping track of train-test list\n",
    "                trainList.append(item) # Adding the video name to train list\n",
    "            else:\n",
    "                testList.append(item) # Adding the video name to test list\n",
    "        else:\n",
    "            trainList.append(item)     "
   ]
  },
  {
   "cell_type": "code",
   "execution_count": null,
   "metadata": {},
   "outputs": [],
   "source": [
    "with open('trainList_5class.pckl','wb') as f:\n",
    "    pickle.dump(trainList,f)\n",
    "with open('testList_5class.pckl','wb') as f:\n",
    "    pickle.dump(testList,f)"
   ]
  },
  {
   "cell_type": "markdown",
   "metadata": {},
   "source": [
    "### Deleting videos from the train and test list with more than 1 frame drop"
   ]
  },
  {
   "cell_type": "code",
   "execution_count": null,
   "metadata": {
    "scrolled": true
   },
   "outputs": [],
   "source": [
    "# Filtering train set\n",
    "count = 1\n",
    "delList = []\n",
    "for item in trainList:\n",
    "    print(str(count)+'/'+str(len(trainList)))\n",
    "    cl = item.split('_')[1]\n",
    "    srcPath = 'frames/'+cl+'/'+item    \n",
    "    fNames = os.listdir(srcPath)\n",
    "    fNums = [int(x[:-4].split('_')[-1]) for x in fNames]\n",
    "    fNums.sort()    \n",
    "    if fNums[-1]-len(fNames)>1:\n",
    "        delList.append('frames/'+cl+'/'+item)\n",
    "    count += 1    \n",
    "for item in delList:\n",
    "    shutil.rmtree(item)"
   ]
  },
  {
   "cell_type": "code",
   "execution_count": null,
   "metadata": {
    "scrolled": true
   },
   "outputs": [],
   "source": [
    "# Filtering test set\n",
    "count = 1\n",
    "testDelList = []\n",
    "for item in testList:\n",
    "    print(str(count)+'/'+str(len(testList)))\n",
    "    cl = item.split('_')[1]\n",
    "    srcPath = 'frames/'+cl+'/'+item    \n",
    "    fNames = os.listdir(srcPath)\n",
    "    fNums = [int(x[:-4].split('_')[-1]) for x in fNames]\n",
    "    fNums.sort()\n",
    "    if fNums[-1]-len(fNames)>1: \n",
    "        testDelList.append('frames/'+cl+'/'+item)       \n",
    "    count += 1   \n",
    "for item in testDelList:\n",
    "    shutil.rmtree(item)"
   ]
  },
  {
   "cell_type": "code",
   "execution_count": null,
   "metadata": {},
   "outputs": [],
   "source": [
    "for item in classes_5:\n",
    "    print(item)\n",
    "    srcPath = path+'/'+item\n",
    "    files = os.listdir(srcPath)\n",
    "    trainNum = np.floor(len(files)*0.8)\n",
    "    testNum = len(files)-trainNum\n",
    "    for idx in range(int(trainNum)):\n",
    "        trainDst = 'train_5class/'+item+'/'+files[idx] \n",
    "        shutil.copytree(srcPath+'/'+files[idx],trainDst)         \n",
    "        \n",
    "    for idx2 in range(int(trainNum),int(trainNum+testNum)):\n",
    "        testDst = 'test_5class/'+item+'/'+files[idx2]        \n",
    "        shutil.copytree(srcPath+'/'+files[idx2],testDst)    \n",
    "       \n",
    "        "
   ]
  },
  {
   "cell_type": "code",
   "execution_count": null,
   "metadata": {},
   "outputs": [],
   "source": []
  }
 ],
 "metadata": {
  "kernelspec": {
   "display_name": "Python 3",
   "language": "python",
   "name": "python3"
  },
  "language_info": {
   "codemirror_mode": {
    "name": "ipython",
    "version": 3
   },
   "file_extension": ".py",
   "mimetype": "text/x-python",
   "name": "python",
   "nbconvert_exporter": "python",
   "pygments_lexer": "ipython3",
   "version": "3.6.5"
  }
 },
 "nbformat": 4,
 "nbformat_minor": 1
}
