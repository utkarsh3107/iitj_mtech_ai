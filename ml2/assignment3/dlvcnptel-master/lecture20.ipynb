{
 "cells": [
  {
   "cell_type": "markdown",
   "metadata": {},
   "source": [
    "Lecture 20: Denoising Autoencoders for MNIST classification\n",
    "=="
   ]
  },
  {
   "cell_type": "markdown",
   "metadata": {},
   "source": [
    "## Load Packages\n"
   ]
  },
  {
   "cell_type": "code",
   "execution_count": null,
   "metadata": {},
   "outputs": [],
   "source": [
    "%matplotlib inline\n",
    "import copy\n",
    "import torch\n",
    "import numpy as np\n",
    "import torchvision\n",
    "import torch.nn as nn\n",
    "import torch.optim as optim\n",
    "import matplotlib.pyplot as plt\n",
    "import torchvision.transforms as transforms\n",
    "\n",
    "print(torch.__version__) # This code has been updated for PyTorch 1.0.0"
   ]
  },
  {
   "cell_type": "markdown",
   "metadata": {},
   "source": [
    "## Load Data:"
   ]
  },
  {
   "cell_type": "code",
   "execution_count": null,
   "metadata": {},
   "outputs": [],
   "source": [
    "transform = transforms.Compose([transforms.ToTensor()])\n",
    "BatchSize = 1000\n",
    "\n",
    "trainset = torchvision.datasets.MNIST(root='./MNIST', train=True,\n",
    "                                        download=True, transform=transform)\n",
    "trainloader = torch.utils.data.DataLoader(trainset, batch_size=BatchSize,\n",
    "                                          shuffle=True, num_workers=4) # Creating dataloader\n",
    "\n",
    "testset = torchvision.datasets.MNIST(root='./MNIST', train=False,\n",
    "                                       download=True, transform=transform)\n",
    "testloader = torch.utils.data.DataLoader(testset, batch_size=BatchSize,\n",
    "                                         shuffle=False, num_workers=4) # Creating dataloader\n",
    "\n",
    "classes = ('zero', 'one', 'two', 'three',\n",
    "           'four', 'five', 'six', 'seven', 'eight', 'nine')"
   ]
  },
  {
   "cell_type": "code",
   "execution_count": null,
   "metadata": {},
   "outputs": [],
   "source": [
    "# Check availability of GPU\n",
    "\n",
    "use_gpu = torch.cuda.is_available()\n",
    "if use_gpu:\n",
    "    print('GPU is available!')\n",
    "    device = \"cuda\"\n",
    "else:\n",
    "    print('GPU is not available!')\n",
    "    device = \"cpu\""
   ]
  },
  {
   "cell_type": "markdown",
   "metadata": {},
   "source": [
    "## Define the Autoencoder:"
   ]
  },
  {
   "cell_type": "code",
   "execution_count": null,
   "metadata": {},
   "outputs": [],
   "source": [
    "class autoencoder(nn.Module):\n",
    "    def __init__(self):\n",
    "        super(autoencoder, self).__init__()\n",
    "        self.encoder = nn.Sequential(\n",
    "            nn.Linear(28*28, 400),\n",
    "            nn.Tanh())\n",
    "        self.decoder = nn.Sequential(\n",
    "            nn.Linear(400, 28*28),\n",
    "            nn.Sigmoid())\n",
    "\n",
    "    def forward(self, x):\n",
    "        x = self.encoder(x)\n",
    "        x = self.decoder(x)\n",
    "        return x\n",
    "\n",
    "\n",
    "net = autoencoder()\n",
    "print(net)\n",
    "net = net.double().to(device)\n",
    "\n",
    "init_weightsE = copy.deepcopy(net.encoder[0].weight.data)\n",
    "init_weightsD = copy.deepcopy(net.decoder[0].weight.data)"
   ]
  },
  {
   "cell_type": "markdown",
   "metadata": {},
   "source": [
    "## Train Autoencoder:"
   ]
  },
  {
   "cell_type": "code",
   "execution_count": null,
   "metadata": {},
   "outputs": [],
   "source": [
    "iterations = 20\n",
    "learning_rate = 1e-3\n",
    "noise_mean = 0.1\n",
    "noise_std = 0.2\n",
    "lambda1 = 0.1 # sparsity factor\n",
    "criterion = nn.MSELoss()\n",
    "optimizer = optim.Adam(net.parameters(), lr = learning_rate) # Adam optimizer for optimization\n",
    "for epoch in range(iterations):  # loop over the dataset multiple times\n",
    "\n",
    "    runningLoss = 0.0\n",
    "    for data in trainloader:\n",
    "        # get the inputs\n",
    "        inputs, labels = data        \n",
    "        \n",
    "        ideal_outputs = inputs.view(-1, 28*28).double().to(device)\n",
    "        # Noise\n",
    "        noise = ideal_outputs.data.new(ideal_outputs.size()).normal_(noise_mean, noise_std).double().to(device)\n",
    "        # Adding Noise (Noisy Input)\n",
    "        inputs = torch.clamp((ideal_outputs + noise).data,0,1).double().to(device)\n",
    "\n",
    "        optimizer.zero_grad()  # zeroes the gradient buffers of all parameters\n",
    "        outputs = net(inputs) # forward \n",
    "        loss = criterion(outputs, ideal_outputs) # calculate loss\n",
    "        l1_norm = lambda1*torch.norm(net.encoder[0].weight, p=1) # L1 penalty for the encoder\n",
    "        total_loss = loss+l1_norm\n",
    "        total_loss.backward() #  backpropagate the loss\n",
    "        optimizer.step()\n",
    "        runningLoss += loss.item()\n",
    "    print('At Iteration : %d / %d  ;  Mean-Squared Error : %f'%(epoch + 1,iterations,\n",
    "                                                                        runningLoss/(60000/BatchSize)))\n",
    "print('Finished Training')"
   ]
  },
  {
   "cell_type": "markdown",
   "metadata": {},
   "source": [
    "## Autoencoder Performance:"
   ]
  },
  {
   "cell_type": "code",
   "execution_count": null,
   "metadata": {},
   "outputs": [],
   "source": [
    "# functions to show an image\n",
    "def imshow(img, strlabel):\n",
    "    npimg = img.numpy()\n",
    "    npimg = np.abs(npimg)\n",
    "    fig_size = plt.rcParams[\"figure.figsize\"]\n",
    "    fig_size[0] = 10\n",
    "    fig_size[1] = 10\n",
    "    plt.rcParams[\"figure.figsize\"] = fig_size\n",
    "    plt.figure()\n",
    "    plt.title(strlabel)\n",
    "    plt.imshow(np.transpose(npimg, (1, 2, 0)))\n",
    "\n",
    "# get some random training images\n",
    "dataiter = iter(testloader)\n",
    "images, labels = dataiter.next()\n",
    "\n",
    "ideal_outputs = images[0].view(-1,28*28).double().to(device)\n",
    "noise = ideal_outputs.data.new(ideal_outputs.size()).normal_(noise_mean, noise_std).double().to(device)\n",
    "inputs = ideal_outputs + noise\n",
    "outImg = net(inputs).data\n",
    "outImg = outImg.view(-1,28,28)\n",
    "inImg = inputs.data.view(-1,28,28)\n",
    "if use_gpu:\n",
    "    outImg = outImg.cpu()   \n",
    "    inImg = inImg.cpu()\n",
    "\n",
    "dispImg = torch.Tensor(2,1,28,28)\n",
    "dispImg[0] = torch.clamp(inImg,0,1)\n",
    "dispImg[1] = outImg\n",
    "\n",
    "# show images\n",
    "imshow(torchvision.utils.make_grid(dispImg), 'Noisy Input                                              Denoised Output')"
   ]
  },
  {
   "cell_type": "markdown",
   "metadata": {},
   "source": [
    "## Encoder Weight Visualisation:"
   ]
  },
  {
   "cell_type": "code",
   "execution_count": null,
   "metadata": {
    "scrolled": false
   },
   "outputs": [],
   "source": [
    "trained_weightsE = copy.deepcopy(net.encoder[0].weight.data)\n",
    "d_weightsE = init_weightsE - trained_weightsE \n",
    "\n",
    "init_weightsE = init_weightsE.view(400,1,28,28)\n",
    "trained_weightsE = trained_weightsE.view(400,1,28,28)\n",
    "d_weightsE = d_weightsE.view(400,1,28,28)\n",
    "if use_gpu:\n",
    "    init_weightsE = init_weightsE.cpu()\n",
    "    trained_weightsE = trained_weightsE.cpu()\n",
    "    d_weightsE = d_weightsE.cpu()    \n",
    "\n",
    "imshow(torchvision.utils.make_grid(init_weightsE,nrow=20,normalize=True),'Initial Weights')\n",
    "imshow(torchvision.utils.make_grid(trained_weightsE,nrow=20,normalize=True),'Trained Weights')\n",
    "imshow(torchvision.utils.make_grid(d_weightsE,nrow=20,normalize=True), 'Weight update')"
   ]
  },
  {
   "cell_type": "markdown",
   "metadata": {},
   "source": [
    "## Decoder Weight Visualisation:"
   ]
  },
  {
   "cell_type": "code",
   "execution_count": null,
   "metadata": {
    "scrolled": false
   },
   "outputs": [],
   "source": [
    "trained_weightsD = copy.deepcopy(net.decoder[0].weight.data)\n",
    "d_weightsD = init_weightsD - trained_weightsD \n",
    "\n",
    "init_weightsD = init_weightsD.view(784,1,20,20)\n",
    "trained_weightsD = trained_weightsD.view(784,1,20,20)\n",
    "d_weightsD = d_weightsD.view(784,1,20,20)\n",
    "if use_gpu:\n",
    "    init_weightsD = init_weightsD.cpu()\n",
    "    trained_weightsD = trained_weightsD.cpu()\n",
    "    d_weightsD = d_weightsD.cpu()    \n",
    "\n",
    "imshow(torchvision.utils.make_grid(init_weightsD,nrow=28,normalize=True),'Initial Weights')\n",
    "imshow(torchvision.utils.make_grid(trained_weightsD,nrow=28,normalize=True),'Trained Weights')\n",
    "imshow(torchvision.utils.make_grid(d_weightsD,nrow=28,normalize=True), 'Weight update')"
   ]
  },
  {
   "cell_type": "markdown",
   "metadata": {},
   "source": [
    "## Modifying the autoencoder for classification: "
   ]
  },
  {
   "cell_type": "code",
   "execution_count": null,
   "metadata": {},
   "outputs": [],
   "source": [
    "# Removing the decoder module from the autoencoder\n",
    "new_classifier = nn.Sequential(*list(net.children())[:-1])\n",
    "net = new_classifier\n",
    "# Adding linear layer for 10-class classification problem\n",
    "net.add_module('classifier', nn.Sequential(nn.Linear(400, 10),nn.LogSoftmax(dim=1)))\n",
    "print(net)\n",
    "net = net.double().to(device)"
   ]
  },
  {
   "cell_type": "markdown",
   "metadata": {},
   "source": [
    "## Train Classifier:"
   ]
  },
  {
   "cell_type": "code",
   "execution_count": null,
   "metadata": {},
   "outputs": [],
   "source": [
    "iterations = 10\n",
    "learning_rate = 0.1\n",
    "criterion = nn.NLLLoss()\n",
    "\n",
    "for epoch in range(iterations):  # loop over the dataset multiple times\n",
    "\n",
    "    runningLoss = 0.0\n",
    "    net.train()\n",
    "    for i, data in enumerate(trainloader, 0):\n",
    "        # get the inputs\n",
    "        inputs, labels = data\n",
    "        \n",
    "        inputs, labels = inputs.view(-1, 28*28).double().to(device), labels.to(device)\n",
    "\n",
    "        net.zero_grad()  # zeroes the gradient buffers of all parameters\n",
    "        outputs = net(inputs) # forward \n",
    "        loss = criterion(outputs, labels) # calculate loss\n",
    "        loss.backward() #  backpropagate the loss\n",
    "        for f in net.parameters():\n",
    "            f.data.sub_(f.grad.data * learning_rate) # weight = weight - learning_rate * gradient (Update Weights)\n",
    "        runningLoss += loss.item()\n",
    "        correct = 0\n",
    "        total = 0\n",
    "    net.eval()\n",
    "    with torch.no_grad():\n",
    "        for data in testloader:\n",
    "            inputs, labels = data\n",
    "            inputs, labels = inputs.view(-1, 28*28).double().to(device), labels.to(device)\n",
    "            outputs = net(inputs)\n",
    "            _, predicted = torch.max(outputs.data, 1)\n",
    "            total += labels.size(0)\n",
    "            correct += (predicted == labels).sum()\n",
    "    print('At Iteration : %d / %d  ;  Train Error : %f ;Test Accuracy : %f'%(epoch + 1,iterations,\n",
    "                                                                        runningLoss/(60000/BatchSize),100 * float(correct) /float(total)))\n",
    "print('Finished Training')"
   ]
  },
  {
   "cell_type": "markdown",
   "metadata": {},
   "source": [
    "## Performance of different Classes:"
   ]
  },
  {
   "cell_type": "code",
   "execution_count": null,
   "metadata": {},
   "outputs": [],
   "source": [
    "class_correct = list(0. for i in range(10))\n",
    "class_total = list(0. for i in range(10))\n",
    "net.eval()\n",
    "with torch.no_grad():\n",
    "    for data in testloader:\n",
    "        images, labels = data\n",
    "        outputs = net(images.view(-1, 28*28).double().to(device))\n",
    "        _, predicted = torch.max(outputs.data, 1)\n",
    "        if use_gpu:\n",
    "            predicted = predicted.cpu()\n",
    "            \n",
    "        c = (predicted == labels).squeeze()\n",
    "        for i in range(BatchSize):\n",
    "            label = labels[i]\n",
    "            class_correct[label] += float(c[i])\n",
    "            class_total[label] += 1\n",
    "\n",
    "for i in range(10):\n",
    "    print('Accuracy of %5s : %f %%' % (\n",
    "        classes[i], 100 * class_correct[i] / float(class_total[i])))"
   ]
  },
  {
   "cell_type": "code",
   "execution_count": null,
   "metadata": {},
   "outputs": [],
   "source": []
  }
 ],
 "metadata": {
  "kernelspec": {
   "display_name": "Python 3",
   "language": "python",
   "name": "python3"
  },
  "language_info": {
   "codemirror_mode": {
    "name": "ipython",
    "version": 3
   },
   "file_extension": ".py",
   "mimetype": "text/x-python",
   "name": "python",
   "nbconvert_exporter": "python",
   "pygments_lexer": "ipython3",
   "version": "3.6.5"
  }
 },
 "nbformat": 4,
 "nbformat_minor": 2
}
