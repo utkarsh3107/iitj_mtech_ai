{
 "cells": [
  {
   "cell_type": "markdown",
   "metadata": {},
   "source": [
    "# Lecture 59: Activity recognition using 3D-CNN"
   ]
  },
  {
   "cell_type": "markdown",
   "metadata": {},
   "source": [
    "#### Dataset: [UCF101](https://www.crcv.ucf.edu/research/data-sets/ucf101/)"
   ]
  },
  {
   "cell_type": "code",
   "execution_count": null,
   "metadata": {},
   "outputs": [],
   "source": [
    "%matplotlib inline\n",
    "import os\n",
    "import copy\n",
    "import time\n",
    "import torch\n",
    "import numpy as np\n",
    "import torch.nn as nn\n",
    "from random import shuffle\n",
    "import torch.optim as optim\n",
    "import torch.nn.functional as F\n",
    "import matplotlib.pyplot as plt\n",
    "from torchvision import transforms,datasets, models\n",
    "\n",
    "print(torch.__version__) # This code has been updated for PyTorch 1.0.0"
   ]
  },
  {
   "cell_type": "markdown",
   "metadata": {},
   "source": [
    "### Create train  and test list"
   ]
  },
  {
   "cell_type": "code",
   "execution_count": null,
   "metadata": {},
   "outputs": [],
   "source": [
    "# Directory containing tensor of frames for each video\n",
    "trainPath = 'ucf101_vidTensors/train/'\n",
    "testPath = 'ucf101_vidTensors/test/'"
   ]
  },
  {
   "cell_type": "code",
   "execution_count": null,
   "metadata": {},
   "outputs": [],
   "source": [
    "# Preparing train list\n",
    "classes = os.listdir(trainPath)\n",
    "classes.sort()\n",
    "labels = np.arange(5)\n",
    "trainShuffList = []\n",
    "labelShuffList = []\n",
    "for c in range(5):\n",
    "    files = os.listdir(trainPath+classes[c])\n",
    "    for f in files:\n",
    "        trainShuffList.append(classes[c]+'/'+f)  \n",
    "        labelShuffList.append(float(labels[c]))\n",
    "trainList = list(zip(trainShuffList, labelShuffList))\n",
    "shuffle(trainList)\n",
    "trainShuffList, labelShuffList = zip(*trainList)"
   ]
  },
  {
   "cell_type": "code",
   "execution_count": null,
   "metadata": {},
   "outputs": [],
   "source": [
    "# Preparing test list\n",
    "testList = []\n",
    "testLabelList = []\n",
    "for c in range(5):\n",
    "    files = os.listdir(testPath+classes[c])\n",
    "    for f in files:\n",
    "        testList.append(classes[c]+'/'+f)  \n",
    "        testLabelList.append(float(labels[c]))"
   ]
  },
  {
   "cell_type": "markdown",
   "metadata": {},
   "source": [
    "## Define network architecture"
   ]
  },
  {
   "cell_type": "code",
   "execution_count": null,
   "metadata": {
    "scrolled": true
   },
   "outputs": [],
   "source": [
    "class net_3DCNN(nn.Module):\n",
    "    def __init__(self):\n",
    "        super(net_3DCNN, self).__init__()   \n",
    "        self.conv1 = nn.Conv3d(3, 16, kernel_size=5)   \n",
    "        self.pool1 = nn.MaxPool3d(kernel_size=2,stride=2)\n",
    "        self.conv2 = nn.Conv3d(16, 32, kernel_size=3) \n",
    "        self.pool2 = nn.MaxPool3d(kernel_size=2,stride=2)\n",
    "        self.conv3 = nn.Conv3d(32, 32, kernel_size=3) \n",
    "        self.pool3 = nn.AvgPool3d(kernel_size=4)   \n",
    "        self.fc    = nn.Linear(32*13*13,5)   \n",
    "    \n",
    "    def forward(self, x):        \n",
    "        x = F.relu(self.conv1(x),inplace=True)\n",
    "        x = self.pool1(x)\n",
    "        x = F.relu(self.conv2(x),inplace=True)\n",
    "        x = self.pool2(x)\n",
    "        x = F.relu(self.conv3(x),inplace=True)\n",
    "        x = self.pool3(x)        \n",
    "        x = self.fc(x.view(x.size(0),-1))\n",
    "        return x"
   ]
  },
  {
   "cell_type": "markdown",
   "metadata": {},
   "source": [
    "## Define train routine"
   ]
  },
  {
   "cell_type": "code",
   "execution_count": null,
   "metadata": {},
   "outputs": [],
   "source": [
    "def train(net, inputs, labels, optimizer, criterion):\n",
    "    net.train()\n",
    "    inputs, labels = inputs.float().to(device), labels.to(device)    \n",
    "    outputs = net(inputs)\n",
    "#     print(outputs.size())\n",
    "    _, predicted = torch.max(outputs.data, 1)     \n",
    "    # Initialize gradients to zero\n",
    "    optimizer.zero_grad() \n",
    "    # Compute loss/error\n",
    "    loss = criterion(F.log_softmax(outputs,dim=1), labels)\n",
    "    # Backpropagate loss and compute gradients\n",
    "    loss.backward()\n",
    "    # Update the network parameters\n",
    "    optimizer.step()\n",
    "    correct = (predicted == labels.data).sum()\n",
    "    return net, loss.item(), correct    "
   ]
  },
  {
   "cell_type": "markdown",
   "metadata": {},
   "source": [
    "## Define test routine"
   ]
  },
  {
   "cell_type": "code",
   "execution_count": null,
   "metadata": {},
   "outputs": [],
   "source": [
    "def test(net, inputs, labels, criterion):\n",
    "    net.eval()\n",
    "    inputs, labels = inputs.to(device), labels.to(device)\n",
    "    with torch.no_grad:\n",
    "        outputs = net(inputs)\n",
    "#     print(outputs.size())\n",
    "    _, predicted = torch.max(outputs.data, 1)  \n",
    "    # Compute loss/error\n",
    "    loss = criterion(F.log_softmax(outputs,dim=1), labels)       \n",
    "    correct = (predicted == labels.data).sum()\n",
    "    return loss.item(), correct\n",
    "    "
   ]
  },
  {
   "cell_type": "markdown",
   "metadata": {},
   "source": [
    "### Initialize network"
   ]
  },
  {
   "cell_type": "code",
   "execution_count": null,
   "metadata": {},
   "outputs": [],
   "source": [
    "net = net_3DCNN()\n",
    "print(net)"
   ]
  },
  {
   "cell_type": "code",
   "execution_count": null,
   "metadata": {},
   "outputs": [],
   "source": [
    "# Check availability of GPU\n",
    "\n",
    "use_gpu = torch.cuda.is_available()\n",
    "# use_gpu = False # Uncomment in case of GPU memory error\n",
    "if use_gpu:\n",
    "    print('GPU is available!')\n",
    "    device = \"cuda\"\n",
    "else:\n",
    "    print('GPU is not available!')\n",
    "    device = \"cpu\"\n",
    "    \n",
    "net = net.to(device)"
   ]
  },
  {
   "cell_type": "markdown",
   "metadata": {},
   "source": [
    "## Define loss function and optimizer"
   ]
  },
  {
   "cell_type": "code",
   "execution_count": null,
   "metadata": {},
   "outputs": [],
   "source": [
    "criterion = nn.NLLLoss() # Negative Log-likelihood\n",
    "optimizer = optim.Adam(net.parameters(), lr=1e-4) # Adam"
   ]
  },
  {
   "cell_type": "markdown",
   "metadata": {},
   "source": [
    "## Train the network"
   ]
  },
  {
   "cell_type": "code",
   "execution_count": null,
   "metadata": {
    "scrolled": true
   },
   "outputs": [],
   "source": [
    "epochs = 10\n",
    "bSize = 32\n",
    "L = 32 # Depth/ no. of frames per video\n",
    "bCount = len(trainShuffList)//bSize\n",
    "lastBatch = len(trainShuffList)%bSize\n",
    "\n",
    "test_bCount = len(testList)//bSize\n",
    "test_lastBatch = len(testList)%bSize\n",
    "\n",
    "trainLoss = []\n",
    "trainAcc = []\n",
    "testLoss = []\n",
    "testAcc = []\n",
    "\n",
    "for epochNum in range(epochs):\n",
    "    trainList = list(zip(trainShuffList, labelShuffList))\n",
    "    shuffle(trainList)\n",
    "    trainShuffList, labelShuffList = zip(*trainList)\n",
    "    trainRunLoss = 0.0\n",
    "    testRunLoss = 0.0\n",
    "    trainRunCorr = 0\n",
    "    testRunCorr = 0\n",
    "    epochStart = time.time()\n",
    "    \n",
    "    ## Train the network\n",
    "    # Load data tensors batchwise     \n",
    "    idx = 0        \n",
    "    for bNum in range(bCount):\n",
    "        first = True\n",
    "        for dNum in range(idx,idx+bSize):\n",
    "            if first:\n",
    "                loadData = torch.load(trainPath+trainShuffList[dNum])\n",
    "                sz = loadData.size(1)\n",
    "                idx1 = torch.from_numpy(np.arange(0,(sz//L)*L,sz//L))\n",
    "                batchData = torch.index_select(loadData,dim=1,index=idx1).unsqueeze(0)\n",
    "                batchLabel = torch.Tensor([labelShuffList[dNum]]).long()                          \n",
    "                first = False                \n",
    "            else:\n",
    "                loadData = torch.load(trainPath+trainShuffList[dNum])\n",
    "                sz = loadData.size(1)\n",
    "                idx1 = torch.from_numpy(np.arange(0,(sz//L)*L,sz//L))\n",
    "                tempData = torch.index_select(loadData,dim=1,index=idx1).unsqueeze(0)\n",
    "                batchData = torch.cat((batchData,tempData), dim=0)\n",
    "                batchLabel = torch.cat((batchLabel,torch.Tensor([labelShuffList[dNum]]).long()),dim=0)            \n",
    "        \n",
    "        net, tr_loss, tr_corr = train(net, batchData, batchLabel, optimizer, criterion)\n",
    "        trainRunLoss += tr_loss\n",
    "        trainRunCorr += tr_corr\n",
    "        idx += bSize\n",
    "    if lastBatch != 0:        \n",
    "        first = True\n",
    "        for dNum in range(idx,idx+lastBatch):\n",
    "            if first:\n",
    "                loadData = torch.load(trainPath+trainShuffList[dNum])\n",
    "                sz = loadData.size(1)\n",
    "                idx1 = torch.from_numpy(np.arange(0,(sz//L)*L,sz//L))\n",
    "                batchData = torch.index_select(loadData,dim=1,index=idx1).unsqueeze(0)\n",
    "                batchLabel = torch.Tensor([labelShuffList[dNum]]).long()\n",
    "                first = False                \n",
    "            else:\n",
    "                loadData = torch.load(trainPath+trainShuffList[dNum])\n",
    "                sz = loadData.size(1)\n",
    "                idx1 = torch.from_numpy(np.arange(0,(sz//L)*L,sz//L))\n",
    "                tempData = torch.index_select(loadData,dim=1,index=idx1).unsqueeze(0)\n",
    "                batchData = torch.cat((batchData,tempData), dim=0)\n",
    "                batchLabel = torch.cat((batchLabel,torch.Tensor([labelShuffList[dNum]]).long()),dim=0)          \n",
    "        net, tr_loss, tr_corr = train(net, batchData, batchLabel, optimizer, criterion)\n",
    "        trainRunLoss += tr_loss\n",
    "        trainRunCorr += tr_corr\n",
    "    avgTrainLoss = trainRunLoss/float(bCount)\n",
    "    trainLoss.append(avgTrainLoss)\n",
    "    avgTrainAcc = 100*float(trainRunCorr)/float(len(trainShuffList))\n",
    "    trainAcc.append(avgTrainAcc)\n",
    "    \n",
    "    # Test the network\n",
    "#     Load data tensors batchwise     \n",
    "    idx = 0    \n",
    "    for bNum in range(test_bCount):\n",
    "        first = True\n",
    "        for dNum in range(idx,idx+bSize): \n",
    "            if first:\n",
    "                loadData = torch.load(testPath+testList[dNum])\n",
    "                sz = loadData.size(1)\n",
    "                idx1 = torch.from_numpy(np.arange(0,(sz//L)*L,sz//L))\n",
    "                batchData = torch.index_select(loadData,dim=1,index=idx1).unsqueeze(0)\n",
    "                batchLabel = torch.Tensor([testLabelList[dNum]]).long()\n",
    "                first = False                \n",
    "            else:\n",
    "                loadData = torch.load(testPath+testList[dNum])\n",
    "                sz = loadData.size(1)\n",
    "                idx1 = torch.from_numpy(np.arange(0,(sz//L)*L,sz//L))\n",
    "                tempData = torch.index_select(loadData,dim=1,index=idx1).unsqueeze(0)\n",
    "                batchData = torch.cat((batchData,tempData), dim=0)\n",
    "                batchLabel = torch.cat((batchLabel,torch.Tensor([testLabelList[dNum]]).long()),dim=0)            \n",
    "        ts_loss, ts_corr = test(net, batchData, batchLabel, criterion)\n",
    "        testRunLoss += ts_loss\n",
    "        testRunCorr += ts_corr\n",
    "        idx += bSize\n",
    "    if test_lastBatch != 0:        \n",
    "        first = True\n",
    "        for dNum in range(idx,idx+test_lastBatch):\n",
    "            if first:\n",
    "                loadData = torch.load(testPath+testList[dNum])\n",
    "                sz = loadData.size(1)\n",
    "                idx1 = torch.from_numpy(np.arange(0,(sz//L)*L,sz//L))\n",
    "                batchData = torch.index_select(loadData,dim=1,index=idx1).unsqueeze(0)               \n",
    "                batchLabel = torch.Tensor([testLabelList[dNum]]).long()\n",
    "                first = False                \n",
    "            else:\n",
    "                loadData = torch.load(testPath+testList[dNum])\n",
    "                sz = loadData.size(1)\n",
    "                idx1 = torch.from_numpy(np.arange(0,(sz//L)*L,sz//L))\n",
    "                tempData = torch.index_select(loadData,dim=1,index=idx1).unsqueeze(0)\n",
    "                batchData = torch.cat((batchData,tempData), dim=0)\n",
    "                batchLabel = torch.cat((batchLabel,torch.Tensor([testLabelList[dNum]]).long()),dim=0)          \n",
    "        ts_loss, ts_corr = test(net, batchData, batchLabel, criterion)\n",
    "        testRunLoss += ts_loss\n",
    "        testRunCorr += tr_corr\n",
    "    avgTestLoss = testRunLoss/float(test_bCount)\n",
    "    testLoss.append(avgTestLoss)\n",
    "    avgTestAcc = 100*float(testRunCorr)/float(len(testList))\n",
    "    testAcc.append(avgTestAcc)\n",
    "        \n",
    "    # Plotting training loss vs Epochs\n",
    "    fig1 = plt.figure(1)        \n",
    "    plt.plot(range(epochNum+1),trainLoss,'r-',label='train')  \n",
    "    plt.plot(range(epochNum+1),testLoss,'g-',label='test') \n",
    "    if epochNum==0:\n",
    "        plt.legend(loc='upper left')\n",
    "        plt.xlabel('Epochs')\n",
    "        plt.ylabel('Loss')   \n",
    "    # Plotting testing accuracy vs Epochs\n",
    "    fig2 = plt.figure(2)        \n",
    "    plt.plot(range(epochNum+1),trainAcc,'r-',label='train')    \n",
    "    plt.plot(range(epochNum+1),testAcc,'g-',label='test')        \n",
    "    if epochNum==0:\n",
    "        plt.legend(loc='upper left')\n",
    "        plt.xlabel('Epochs')\n",
    "        plt.ylabel('Accuracy')\n",
    "    \n",
    "    epochEnd = time.time()-epochStart\n",
    "    print('Iteration: {:.0f} /{:.0f};  Training Loss: {:.6f} ; Training Acc: {:.3f}'\\\n",
    "          .format(epochNum + 1,epochs, avgTrainLoss, avgTrainAcc))\n",
    "    print('Iteration: {:.0f} /{:.0f};  Testing Loss: {:.6f} ; Testing Acc: {:.3f}'\\\n",
    "          .format(epochNum + 1,epochs, avgTestLoss, avgTestAcc))\n",
    "    \n",
    "    print('Time consumed: {:.0f}m {:.0f}s'.format(epochEnd//60,epochEnd%60))\n",
    "        "
   ]
  },
  {
   "cell_type": "code",
   "execution_count": null,
   "metadata": {},
   "outputs": [],
   "source": []
  }
 ],
 "metadata": {
  "kernelspec": {
   "display_name": "Python 3",
   "language": "python",
   "name": "python3"
  },
  "language_info": {
   "codemirror_mode": {
    "name": "ipython",
    "version": 3
   },
   "file_extension": ".py",
   "mimetype": "text/x-python",
   "name": "python",
   "nbconvert_exporter": "python",
   "pygments_lexer": "ipython3",
   "version": "3.6.5"
  }
 },
 "nbformat": 4,
 "nbformat_minor": 2
}
