{
 "cells": [
  {
   "cell_type": "markdown",
   "metadata": {},
   "source": [
    "# Lecture 60: Activity recognition using CNN-LSTM\n",
    "## 60b: Feature extraction using CNN"
   ]
  },
  {
   "cell_type": "code",
   "execution_count": null,
   "metadata": {},
   "outputs": [],
   "source": [
    "import os\n",
    "import pickle\n",
    "import torch\n",
    "import numpy as np\n",
    "import torch.nn as nn\n",
    "from PIL import Image\n",
    "from torchvision import models, transforms,datasets\n",
    "\n",
    "print(torch.__version__) # This code has been updated for PyTorch 1.0.0"
   ]
  },
  {
   "cell_type": "code",
   "execution_count": null,
   "metadata": {},
   "outputs": [],
   "source": [
    "# Check availability of GPU\n",
    "\n",
    "use_gpu = torch.cuda.is_available()\n",
    "# use_gpu = False # Uncomment in case of GPU memory error\n",
    "if use_gpu:\n",
    "    print('GPU is available!')\n",
    "    device = \"cuda\"\n",
    "else:\n",
    "    print('GPU is not available!')\n",
    "    device = \"cpu\""
   ]
  },
  {
   "cell_type": "code",
   "execution_count": null,
   "metadata": {},
   "outputs": [],
   "source": [
    "# Load train-test list\n",
    "with open('trainList_5class.pckl','rb') as f:\n",
    "    trainList = pickle.load(f)\n",
    "with open('testList_5class.pckl','rb') as f:\n",
    "    testList = pickle.load(f)"
   ]
  },
  {
   "cell_type": "code",
   "execution_count": null,
   "metadata": {},
   "outputs": [],
   "source": [
    "classes = []\n",
    "for item in trainList:\n",
    "    c = item.split('_')[1]\n",
    "    if c not in classes:\n",
    "        classes.append(c)\n",
    "print(classes)"
   ]
  },
  {
   "cell_type": "markdown",
   "metadata": {},
   "source": [
    "### Initialize network and load trained weights"
   ]
  },
  {
   "cell_type": "code",
   "execution_count": null,
   "metadata": {},
   "outputs": [],
   "source": [
    "net = models.resnet18()\n",
    "net.fc = nn.Linear(512,5)\n",
    "# Loading saved states\n",
    "net.load_state_dict(torch.load('resnet18Pre_fcOnly5class_ucf101_10adam_1e-4_b128.pt'))\n",
    "# Removing fully connected layer for feature extraction\n",
    "model = nn.Sequential(*list(net.children())[:-1]).to(device)"
   ]
  },
  {
   "cell_type": "markdown",
   "metadata": {},
   "source": [
    "### Feature extraction"
   ]
  },
  {
   "cell_type": "code",
   "execution_count": null,
   "metadata": {},
   "outputs": [],
   "source": [
    "# PIL image to tensor transformation\n",
    "data_transforms = transforms.Compose([\n",
    "        transforms.Resize(256),\n",
    "        transforms.CenterCrop(224),            \n",
    "        transforms.ToTensor()\n",
    "    ])"
   ]
  },
  {
   "cell_type": "code",
   "execution_count": null,
   "metadata": {
    "scrolled": true
   },
   "outputs": [],
   "source": [
    "framePath = 'frames/'\n",
    "for item in trainList:\n",
    "    cName = item.split('_')[1]\n",
    "    srcPath = framePath+cName+'/'+item    \n",
    "    fNames = os.listdir(srcPath)\n",
    "    # filename template\n",
    "    fTemplate = fNames[0].split('_')\n",
    "    fCount = len(fNames)\n",
    "    for fNum in range(fCount):\n",
    "        fileName = fTemplate[0]+'_'+fTemplate[1]+'_'+fTemplate[2]+'_'+fTemplate[3]+'_'+str(fNum+1)+'.jpg'\n",
    "        if os.path.exists(srcPath+'/'+fileName):\n",
    "            # Loading image\n",
    "            img = Image.open(srcPath+'/'+fileName)\n",
    "            # Transform to tensor\n",
    "            imgTensor = data_transforms(img).unsqueeze(0)\n",
    "            inp = imgTensor.to(device)\n",
    "            # Feed-forward through model+stack features for each video\n",
    "            if fNum == 0:\n",
    "                out = model(inp)               \n",
    "                if use_gpu:\n",
    "                    out = out.cpu()\n",
    "                out = out.view(out.size()[0],-1).data             \n",
    "            else:\n",
    "                out1 = model(inp)               \n",
    "                if use_gpu:\n",
    "                    out1 = out1.cpu()\n",
    "                out1 = out1.view(out1.size()[0],-1).data.cpu()                \n",
    "                out = torch.cat((out,out1),0)\n",
    "        else:\n",
    "            print(fileName+ ' missing!')       \n",
    "    # out dimension -> frame count x 512\n",
    "    featSavePath = 'ucf101_resnet18Feat/train/'+cName # Directory for saving features\n",
    "    if not os.path.exists(featSavePath):\n",
    "        os.makedirs(featSavePath)\n",
    "    torch.save(out,os.path.join(featSavePath,item+'.pt'))   \n",
    "    "
   ]
  },
  {
   "cell_type": "code",
   "execution_count": null,
   "metadata": {
    "scrolled": true
   },
   "outputs": [],
   "source": [
    "framePath = 'frames/'\n",
    "for item in testList:\n",
    "    cName = item.split('_')[1]\n",
    "    srcPath = framePath+cName+'/'+item    \n",
    "    fNames = os.listdir(srcPath)\n",
    "    fTemplate = fNames[0].split('_')\n",
    "    fCount = len(fNames)\n",
    "    for fNum in range(fCount):\n",
    "        fileName = fTemplate[0]+'_'+fTemplate[1]+'_'+fTemplate[2]+'_'+fTemplate[3]+'_'+str(fNum+1)+'.jpg'\n",
    "        if os.path.exists(srcPath+'/'+fileName):\n",
    "            img = Image.open(srcPath+'/'+fileName)\n",
    "            imgTensor = data_transforms(img).unsqueeze(0)\n",
    "            inp = imgTensor.to(device)\n",
    "            if fNum == 0:\n",
    "                out = model(inp) \n",
    "                if use_gpu:\n",
    "                    out = out.cpu()\n",
    "                out = out.view(out.size()[0],-1).data               \n",
    "            else:\n",
    "                out1 = model(inp) \n",
    "                if use_gpu:\n",
    "                    out1 = out1.cpu()\n",
    "                out1 = out1.view(out1.size()[0],-1).data                \n",
    "                out = torch.cat((out,out1),0)\n",
    "        else:\n",
    "            print(fileName+ ' missing!')\n",
    "      \n",
    "    featSavePath = 'ucf101_resnet18Feat/test/'+cName\n",
    "    if not os.path.exists(featSavePath):\n",
    "        os.makedirs(featSavePath)\n",
    "    torch.save(out,os.path.join(featSavePath,item+'.pt'))   "
   ]
  },
  {
   "cell_type": "code",
   "execution_count": null,
   "metadata": {},
   "outputs": [],
   "source": []
  }
 ],
 "metadata": {
  "kernelspec": {
   "display_name": "Python 3",
   "language": "python",
   "name": "python3"
  },
  "language_info": {
   "codemirror_mode": {
    "name": "ipython",
    "version": 3
   },
   "file_extension": ".py",
   "mimetype": "text/x-python",
   "name": "python",
   "nbconvert_exporter": "python",
   "pygments_lexer": "ipython3",
   "version": "3.6.5"
  }
 },
 "nbformat": 4,
 "nbformat_minor": 1
}
