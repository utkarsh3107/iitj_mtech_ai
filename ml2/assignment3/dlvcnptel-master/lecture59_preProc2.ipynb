{
 "cells": [
  {
   "cell_type": "markdown",
   "metadata": {},
   "source": [
    "# Lecture 59: Activity recognition using 3D-CNN"
   ]
  },
  {
   "cell_type": "markdown",
   "metadata": {},
   "source": [
    "## Saving frames of videos as pytorch tensors"
   ]
  },
  {
   "cell_type": "code",
   "execution_count": null,
   "metadata": {},
   "outputs": [],
   "source": [
    "import os\n",
    "import torch\n",
    "import pickle\n",
    "from PIL import Image\n",
    "from torchvision import transforms"
   ]
  },
  {
   "cell_type": "code",
   "execution_count": null,
   "metadata": {},
   "outputs": [],
   "source": [
    "# Load train-test list\n",
    "with open('trainList_5class.pckl','rb') as f:\n",
    "    trainList = pickle.load(f)\n",
    "with open('testList_5class.pckl','rb') as f:\n",
    "    testList = pickle.load(f)"
   ]
  },
  {
   "cell_type": "code",
   "execution_count": null,
   "metadata": {},
   "outputs": [],
   "source": [
    "# Printing classes\n",
    "classes = []\n",
    "for item in trainList:\n",
    "    c = item.split('_')[1]\n",
    "    if c not in classes:\n",
    "        classes.append(c)\n",
    "print(classes)"
   ]
  },
  {
   "cell_type": "code",
   "execution_count": null,
   "metadata": {},
   "outputs": [],
   "source": [
    "# PIL image to pytorch tensor transformation\n",
    "data_transforms = transforms.Compose([\n",
    "        transforms.Resize(256),\n",
    "        transforms.CenterCrop(224),            \n",
    "        transforms.ToTensor()])"
   ]
  },
  {
   "cell_type": "code",
   "execution_count": null,
   "metadata": {
    "scrolled": true
   },
   "outputs": [],
   "source": [
    "framePath = 'frames/' # Directory containing the frames\n",
    "# Pack frames of to single tensor per video\n",
    "for item in trainList:\n",
    "    cName = item.split('_')[1]\n",
    "    srcPath = framePath+cName+'/'+item    \n",
    "    fNames = os.listdir(srcPath)\n",
    "    fTemplate = fNames[0].split('_')\n",
    "    fCount = len(fNames)\n",
    "    for fNum in range(fCount):\n",
    "        fileName = fTemplate[0]+'_'+fTemplate[1]+'_'+fTemplate[2]+'_'+fTemplate[3]+'_'+str(fNum+1)+'.jpg'\n",
    "        if os.path.exists(srcPath+'/'+fileName):\n",
    "            # Load image\n",
    "            img = Image.open(srcPath+'/'+fileName) \n",
    "            # Transform to tensor\n",
    "            imgTensor = data_transforms(img).unsqueeze(1)                              \n",
    "            # Stack tensors per video. trainTensor dimension: 3xframe_countx224x224\n",
    "            if fNum == 0:\n",
    "                trainTensor = imgTensor                \n",
    "            else:\n",
    "                trainTensor = torch.cat((trainTensor,imgTensor),1)\n",
    "        else:\n",
    "            print(fileName+ ' missing!')  \n",
    "        \n",
    "    # Directory structure: ucf101_vidTensors --> train-> class name -> tensors\n",
    "    tensorSavePath = 'ucf101_vidTensors/train/'+cName\n",
    "    if not os.path.exists(tensorSavePath):\n",
    "        os.makedirs(tensorSavePath)\n",
    "    torch.save(trainTensor,os.path.join(tensorSavePath,item+'.pt'))   \n",
    "    "
   ]
  },
  {
   "cell_type": "code",
   "execution_count": null,
   "metadata": {
    "scrolled": true
   },
   "outputs": [],
   "source": [
    "# Pack frames of to single tensor per video\n",
    "for item in testList:\n",
    "    cName = item.split('_')[1]\n",
    "    srcPath = framePath+cName+'/'+item    \n",
    "    fNames = os.listdir(srcPath)\n",
    "    fTemplate = fNames[0].split('_')\n",
    "    fCount = len(fNames)\n",
    "    for fNum in range(fCount):\n",
    "        fileName = fTemplate[0]+'_'+fTemplate[1]+'_'+fTemplate[2]+'_'+fTemplate[3]+'_'+str(fNum+1)+'.jpg'\n",
    "        if os.path.exists(srcPath+'/'+fileName):\n",
    "            # Load image\n",
    "            img = Image.open(srcPath+'/'+fileName)\n",
    "             # Transform to tensor\n",
    "            imgTensor = data_transforms(img).unsqueeze(1)             \n",
    "            # Stack tensors per video. testTensor dimension: 3xframe_countx224x224\n",
    "            if fNum == 0:\n",
    "                testTensor = imgTensor                \n",
    "            else:\n",
    "                testTensor = torch.cat((testTensor,imgTensor),1)\n",
    "        else:\n",
    "            print(fileName+ ' missing!')       \n",
    "        \n",
    "    # Directory structure: ucf101_vidTensors --> train-> class name -> tensors\n",
    "    tensorSavePath = 'ucf101_vidTensors/test/'+cName\n",
    "    if not os.path.exists(tensorSavePath):\n",
    "        os.makedirs(tensorSavePath)\n",
    "    torch.save(testTensor,os.path.join(tensorSavePath,item+'.pt'))   \n",
    "   "
   ]
  },
  {
   "cell_type": "code",
   "execution_count": null,
   "metadata": {},
   "outputs": [],
   "source": []
  }
 ],
 "metadata": {
  "kernelspec": {
   "display_name": "Python 3",
   "language": "python",
   "name": "python3"
  },
  "language_info": {
   "codemirror_mode": {
    "name": "ipython",
    "version": 3
   },
   "file_extension": ".py",
   "mimetype": "text/x-python",
   "name": "python",
   "nbconvert_exporter": "python",
   "pygments_lexer": "ipython3",
   "version": "3.6.5"
  }
 },
 "nbformat": 4,
 "nbformat_minor": 1
}
