{
 "cells": [
  {
   "cell_type": "code",
   "execution_count": 10,
   "metadata": {
    "id": "CPsb0jPuuA0Z"
   },
   "outputs": [],
   "source": [
    "import pandas as pd\n",
    "import numpy as np"
   ]
  },
  {
   "cell_type": "markdown",
   "metadata": {
    "colab": {
     "base_uri": "https://localhost:8080/",
     "height": 375
    },
    "id": "ziOQq11lCXcQ",
    "outputId": "b6c29b94-9c5c-4962-91f4-c3b6bb8a5760"
   },
   "source": [
    "from google.colab import files\n",
    "Files=files.upload()"
   ]
  },
  {
   "cell_type": "code",
   "execution_count": 11,
   "metadata": {
    "id": "pW6xcl51CiMs"
   },
   "outputs": [],
   "source": [
    "Data=pd.read_csv(\"Predictive_Maintenance.csv\")\n",
    "#data=pd.read_excel(\"Final Data g colab and minitab.XLSX\")"
   ]
  },
  {
   "cell_type": "code",
   "execution_count": 12,
   "metadata": {
    "colab": {
     "base_uri": "https://localhost:8080/",
     "height": 510
    },
    "id": "kNYHUxT5DvVT",
    "outputId": "82003fe7-9aa5-41dc-8b18-9f5a17772913"
   },
   "outputs": [
    {
     "data": {
      "text/html": [
       "<div>\n",
       "<style scoped>\n",
       "    .dataframe tbody tr th:only-of-type {\n",
       "        vertical-align: middle;\n",
       "    }\n",
       "\n",
       "    .dataframe tbody tr th {\n",
       "        vertical-align: top;\n",
       "    }\n",
       "\n",
       "    .dataframe thead th {\n",
       "        text-align: right;\n",
       "    }\n",
       "</style>\n",
       "<table border=\"1\" class=\"dataframe\">\n",
       "  <thead>\n",
       "    <tr style=\"text-align: right;\">\n",
       "      <th></th>\n",
       "      <th>UDI</th>\n",
       "      <th>Product ID</th>\n",
       "      <th>Type</th>\n",
       "      <th>Air temperature [K]</th>\n",
       "      <th>Process temperature [K]</th>\n",
       "      <th>Rotational speed [rpm]</th>\n",
       "      <th>Torque [Nm]</th>\n",
       "      <th>Tool wear [min]</th>\n",
       "      <th>Machine failure</th>\n",
       "      <th>Useful life</th>\n",
       "      <th>ToolWearFailure</th>\n",
       "      <th>HeatDiscipationFailure</th>\n",
       "      <th>PowerFailure</th>\n",
       "      <th>OverstrainFailure</th>\n",
       "      <th>RandomFailure</th>\n",
       "    </tr>\n",
       "  </thead>\n",
       "  <tbody>\n",
       "    <tr>\n",
       "      <th>0</th>\n",
       "      <td>51</td>\n",
       "      <td>L47230</td>\n",
       "      <td>L</td>\n",
       "      <td>298.9</td>\n",
       "      <td>309.1</td>\n",
       "      <td>2861</td>\n",
       "      <td>4.6</td>\n",
       "      <td>143</td>\n",
       "      <td>1</td>\n",
       "      <td>1943.9</td>\n",
       "      <td>0</td>\n",
       "      <td>0</td>\n",
       "      <td>1</td>\n",
       "      <td>0</td>\n",
       "      <td>0</td>\n",
       "    </tr>\n",
       "    <tr>\n",
       "      <th>1</th>\n",
       "      <td>70</td>\n",
       "      <td>L47249</td>\n",
       "      <td>L</td>\n",
       "      <td>298.9</td>\n",
       "      <td>309.0</td>\n",
       "      <td>1410</td>\n",
       "      <td>65.7</td>\n",
       "      <td>191</td>\n",
       "      <td>1</td>\n",
       "      <td>493.1</td>\n",
       "      <td>0</td>\n",
       "      <td>0</td>\n",
       "      <td>1</td>\n",
       "      <td>1</td>\n",
       "      <td>0</td>\n",
       "    </tr>\n",
       "    <tr>\n",
       "      <th>2</th>\n",
       "      <td>78</td>\n",
       "      <td>L47257</td>\n",
       "      <td>L</td>\n",
       "      <td>298.8</td>\n",
       "      <td>308.9</td>\n",
       "      <td>1455</td>\n",
       "      <td>41.3</td>\n",
       "      <td>208</td>\n",
       "      <td>1</td>\n",
       "      <td>538.4</td>\n",
       "      <td>1</td>\n",
       "      <td>0</td>\n",
       "      <td>0</td>\n",
       "      <td>0</td>\n",
       "      <td>0</td>\n",
       "    </tr>\n",
       "    <tr>\n",
       "      <th>3</th>\n",
       "      <td>161</td>\n",
       "      <td>L47340</td>\n",
       "      <td>L</td>\n",
       "      <td>298.4</td>\n",
       "      <td>308.2</td>\n",
       "      <td>1282</td>\n",
       "      <td>60.7</td>\n",
       "      <td>216</td>\n",
       "      <td>1</td>\n",
       "      <td>367.2</td>\n",
       "      <td>0</td>\n",
       "      <td>0</td>\n",
       "      <td>0</td>\n",
       "      <td>1</td>\n",
       "      <td>0</td>\n",
       "    </tr>\n",
       "    <tr>\n",
       "      <th>4</th>\n",
       "      <td>162</td>\n",
       "      <td>L47341</td>\n",
       "      <td>L</td>\n",
       "      <td>298.3</td>\n",
       "      <td>308.1</td>\n",
       "      <td>1412</td>\n",
       "      <td>52.3</td>\n",
       "      <td>218</td>\n",
       "      <td>1</td>\n",
       "      <td>497.5</td>\n",
       "      <td>0</td>\n",
       "      <td>0</td>\n",
       "      <td>0</td>\n",
       "      <td>1</td>\n",
       "      <td>0</td>\n",
       "    </tr>\n",
       "    <tr>\n",
       "      <th>...</th>\n",
       "      <td>...</td>\n",
       "      <td>...</td>\n",
       "      <td>...</td>\n",
       "      <td>...</td>\n",
       "      <td>...</td>\n",
       "      <td>...</td>\n",
       "      <td>...</td>\n",
       "      <td>...</td>\n",
       "      <td>...</td>\n",
       "      <td>...</td>\n",
       "      <td>...</td>\n",
       "      <td>...</td>\n",
       "      <td>...</td>\n",
       "      <td>...</td>\n",
       "      <td>...</td>\n",
       "    </tr>\n",
       "    <tr>\n",
       "      <th>9995</th>\n",
       "      <td>9996</td>\n",
       "      <td>M24855</td>\n",
       "      <td>M</td>\n",
       "      <td>298.8</td>\n",
       "      <td>308.4</td>\n",
       "      <td>1604</td>\n",
       "      <td>29.5</td>\n",
       "      <td>14</td>\n",
       "      <td>0</td>\n",
       "      <td>0.0</td>\n",
       "      <td>0</td>\n",
       "      <td>0</td>\n",
       "      <td>0</td>\n",
       "      <td>0</td>\n",
       "      <td>0</td>\n",
       "    </tr>\n",
       "    <tr>\n",
       "      <th>9996</th>\n",
       "      <td>9997</td>\n",
       "      <td>H39410</td>\n",
       "      <td>H</td>\n",
       "      <td>298.9</td>\n",
       "      <td>308.4</td>\n",
       "      <td>1632</td>\n",
       "      <td>31.8</td>\n",
       "      <td>17</td>\n",
       "      <td>0</td>\n",
       "      <td>0.0</td>\n",
       "      <td>0</td>\n",
       "      <td>0</td>\n",
       "      <td>0</td>\n",
       "      <td>0</td>\n",
       "      <td>0</td>\n",
       "    </tr>\n",
       "    <tr>\n",
       "      <th>9997</th>\n",
       "      <td>9998</td>\n",
       "      <td>M24857</td>\n",
       "      <td>M</td>\n",
       "      <td>299.0</td>\n",
       "      <td>308.6</td>\n",
       "      <td>1645</td>\n",
       "      <td>33.4</td>\n",
       "      <td>22</td>\n",
       "      <td>0</td>\n",
       "      <td>0.0</td>\n",
       "      <td>0</td>\n",
       "      <td>0</td>\n",
       "      <td>0</td>\n",
       "      <td>0</td>\n",
       "      <td>0</td>\n",
       "    </tr>\n",
       "    <tr>\n",
       "      <th>9998</th>\n",
       "      <td>9999</td>\n",
       "      <td>H39412</td>\n",
       "      <td>H</td>\n",
       "      <td>299.0</td>\n",
       "      <td>308.7</td>\n",
       "      <td>1408</td>\n",
       "      <td>48.5</td>\n",
       "      <td>25</td>\n",
       "      <td>0</td>\n",
       "      <td>0.0</td>\n",
       "      <td>0</td>\n",
       "      <td>0</td>\n",
       "      <td>0</td>\n",
       "      <td>0</td>\n",
       "      <td>0</td>\n",
       "    </tr>\n",
       "    <tr>\n",
       "      <th>9999</th>\n",
       "      <td>10000</td>\n",
       "      <td>M24859</td>\n",
       "      <td>M</td>\n",
       "      <td>299.0</td>\n",
       "      <td>308.7</td>\n",
       "      <td>1500</td>\n",
       "      <td>40.2</td>\n",
       "      <td>30</td>\n",
       "      <td>0</td>\n",
       "      <td>0.0</td>\n",
       "      <td>0</td>\n",
       "      <td>0</td>\n",
       "      <td>0</td>\n",
       "      <td>0</td>\n",
       "      <td>0</td>\n",
       "    </tr>\n",
       "  </tbody>\n",
       "</table>\n",
       "<p>10000 rows × 15 columns</p>\n",
       "</div>"
      ],
      "text/plain": [
       "        UDI Product ID Type  Air temperature [K]  Process temperature [K]  \\\n",
       "0        51     L47230    L                298.9                    309.1   \n",
       "1        70     L47249    L                298.9                    309.0   \n",
       "2        78     L47257    L                298.8                    308.9   \n",
       "3       161     L47340    L                298.4                    308.2   \n",
       "4       162     L47341    L                298.3                    308.1   \n",
       "...     ...        ...  ...                  ...                      ...   \n",
       "9995   9996     M24855    M                298.8                    308.4   \n",
       "9996   9997     H39410    H                298.9                    308.4   \n",
       "9997   9998     M24857    M                299.0                    308.6   \n",
       "9998   9999     H39412    H                299.0                    308.7   \n",
       "9999  10000     M24859    M                299.0                    308.7   \n",
       "\n",
       "      Rotational speed [rpm]  Torque [Nm]  Tool wear [min]  Machine failure  \\\n",
       "0                       2861          4.6              143                1   \n",
       "1                       1410         65.7              191                1   \n",
       "2                       1455         41.3              208                1   \n",
       "3                       1282         60.7              216                1   \n",
       "4                       1412         52.3              218                1   \n",
       "...                      ...          ...              ...              ...   \n",
       "9995                    1604         29.5               14                0   \n",
       "9996                    1632         31.8               17                0   \n",
       "9997                    1645         33.4               22                0   \n",
       "9998                    1408         48.5               25                0   \n",
       "9999                    1500         40.2               30                0   \n",
       "\n",
       "      Useful life  ToolWearFailure  HeatDiscipationFailure  PowerFailure  \\\n",
       "0          1943.9                0                       0             1   \n",
       "1           493.1                0                       0             1   \n",
       "2           538.4                1                       0             0   \n",
       "3           367.2                0                       0             0   \n",
       "4           497.5                0                       0             0   \n",
       "...           ...              ...                     ...           ...   \n",
       "9995          0.0                0                       0             0   \n",
       "9996          0.0                0                       0             0   \n",
       "9997          0.0                0                       0             0   \n",
       "9998          0.0                0                       0             0   \n",
       "9999          0.0                0                       0             0   \n",
       "\n",
       "      OverstrainFailure  RandomFailure  \n",
       "0                     0              0  \n",
       "1                     1              0  \n",
       "2                     0              0  \n",
       "3                     1              0  \n",
       "4                     1              0  \n",
       "...                 ...            ...  \n",
       "9995                  0              0  \n",
       "9996                  0              0  \n",
       "9997                  0              0  \n",
       "9998                  0              0  \n",
       "9999                  0              0  \n",
       "\n",
       "[10000 rows x 15 columns]"
      ]
     },
     "execution_count": 12,
     "metadata": {},
     "output_type": "execute_result"
    }
   ],
   "source": [
    "Data"
   ]
  },
  {
   "cell_type": "code",
   "execution_count": 13,
   "metadata": {
    "id": "gnR6o_MVEl4H"
   },
   "outputs": [],
   "source": [
    "CatVar =  ['Type']\n",
    "Data= pd.get_dummies(Data, columns = CatVar, drop_first=False)"
   ]
  },
  {
   "cell_type": "code",
   "execution_count": 14,
   "metadata": {
    "id": "sKSdKqL8hGz2"
   },
   "outputs": [],
   "source": [
    "Data_MLR=Data.loc[Data['Machine failure'] == 1]"
   ]
  },
  {
   "cell_type": "code",
   "execution_count": 15,
   "metadata": {
    "id": "uLTTpLVUFDI1"
   },
   "outputs": [],
   "source": [
    "Data_Cl=Data"
   ]
  },
  {
   "cell_type": "code",
   "execution_count": 16,
   "metadata": {
    "colab": {
     "base_uri": "https://localhost:8080/",
     "height": 206
    },
    "id": "4llNNq7IhYOV",
    "outputId": "91e8bb33-64f6-404d-de1c-1b913a9efe4e"
   },
   "outputs": [
    {
     "data": {
      "text/html": [
       "<div>\n",
       "<style scoped>\n",
       "    .dataframe tbody tr th:only-of-type {\n",
       "        vertical-align: middle;\n",
       "    }\n",
       "\n",
       "    .dataframe tbody tr th {\n",
       "        vertical-align: top;\n",
       "    }\n",
       "\n",
       "    .dataframe thead th {\n",
       "        text-align: right;\n",
       "    }\n",
       "</style>\n",
       "<table border=\"1\" class=\"dataframe\">\n",
       "  <thead>\n",
       "    <tr style=\"text-align: right;\">\n",
       "      <th></th>\n",
       "      <th>UDI</th>\n",
       "      <th>Product ID</th>\n",
       "      <th>Air temperature [K]</th>\n",
       "      <th>Process temperature [K]</th>\n",
       "      <th>Rotational speed [rpm]</th>\n",
       "      <th>Torque [Nm]</th>\n",
       "      <th>Tool wear [min]</th>\n",
       "      <th>Machine failure</th>\n",
       "      <th>Useful life</th>\n",
       "      <th>ToolWearFailure</th>\n",
       "      <th>HeatDiscipationFailure</th>\n",
       "      <th>PowerFailure</th>\n",
       "      <th>OverstrainFailure</th>\n",
       "      <th>RandomFailure</th>\n",
       "      <th>Type_H</th>\n",
       "      <th>Type_L</th>\n",
       "      <th>Type_M</th>\n",
       "    </tr>\n",
       "  </thead>\n",
       "  <tbody>\n",
       "    <tr>\n",
       "      <th>0</th>\n",
       "      <td>51</td>\n",
       "      <td>L47230</td>\n",
       "      <td>298.9</td>\n",
       "      <td>309.1</td>\n",
       "      <td>2861</td>\n",
       "      <td>4.6</td>\n",
       "      <td>143</td>\n",
       "      <td>1</td>\n",
       "      <td>1943.9</td>\n",
       "      <td>0</td>\n",
       "      <td>0</td>\n",
       "      <td>1</td>\n",
       "      <td>0</td>\n",
       "      <td>0</td>\n",
       "      <td>0</td>\n",
       "      <td>1</td>\n",
       "      <td>0</td>\n",
       "    </tr>\n",
       "    <tr>\n",
       "      <th>1</th>\n",
       "      <td>70</td>\n",
       "      <td>L47249</td>\n",
       "      <td>298.9</td>\n",
       "      <td>309.0</td>\n",
       "      <td>1410</td>\n",
       "      <td>65.7</td>\n",
       "      <td>191</td>\n",
       "      <td>1</td>\n",
       "      <td>493.1</td>\n",
       "      <td>0</td>\n",
       "      <td>0</td>\n",
       "      <td>1</td>\n",
       "      <td>1</td>\n",
       "      <td>0</td>\n",
       "      <td>0</td>\n",
       "      <td>1</td>\n",
       "      <td>0</td>\n",
       "    </tr>\n",
       "  </tbody>\n",
       "</table>\n",
       "</div>"
      ],
      "text/plain": [
       "   UDI Product ID  Air temperature [K]  Process temperature [K]  \\\n",
       "0   51     L47230                298.9                    309.1   \n",
       "1   70     L47249                298.9                    309.0   \n",
       "\n",
       "   Rotational speed [rpm]  Torque [Nm]  Tool wear [min]  Machine failure  \\\n",
       "0                    2861          4.6              143                1   \n",
       "1                    1410         65.7              191                1   \n",
       "\n",
       "   Useful life  ToolWearFailure  HeatDiscipationFailure  PowerFailure  \\\n",
       "0       1943.9                0                       0             1   \n",
       "1        493.1                0                       0             1   \n",
       "\n",
       "   OverstrainFailure  RandomFailure  Type_H  Type_L  Type_M  \n",
       "0                  0              0       0       1       0  \n",
       "1                  1              0       0       1       0  "
      ]
     },
     "execution_count": 16,
     "metadata": {},
     "output_type": "execute_result"
    }
   ],
   "source": [
    "Data_MLR.head(2)"
   ]
  },
  {
   "cell_type": "code",
   "execution_count": 17,
   "metadata": {
    "id": "x6hHwcdrI2Wi"
   },
   "outputs": [],
   "source": [
    "X=Data[[\"Air temperature [K]\", \"Process temperature [K]\", \"Rotational speed [rpm]\", \"Torque [Nm]\", \"Tool wear [min]\",\"Type_H\", \"Type_M\"]]\n",
    "#x=data[[\"Area\"]]\n",
    "#x=data[[\"BHK\"]]\n",
    "Y=Data[\"Machine failure\"]"
   ]
  },
  {
   "cell_type": "code",
   "execution_count": 18,
   "metadata": {
    "id": "2Yeq4NYMI9nr"
   },
   "outputs": [],
   "source": [
    "from imblearn.over_sampling import SMOTE\n",
    "#oversampler=SMOTE(k_neighbors=4)\n",
    "#X1, Y1 = oversampler.fit_resample(X, Y)"
   ]
  },
  {
   "cell_type": "code",
   "execution_count": 19,
   "metadata": {
    "id": "tJA3LTtkI9IN"
   },
   "outputs": [],
   "source": [
    "# Splitting the dataset into the Training set and Test set\n",
    "from sklearn.model_selection import train_test_split\n",
    "X_train, X_test, y_train, y_test = train_test_split(X, Y, test_size = 0.2, random_state = 42)"
   ]
  },
  {
   "cell_type": "code",
   "execution_count": 20,
   "metadata": {
    "colab": {
     "base_uri": "https://localhost:8080/"
    },
    "id": "ccHG6EXoG_yj",
    "outputId": "1e2a8f4c-6b3f-4987-903f-9be0ddc949a6"
   },
   "outputs": [
    {
     "name": "stdout",
     "output_type": "stream",
     "text": [
      "              precision    recall  f1-score   support\n",
      "\n",
      "           0       0.98      0.67      0.80      1926\n",
      "           1       0.07      0.62      0.12        74\n",
      "\n",
      "    accuracy                           0.67      2000\n",
      "   macro avg       0.52      0.65      0.46      2000\n",
      "weighted avg       0.95      0.67      0.77      2000\n",
      "\n"
     ]
    }
   ],
   "source": [
    "# Multinomial Naive Bayes\n",
    "from sklearn.naive_bayes import MultinomialNB\n",
    "classifier = MultinomialNB()\n",
    "classifier.fit(X_train, y_train)# Predicting the Test set results\n",
    "y_pred = classifier.predict(X_test)\n",
    "from sklearn.metrics import classification_report\n",
    "print(classification_report(y_test,y_pred))"
   ]
  },
  {
   "cell_type": "code",
   "execution_count": 21,
   "metadata": {
    "colab": {
     "base_uri": "https://localhost:8080/"
    },
    "id": "WGi74NfSG_gT",
    "outputId": "28bbac00-59eb-43d8-da53-2ed0d9116eeb"
   },
   "outputs": [
    {
     "name": "stdout",
     "output_type": "stream",
     "text": [
      "              precision    recall  f1-score   support\n",
      "\n",
      "           0       0.96      1.00      0.98      1926\n",
      "           1       0.00      0.00      0.00        74\n",
      "\n",
      "    accuracy                           0.96      2000\n",
      "   macro avg       0.48      0.50      0.49      2000\n",
      "weighted avg       0.93      0.96      0.94      2000\n",
      "\n"
     ]
    },
    {
     "name": "stderr",
     "output_type": "stream",
     "text": [
      "/opt/anaconda3/envs/python3_9_16/lib/python3.9/site-packages/sklearn/metrics/_classification.py:1344: UndefinedMetricWarning: Precision and F-score are ill-defined and being set to 0.0 in labels with no predicted samples. Use `zero_division` parameter to control this behavior.\n",
      "  _warn_prf(average, modifier, msg_start, len(result))\n",
      "/opt/anaconda3/envs/python3_9_16/lib/python3.9/site-packages/sklearn/metrics/_classification.py:1344: UndefinedMetricWarning: Precision and F-score are ill-defined and being set to 0.0 in labels with no predicted samples. Use `zero_division` parameter to control this behavior.\n",
      "  _warn_prf(average, modifier, msg_start, len(result))\n",
      "/opt/anaconda3/envs/python3_9_16/lib/python3.9/site-packages/sklearn/metrics/_classification.py:1344: UndefinedMetricWarning: Precision and F-score are ill-defined and being set to 0.0 in labels with no predicted samples. Use `zero_division` parameter to control this behavior.\n",
      "  _warn_prf(average, modifier, msg_start, len(result))\n"
     ]
    }
   ],
   "source": [
    "# Bernoulli NB\n",
    "from sklearn.naive_bayes import BernoulliNB\n",
    "classifier = BernoulliNB()\n",
    "classifier.fit(X_train, y_train)\n",
    "y_pred = classifier.predict(X_test)\n",
    "from sklearn.metrics import classification_report\n",
    "print(classification_report(y_test,y_pred))"
   ]
  },
  {
   "cell_type": "code",
   "execution_count": 22,
   "metadata": {
    "colab": {
     "base_uri": "https://localhost:8080/"
    },
    "id": "qxAxg6-9G_JU",
    "outputId": "fb8472a7-632a-483c-b4e7-c0fe48da0bef"
   },
   "outputs": [
    {
     "name": "stdout",
     "output_type": "stream",
     "text": [
      "              precision    recall  f1-score   support\n",
      "\n",
      "           0       0.96      1.00      0.98      1926\n",
      "           1       0.00      0.00      0.00        74\n",
      "\n",
      "    accuracy                           0.96      2000\n",
      "   macro avg       0.48      0.50      0.49      2000\n",
      "weighted avg       0.93      0.96      0.94      2000\n",
      "\n"
     ]
    },
    {
     "name": "stderr",
     "output_type": "stream",
     "text": [
      "/opt/anaconda3/envs/python3_9_16/lib/python3.9/site-packages/sklearn/metrics/_classification.py:1344: UndefinedMetricWarning: Precision and F-score are ill-defined and being set to 0.0 in labels with no predicted samples. Use `zero_division` parameter to control this behavior.\n",
      "  _warn_prf(average, modifier, msg_start, len(result))\n",
      "/opt/anaconda3/envs/python3_9_16/lib/python3.9/site-packages/sklearn/metrics/_classification.py:1344: UndefinedMetricWarning: Precision and F-score are ill-defined and being set to 0.0 in labels with no predicted samples. Use `zero_division` parameter to control this behavior.\n",
      "  _warn_prf(average, modifier, msg_start, len(result))\n",
      "/opt/anaconda3/envs/python3_9_16/lib/python3.9/site-packages/sklearn/metrics/_classification.py:1344: UndefinedMetricWarning: Precision and F-score are ill-defined and being set to 0.0 in labels with no predicted samples. Use `zero_division` parameter to control this behavior.\n",
      "  _warn_prf(average, modifier, msg_start, len(result))\n"
     ]
    }
   ],
   "source": [
    "# Logistic Regression\n",
    "from sklearn.linear_model import LogisticRegression\n",
    "classifier.fit(X_train, y_train)\n",
    "\n",
    "# Predicting the Test set results\n",
    "y_pred = classifier.predict(X_test)\n",
    "from sklearn.metrics import classification_report\n",
    "print(classification_report(y_test,y_pred))"
   ]
  },
  {
   "cell_type": "code",
   "execution_count": 23,
   "metadata": {
    "colab": {
     "base_uri": "https://localhost:8080/"
    },
    "id": "PcYVvlX4Hysk",
    "outputId": "b64f03b7-350f-48d3-dba6-2596c8e862ef"
   },
   "outputs": [
    {
     "name": "stdout",
     "output_type": "stream",
     "text": [
      "              precision    recall  f1-score   support\n",
      "\n",
      "           0       0.96      1.00      0.98      1926\n",
      "           1       0.00      0.00      0.00        74\n",
      "\n",
      "    accuracy                           0.96      2000\n",
      "   macro avg       0.48      0.50      0.49      2000\n",
      "weighted avg       0.93      0.96      0.94      2000\n",
      "\n"
     ]
    },
    {
     "name": "stderr",
     "output_type": "stream",
     "text": [
      "/opt/anaconda3/envs/python3_9_16/lib/python3.9/site-packages/sklearn/metrics/_classification.py:1344: UndefinedMetricWarning: Precision and F-score are ill-defined and being set to 0.0 in labels with no predicted samples. Use `zero_division` parameter to control this behavior.\n",
      "  _warn_prf(average, modifier, msg_start, len(result))\n",
      "/opt/anaconda3/envs/python3_9_16/lib/python3.9/site-packages/sklearn/metrics/_classification.py:1344: UndefinedMetricWarning: Precision and F-score are ill-defined and being set to 0.0 in labels with no predicted samples. Use `zero_division` parameter to control this behavior.\n",
      "  _warn_prf(average, modifier, msg_start, len(result))\n",
      "/opt/anaconda3/envs/python3_9_16/lib/python3.9/site-packages/sklearn/metrics/_classification.py:1344: UndefinedMetricWarning: Precision and F-score are ill-defined and being set to 0.0 in labels with no predicted samples. Use `zero_division` parameter to control this behavior.\n",
      "  _warn_prf(average, modifier, msg_start, len(result))\n"
     ]
    }
   ],
   "source": [
    "from sklearn import svm\n",
    "classifier = svm.SVC()\n",
    "classifier.fit(X_train, y_train)\n",
    "\n",
    "# Predicting the Test set results\n",
    "y_pred = classifier.predict(X_test)\n",
    "from sklearn.metrics import classification_report\n",
    "print(classification_report(y_test,y_pred))"
   ]
  },
  {
   "cell_type": "code",
   "execution_count": 24,
   "metadata": {
    "colab": {
     "base_uri": "https://localhost:8080/"
    },
    "id": "XmW0mr2AHybI",
    "outputId": "26bd636c-9607-4a02-f5b1-f2dba3013c51"
   },
   "outputs": [
    {
     "name": "stdout",
     "output_type": "stream",
     "text": [
      "              precision    recall  f1-score   support\n",
      "\n",
      "           0       0.97      1.00      0.99      1926\n",
      "           1       0.84      0.28      0.42        74\n",
      "\n",
      "    accuracy                           0.97      2000\n",
      "   macro avg       0.91      0.64      0.70      2000\n",
      "weighted avg       0.97      0.97      0.96      2000\n",
      "\n"
     ]
    }
   ],
   "source": [
    "from sklearn.neighbors import KNeighborsClassifier\n",
    "classifier = KNeighborsClassifier(n_neighbors=7)\n",
    "\n",
    "classifier.fit(X_train, y_train)\n",
    "\n",
    "# Predicting the Test set results\n",
    "y_pred = classifier.predict(X_test)\n",
    "\n",
    "from sklearn.metrics import classification_report\n",
    "print(classification_report(y_test,y_pred))"
   ]
  },
  {
   "cell_type": "code",
   "execution_count": null,
   "metadata": {
    "colab": {
     "base_uri": "https://localhost:8080/"
    },
    "id": "rYbYDvZ9HyNw",
    "outputId": "27b2c51d-98e2-4e30-ea74-a29a89a6e43f"
   },
   "outputs": [],
   "source": [
    "!pip install sklearn.trees"
   ]
  },
  {
   "cell_type": "code",
   "execution_count": null,
   "metadata": {
    "colab": {
     "base_uri": "https://localhost:8080/"
    },
    "id": "q6APuJdIG-fi",
    "outputId": "f9fecf6e-67b6-4dc7-ea36-247c0c42a2e0"
   },
   "outputs": [],
   "source": [
    "from sklearn.ensemble import RandomForestClassifier\n",
    "clf = RandomForestClassifier(n_estimators = 100)\n",
    "clf.fit(X_train, y_train)\n",
    "y_pred = clf.predict(X_test)\n",
    "from sklearn.metrics import classification_report\n",
    "print(classification_report(y_test,y_pred))"
   ]
  },
  {
   "cell_type": "code",
   "execution_count": null,
   "metadata": {
    "id": "cBdMX6WaH9c-"
   },
   "outputs": [],
   "source": [
    "X2=Data_MLR[[\"Air temperature [K]\", \"Process temperature [K]\", \"Rotational speed [rpm]\", \"Torque [Nm]\", \"Tool wear [min]\",\"Type_H\", \"Type_M\"]]\n",
    "#x=data[[\"Area\"]]\n",
    "#x=data[[\"BHK\"]]\n",
    "Y2=Data_MLR[\"Useful life\"]"
   ]
  },
  {
   "cell_type": "code",
   "execution_count": null,
   "metadata": {
    "id": "H_NZtM0lG9c8"
   },
   "outputs": [],
   "source": [
    "# Splitting the dataset into the Training set and Test set\n",
    "from sklearn.model_selection import train_test_split\n",
    "X_train, X_test, y_train, y_test = train_test_split(X2, Y2, test_size = 0.2, random_state = 42)"
   ]
  },
  {
   "cell_type": "code",
   "execution_count": null,
   "metadata": {
    "colab": {
     "base_uri": "https://localhost:8080/"
    },
    "id": "q1DhcPxBs__m",
    "outputId": "1c640abf-47c7-4d44-e643-382647fd1fa8"
   },
   "outputs": [],
   "source": [
    "from sklearn.linear_model import LinearRegression\n",
    "MLR=LinearRegression().fit(X_train,y_train)\n",
    "print(MLR.intercept_)\n",
    "print(MLR.coef_)"
   ]
  },
  {
   "cell_type": "code",
   "execution_count": null,
   "metadata": {
    "colab": {
     "base_uri": "https://localhost:8080/"
    },
    "id": "WR6t1w7vq8Ix",
    "outputId": "b2766a2e-1fc7-4672-c284-1b536e9f9f42"
   },
   "outputs": [],
   "source": [
    "\n",
    "import statsmodels.api as sm\n",
    "import pandas as pd\n",
    "\n",
    "# adding the constant term\n",
    "\n",
    "# performing the regression\n",
    "# and fitting the model\n",
    "result = sm.OLS(y_train, X_train).fit()\n",
    "\n",
    "# printing the summary table\n",
    "print(result.summary())"
   ]
  },
  {
   "cell_type": "code",
   "execution_count": null,
   "metadata": {
    "colab": {
     "base_uri": "https://localhost:8080/"
    },
    "id": "CjxuW9ZZtJ9B",
    "outputId": "f5df7bf8-52c8-4aac-9eac-538ae9cfd6bd"
   },
   "outputs": [],
   "source": [
    "result.predict(X_test)"
   ]
  },
  {
   "cell_type": "code",
   "execution_count": null,
   "metadata": {
    "id": "8Y0H8Urvrs1-"
   },
   "outputs": [],
   "source": []
  },
  {
   "cell_type": "code",
   "execution_count": null,
   "metadata": {
    "id": "NK_G3yXRrsoK"
   },
   "outputs": [],
   "source": []
  },
  {
   "cell_type": "code",
   "execution_count": null,
   "metadata": {
    "id": "y0JkLGQzrsaY"
   },
   "outputs": [],
   "source": []
  },
  {
   "cell_type": "code",
   "execution_count": null,
   "metadata": {
    "id": "w1jEOLiErsON"
   },
   "outputs": [],
   "source": []
  },
  {
   "cell_type": "code",
   "execution_count": null,
   "metadata": {
    "id": "5YBf2mSUrsBV"
   },
   "outputs": [],
   "source": []
  },
  {
   "cell_type": "code",
   "execution_count": null,
   "metadata": {
    "id": "FY72znPprrx7"
   },
   "outputs": [],
   "source": []
  },
  {
   "cell_type": "code",
   "execution_count": null,
   "metadata": {
    "id": "ZMEghLOLrrkO"
   },
   "outputs": [],
   "source": []
  },
  {
   "cell_type": "code",
   "execution_count": null,
   "metadata": {
    "colab": {
     "base_uri": "https://localhost:8080/",
     "height": 347
    },
    "id": "7930tbnrKO-z",
    "outputId": "e6cd0031-91e4-4b16-b49a-219c44293107"
   },
   "outputs": [],
   "source": [
    "from pysurvival.utils.display import integrated_brier_score\n",
    "integrated_brier_score(linear_mtlr, X_test, T_test, E_test, t_max=100,\n",
    "                       figure_size=(20, 6.5) )"
   ]
  },
  {
   "cell_type": "code",
   "execution_count": null,
   "metadata": {
    "colab": {
     "base_uri": "https://localhost:8080/",
     "height": 444
    },
    "id": "OPCRZbZwKPk2",
    "outputId": "be70b144-b8dc-464f-c016-f926cadb89cb"
   },
   "outputs": [],
   "source": [
    "from pysurvival.utils.display import compare_to_actual\n",
    "results = compare_to_actual(linear_mtlr, X_test, T_test, E_test,\n",
    "                            is_at_risk = False,  figure_size=(16, 6),\n",
    "                            metrics = ['rmse', 'mean', 'median'])\n"
   ]
  },
  {
   "cell_type": "code",
   "execution_count": null,
   "metadata": {
    "id": "GtGktrICKQSK"
   },
   "outputs": [],
   "source": []
  },
  {
   "cell_type": "code",
   "execution_count": null,
   "metadata": {
    "colab": {
     "base_uri": "https://localhost:8080/",
     "height": 444
    },
    "id": "weO-XuYoJiUH",
    "outputId": "df1eb415-232b-49a3-e7e2-b8fe855d95cf"
   },
   "outputs": [],
   "source": [
    "from pysurvival.utils.display import compare_to_actual\n",
    "results = compare_to_actual(linear_mtlr, X_test, T_test, E_test,\n",
    "                            is_at_risk = False,  figure_size=(16, 6),\n",
    "                            metrics = ['rmse', 'mean', 'median'])"
   ]
  },
  {
   "cell_type": "code",
   "execution_count": null,
   "metadata": {
    "colab": {
     "base_uri": "https://localhost:8080/",
     "height": 605
    },
    "id": "OWvgmRdDJMVx",
    "outputId": "745c4fea-5ea5-4e55-a2d6-30c21ae35dcc"
   },
   "outputs": [],
   "source": [
    "from pysurvival.utils.display import create_risk_groups\n",
    "\n",
    "risk_groups = create_risk_groups(model=linear_mtlr, X=X_test,\n",
    "    use_log = True, num_bins=50, figure_size=(20, 4),\n",
    "    low= {'lower_bound':0, 'upper_bound':1.8, 'color':'red'},\n",
    "    medium= {'lower_bound': 1.8, 'upper_bound':1.93, 'color':'green'},\n",
    "    high= {'lower_bound':1.93, 'upper_bound':2.1, 'color':'blue'}\n",
    "    )"
   ]
  },
  {
   "cell_type": "code",
   "execution_count": null,
   "metadata": {
    "colab": {
     "base_uri": "https://localhost:8080/",
     "height": 705
    },
    "id": "0XUrzkTVFpcp",
    "outputId": "eaf5cbc1-f871-4a38-af9d-36e4e672d292"
   },
   "outputs": [],
   "source": [
    "# Initializing the figure\n",
    "fig, ax = plt.subplots(figsize=(15, 8))\n",
    "\n",
    "# Selecting a random individual that experienced failure from each group\n",
    "groups = []\n",
    "for i, (label, (color, indexes)) in enumerate(risk_groups.items()) :\n",
    "\n",
    "    # Selecting the individuals that belong to this group\n",
    "    if len(indexes) == 0 :\n",
    "        continue\n",
    "    X = X_test.values[indexes, :]\n",
    "    T = T_test.values[indexes]\n",
    "    E = E_test.values[indexes]\n",
    "\n",
    "    # Randomly extracting a machine that experienced failure from each group\n",
    "    choices = np.argwhere((E==1.)).flatten()\n",
    "    if len(choices) == 0 :\n",
    "        continue\n",
    "    k = np.random.choice( choices, 1)[0]\n",
    "\n",
    "    # Saving the time of event\n",
    "    t = T[k]\n",
    "\n",
    "    # Computing the Survival function for all times t\n",
    "    survival = linear_mtlr.predict_survival(X[k, :]).flatten()\n",
    "\n",
    "    # Displaying the functions\n",
    "    label_ = '{} risk'.format(label)\n",
    "    plt.plot(linear_mtlr.times, survival, color = color, label=label_, lw=2)\n",
    "    groups.append(label)\n",
    "\n",
    "    # Actual time\n",
    "    plt.axvline(x=t, color=color, ls ='--')\n",
    "    ax.annotate('T={:.1f}'.format(t), xy=(t, 0.5*(1.+0.2*i)),\n",
    "        xytext=(t, 0.5*(1.+0.2*i)), fontsize=12)\n",
    "\n",
    "# Show everything\n",
    "groups_str = ', '.join(groups)\n",
    "title = \"Comparing Survival functions between {} risk grades\".format(groups_str)\n",
    "plt.legend(fontsize=12)\n",
    "plt.title(title, fontsize=15)\n",
    "plt.ylim(0, 1.05)\n",
    "plt.show()"
   ]
  },
  {
   "cell_type": "code",
   "execution_count": null,
   "metadata": {
    "id": "xak4gdnAJEEj"
   },
   "outputs": [],
   "source": []
  }
 ],
 "metadata": {
  "colab": {
   "provenance": []
  },
  "kernelspec": {
   "display_name": "Python 3 (ipykernel)",
   "language": "python",
   "name": "python3"
  },
  "language_info": {
   "codemirror_mode": {
    "name": "ipython",
    "version": 3
   },
   "file_extension": ".py",
   "mimetype": "text/x-python",
   "name": "python",
   "nbconvert_exporter": "python",
   "pygments_lexer": "ipython3",
   "version": "3.9.16"
  }
 },
 "nbformat": 4,
 "nbformat_minor": 1
}
