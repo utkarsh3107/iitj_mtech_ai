{
 "cells": [
  {
   "cell_type": "markdown",
   "metadata": {
    "execution": {
     "iopub.execute_input": "2022-04-14T06:19:35.58154Z",
     "iopub.status.busy": "2022-04-14T06:19:35.581315Z",
     "iopub.status.idle": "2022-04-14T06:19:35.595449Z",
     "shell.execute_reply": "2022-04-14T06:19:35.594268Z",
     "shell.execute_reply.started": "2022-04-14T06:19:35.581518Z"
    }
   },
   "source": [
    "# **Introduction**\n",
    "\n",
    "Dota2 is one the most famous online games. There are a lot champions or heroes in the game. Heroes have properties like strength,ability,intelligent,health.Hence, we \n",
    "can make and analyze them and extrapolate a conclusion.\n",
    "\n",
    "<font color = 'blue'> \n",
    "Content:\n",
    "   \n",
    "1.[What kind of hereos we have](#1)\n",
    "    \n",
    "2.[Which kind has how many heroes are there in kinds?](#2) \n",
    "\n",
    "3.[Category of hereos?](#3) \n",
    "\n",
    "4.[Compare The Tank and Attacker Champions Properties](#4)\n",
    "    \n",
    "5.[Basic Analysis in Properties](#5)"
   ]
  },
  {
   "cell_type": "code",
   "execution_count": 12,
   "metadata": {
    "_cell_guid": "b1076dfc-b9ad-4769-8c92-a6c4dae69d19",
    "_uuid": "8f2839f25d086af736a60e9eeb907d3b93b6e0e5",
    "execution": {
     "iopub.execute_input": "2022-04-18T16:14:43.728892Z",
     "iopub.status.busy": "2022-04-18T16:14:43.728346Z",
     "iopub.status.idle": "2022-04-18T16:14:44.792989Z",
     "shell.execute_reply": "2022-04-18T16:14:44.792005Z",
     "shell.execute_reply.started": "2022-04-18T16:14:43.728782Z"
    }
   },
   "outputs": [
    {
     "name": "stderr",
     "output_type": "stream",
     "text": [
      "/var/folders/k2/p_937gq11md2dyq_pjv1qn200000gp/T/ipykernel_1955/1609478287.py:8: MatplotlibDeprecationWarning: The seaborn styles shipped by Matplotlib are deprecated since 3.6, as they no longer correspond to the styles shipped by seaborn. However, they will remain available as 'seaborn-v0_8-<style>'. Alternatively, directly use the seaborn API instead.\n",
      "  plt.style.use(\"seaborn-whitegrid\")\n"
     ]
    }
   ],
   "source": [
    "# This Python 3 environment comes with many helpful analytics libraries installed\n",
    "# It is defined by the kaggle/python Docker image: https://github.com/kaggle/docker-python\n",
    "# For example, here's several helpful packages to load\n",
    "\n",
    "import numpy as np # linear algebra\n",
    "import pandas as pd # data processing, CSV file I/O (e.g. pd.read_csv)\n",
    "import matplotlib.pyplot as plt\n",
    "plt.style.use(\"seaborn-whitegrid\")\n",
    "import seaborn as sns\n",
    "# Input data files are available in the read-only \"../input/\" directory\n",
    "# For example, running this (by clicking run or pressing Shift+Enter) will list all files under the input directory\n",
    "\n",
    "import os\n",
    "for dirname, _, filenames in os.walk('/kaggle/input'):\n",
    "    for filename in filenames:\n",
    "        print(os.path.join(dirname, filename))\n",
    "\n",
    "# You can write up to 20GB to the current directory (/kaggle/working/) that gets preserved as output when you create a version using \"Save & Run All\" \n",
    "# You can also write temporary files to /kaggle/temp/, but they won't be saved outside of the current session"
   ]
  },
  {
   "cell_type": "code",
   "execution_count": 13,
   "metadata": {
    "execution": {
     "iopub.execute_input": "2022-04-18T16:14:44.794719Z",
     "iopub.status.busy": "2022-04-18T16:14:44.794461Z",
     "iopub.status.idle": "2022-04-18T16:14:44.815158Z",
     "shell.execute_reply": "2022-04-18T16:14:44.814481Z",
     "shell.execute_reply.started": "2022-04-18T16:14:44.794691Z"
    }
   },
   "outputs": [],
   "source": [
    "dt = pd.read_csv(\"/Users/utkarsh/Desktop/study/iitj_mtech_ai/DV/Project/dota_heroes728.csv\")"
   ]
  },
  {
   "cell_type": "code",
   "execution_count": 14,
   "metadata": {
    "execution": {
     "iopub.execute_input": "2022-04-18T16:14:44.816853Z",
     "iopub.status.busy": "2022-04-18T16:14:44.816193Z",
     "iopub.status.idle": "2022-04-18T16:14:44.83675Z",
     "shell.execute_reply": "2022-04-18T16:14:44.835814Z",
     "shell.execute_reply.started": "2022-04-18T16:14:44.816817Z"
    }
   },
   "outputs": [
    {
     "ename": "FileNotFoundError",
     "evalue": "[Errno 2] No such file or directory: '/Users/utkarsh/Desktop/study/iitj_mtech_ai/DV/Project/hero_roles728.csv'",
     "output_type": "error",
     "traceback": [
      "\u001b[0;31m---------------------------------------------------------------------------\u001b[0m",
      "\u001b[0;31mFileNotFoundError\u001b[0m                         Traceback (most recent call last)",
      "Cell \u001b[0;32mIn[14], line 1\u001b[0m\n\u001b[0;32m----> 1\u001b[0m dt2 \u001b[38;5;241m=\u001b[39m \u001b[43mpd\u001b[49m\u001b[38;5;241;43m.\u001b[39;49m\u001b[43mread_csv\u001b[49m\u001b[43m(\u001b[49m\u001b[38;5;124;43m\"\u001b[39;49m\u001b[38;5;124;43m/Users/utkarsh/Desktop/study/iitj_mtech_ai/DV/Project/hero_roles728.csv\u001b[39;49m\u001b[38;5;124;43m\"\u001b[39;49m\u001b[43m)\u001b[49m\n\u001b[1;32m      2\u001b[0m abc \u001b[38;5;241m=\u001b[39m pd\u001b[38;5;241m.\u001b[39mread_csv(\u001b[38;5;124m\"\u001b[39m\u001b[38;5;124m/Users/utkarsh/Desktop/study/iitj_mtech_ai/DV/Project/hero_category728.csv\u001b[39m\u001b[38;5;124m\"\u001b[39m)\n",
      "File \u001b[0;32m/opt/anaconda3/envs/python3_9_16/lib/python3.9/site-packages/pandas/util/_decorators.py:211\u001b[0m, in \u001b[0;36mdeprecate_kwarg.<locals>._deprecate_kwarg.<locals>.wrapper\u001b[0;34m(*args, **kwargs)\u001b[0m\n\u001b[1;32m    209\u001b[0m     \u001b[38;5;28;01melse\u001b[39;00m:\n\u001b[1;32m    210\u001b[0m         kwargs[new_arg_name] \u001b[38;5;241m=\u001b[39m new_arg_value\n\u001b[0;32m--> 211\u001b[0m \u001b[38;5;28;01mreturn\u001b[39;00m \u001b[43mfunc\u001b[49m\u001b[43m(\u001b[49m\u001b[38;5;241;43m*\u001b[39;49m\u001b[43margs\u001b[49m\u001b[43m,\u001b[49m\u001b[43m \u001b[49m\u001b[38;5;241;43m*\u001b[39;49m\u001b[38;5;241;43m*\u001b[39;49m\u001b[43mkwargs\u001b[49m\u001b[43m)\u001b[49m\n",
      "File \u001b[0;32m/opt/anaconda3/envs/python3_9_16/lib/python3.9/site-packages/pandas/util/_decorators.py:331\u001b[0m, in \u001b[0;36mdeprecate_nonkeyword_arguments.<locals>.decorate.<locals>.wrapper\u001b[0;34m(*args, **kwargs)\u001b[0m\n\u001b[1;32m    325\u001b[0m \u001b[38;5;28;01mif\u001b[39;00m \u001b[38;5;28mlen\u001b[39m(args) \u001b[38;5;241m>\u001b[39m num_allow_args:\n\u001b[1;32m    326\u001b[0m     warnings\u001b[38;5;241m.\u001b[39mwarn(\n\u001b[1;32m    327\u001b[0m         msg\u001b[38;5;241m.\u001b[39mformat(arguments\u001b[38;5;241m=\u001b[39m_format_argument_list(allow_args)),\n\u001b[1;32m    328\u001b[0m         \u001b[38;5;167;01mFutureWarning\u001b[39;00m,\n\u001b[1;32m    329\u001b[0m         stacklevel\u001b[38;5;241m=\u001b[39mfind_stack_level(),\n\u001b[1;32m    330\u001b[0m     )\n\u001b[0;32m--> 331\u001b[0m \u001b[38;5;28;01mreturn\u001b[39;00m \u001b[43mfunc\u001b[49m\u001b[43m(\u001b[49m\u001b[38;5;241;43m*\u001b[39;49m\u001b[43margs\u001b[49m\u001b[43m,\u001b[49m\u001b[43m \u001b[49m\u001b[38;5;241;43m*\u001b[39;49m\u001b[38;5;241;43m*\u001b[39;49m\u001b[43mkwargs\u001b[49m\u001b[43m)\u001b[49m\n",
      "File \u001b[0;32m/opt/anaconda3/envs/python3_9_16/lib/python3.9/site-packages/pandas/io/parsers/readers.py:950\u001b[0m, in \u001b[0;36mread_csv\u001b[0;34m(filepath_or_buffer, sep, delimiter, header, names, index_col, usecols, squeeze, prefix, mangle_dupe_cols, dtype, engine, converters, true_values, false_values, skipinitialspace, skiprows, skipfooter, nrows, na_values, keep_default_na, na_filter, verbose, skip_blank_lines, parse_dates, infer_datetime_format, keep_date_col, date_parser, dayfirst, cache_dates, iterator, chunksize, compression, thousands, decimal, lineterminator, quotechar, quoting, doublequote, escapechar, comment, encoding, encoding_errors, dialect, error_bad_lines, warn_bad_lines, on_bad_lines, delim_whitespace, low_memory, memory_map, float_precision, storage_options)\u001b[0m\n\u001b[1;32m    935\u001b[0m kwds_defaults \u001b[38;5;241m=\u001b[39m _refine_defaults_read(\n\u001b[1;32m    936\u001b[0m     dialect,\n\u001b[1;32m    937\u001b[0m     delimiter,\n\u001b[0;32m   (...)\u001b[0m\n\u001b[1;32m    946\u001b[0m     defaults\u001b[38;5;241m=\u001b[39m{\u001b[38;5;124m\"\u001b[39m\u001b[38;5;124mdelimiter\u001b[39m\u001b[38;5;124m\"\u001b[39m: \u001b[38;5;124m\"\u001b[39m\u001b[38;5;124m,\u001b[39m\u001b[38;5;124m\"\u001b[39m},\n\u001b[1;32m    947\u001b[0m )\n\u001b[1;32m    948\u001b[0m kwds\u001b[38;5;241m.\u001b[39mupdate(kwds_defaults)\n\u001b[0;32m--> 950\u001b[0m \u001b[38;5;28;01mreturn\u001b[39;00m \u001b[43m_read\u001b[49m\u001b[43m(\u001b[49m\u001b[43mfilepath_or_buffer\u001b[49m\u001b[43m,\u001b[49m\u001b[43m \u001b[49m\u001b[43mkwds\u001b[49m\u001b[43m)\u001b[49m\n",
      "File \u001b[0;32m/opt/anaconda3/envs/python3_9_16/lib/python3.9/site-packages/pandas/io/parsers/readers.py:605\u001b[0m, in \u001b[0;36m_read\u001b[0;34m(filepath_or_buffer, kwds)\u001b[0m\n\u001b[1;32m    602\u001b[0m _validate_names(kwds\u001b[38;5;241m.\u001b[39mget(\u001b[38;5;124m\"\u001b[39m\u001b[38;5;124mnames\u001b[39m\u001b[38;5;124m\"\u001b[39m, \u001b[38;5;28;01mNone\u001b[39;00m))\n\u001b[1;32m    604\u001b[0m \u001b[38;5;66;03m# Create the parser.\u001b[39;00m\n\u001b[0;32m--> 605\u001b[0m parser \u001b[38;5;241m=\u001b[39m \u001b[43mTextFileReader\u001b[49m\u001b[43m(\u001b[49m\u001b[43mfilepath_or_buffer\u001b[49m\u001b[43m,\u001b[49m\u001b[43m \u001b[49m\u001b[38;5;241;43m*\u001b[39;49m\u001b[38;5;241;43m*\u001b[39;49m\u001b[43mkwds\u001b[49m\u001b[43m)\u001b[49m\n\u001b[1;32m    607\u001b[0m \u001b[38;5;28;01mif\u001b[39;00m chunksize \u001b[38;5;129;01mor\u001b[39;00m iterator:\n\u001b[1;32m    608\u001b[0m     \u001b[38;5;28;01mreturn\u001b[39;00m parser\n",
      "File \u001b[0;32m/opt/anaconda3/envs/python3_9_16/lib/python3.9/site-packages/pandas/io/parsers/readers.py:1442\u001b[0m, in \u001b[0;36mTextFileReader.__init__\u001b[0;34m(self, f, engine, **kwds)\u001b[0m\n\u001b[1;32m   1439\u001b[0m     \u001b[38;5;28mself\u001b[39m\u001b[38;5;241m.\u001b[39moptions[\u001b[38;5;124m\"\u001b[39m\u001b[38;5;124mhas_index_names\u001b[39m\u001b[38;5;124m\"\u001b[39m] \u001b[38;5;241m=\u001b[39m kwds[\u001b[38;5;124m\"\u001b[39m\u001b[38;5;124mhas_index_names\u001b[39m\u001b[38;5;124m\"\u001b[39m]\n\u001b[1;32m   1441\u001b[0m \u001b[38;5;28mself\u001b[39m\u001b[38;5;241m.\u001b[39mhandles: IOHandles \u001b[38;5;241m|\u001b[39m \u001b[38;5;28;01mNone\u001b[39;00m \u001b[38;5;241m=\u001b[39m \u001b[38;5;28;01mNone\u001b[39;00m\n\u001b[0;32m-> 1442\u001b[0m \u001b[38;5;28mself\u001b[39m\u001b[38;5;241m.\u001b[39m_engine \u001b[38;5;241m=\u001b[39m \u001b[38;5;28;43mself\u001b[39;49m\u001b[38;5;241;43m.\u001b[39;49m\u001b[43m_make_engine\u001b[49m\u001b[43m(\u001b[49m\u001b[43mf\u001b[49m\u001b[43m,\u001b[49m\u001b[43m \u001b[49m\u001b[38;5;28;43mself\u001b[39;49m\u001b[38;5;241;43m.\u001b[39;49m\u001b[43mengine\u001b[49m\u001b[43m)\u001b[49m\n",
      "File \u001b[0;32m/opt/anaconda3/envs/python3_9_16/lib/python3.9/site-packages/pandas/io/parsers/readers.py:1735\u001b[0m, in \u001b[0;36mTextFileReader._make_engine\u001b[0;34m(self, f, engine)\u001b[0m\n\u001b[1;32m   1733\u001b[0m     \u001b[38;5;28;01mif\u001b[39;00m \u001b[38;5;124m\"\u001b[39m\u001b[38;5;124mb\u001b[39m\u001b[38;5;124m\"\u001b[39m \u001b[38;5;129;01mnot\u001b[39;00m \u001b[38;5;129;01min\u001b[39;00m mode:\n\u001b[1;32m   1734\u001b[0m         mode \u001b[38;5;241m+\u001b[39m\u001b[38;5;241m=\u001b[39m \u001b[38;5;124m\"\u001b[39m\u001b[38;5;124mb\u001b[39m\u001b[38;5;124m\"\u001b[39m\n\u001b[0;32m-> 1735\u001b[0m \u001b[38;5;28mself\u001b[39m\u001b[38;5;241m.\u001b[39mhandles \u001b[38;5;241m=\u001b[39m \u001b[43mget_handle\u001b[49m\u001b[43m(\u001b[49m\n\u001b[1;32m   1736\u001b[0m \u001b[43m    \u001b[49m\u001b[43mf\u001b[49m\u001b[43m,\u001b[49m\n\u001b[1;32m   1737\u001b[0m \u001b[43m    \u001b[49m\u001b[43mmode\u001b[49m\u001b[43m,\u001b[49m\n\u001b[1;32m   1738\u001b[0m \u001b[43m    \u001b[49m\u001b[43mencoding\u001b[49m\u001b[38;5;241;43m=\u001b[39;49m\u001b[38;5;28;43mself\u001b[39;49m\u001b[38;5;241;43m.\u001b[39;49m\u001b[43moptions\u001b[49m\u001b[38;5;241;43m.\u001b[39;49m\u001b[43mget\u001b[49m\u001b[43m(\u001b[49m\u001b[38;5;124;43m\"\u001b[39;49m\u001b[38;5;124;43mencoding\u001b[39;49m\u001b[38;5;124;43m\"\u001b[39;49m\u001b[43m,\u001b[49m\u001b[43m \u001b[49m\u001b[38;5;28;43;01mNone\u001b[39;49;00m\u001b[43m)\u001b[49m\u001b[43m,\u001b[49m\n\u001b[1;32m   1739\u001b[0m \u001b[43m    \u001b[49m\u001b[43mcompression\u001b[49m\u001b[38;5;241;43m=\u001b[39;49m\u001b[38;5;28;43mself\u001b[39;49m\u001b[38;5;241;43m.\u001b[39;49m\u001b[43moptions\u001b[49m\u001b[38;5;241;43m.\u001b[39;49m\u001b[43mget\u001b[49m\u001b[43m(\u001b[49m\u001b[38;5;124;43m\"\u001b[39;49m\u001b[38;5;124;43mcompression\u001b[39;49m\u001b[38;5;124;43m\"\u001b[39;49m\u001b[43m,\u001b[49m\u001b[43m \u001b[49m\u001b[38;5;28;43;01mNone\u001b[39;49;00m\u001b[43m)\u001b[49m\u001b[43m,\u001b[49m\n\u001b[1;32m   1740\u001b[0m \u001b[43m    \u001b[49m\u001b[43mmemory_map\u001b[49m\u001b[38;5;241;43m=\u001b[39;49m\u001b[38;5;28;43mself\u001b[39;49m\u001b[38;5;241;43m.\u001b[39;49m\u001b[43moptions\u001b[49m\u001b[38;5;241;43m.\u001b[39;49m\u001b[43mget\u001b[49m\u001b[43m(\u001b[49m\u001b[38;5;124;43m\"\u001b[39;49m\u001b[38;5;124;43mmemory_map\u001b[39;49m\u001b[38;5;124;43m\"\u001b[39;49m\u001b[43m,\u001b[49m\u001b[43m \u001b[49m\u001b[38;5;28;43;01mFalse\u001b[39;49;00m\u001b[43m)\u001b[49m\u001b[43m,\u001b[49m\n\u001b[1;32m   1741\u001b[0m \u001b[43m    \u001b[49m\u001b[43mis_text\u001b[49m\u001b[38;5;241;43m=\u001b[39;49m\u001b[43mis_text\u001b[49m\u001b[43m,\u001b[49m\n\u001b[1;32m   1742\u001b[0m \u001b[43m    \u001b[49m\u001b[43merrors\u001b[49m\u001b[38;5;241;43m=\u001b[39;49m\u001b[38;5;28;43mself\u001b[39;49m\u001b[38;5;241;43m.\u001b[39;49m\u001b[43moptions\u001b[49m\u001b[38;5;241;43m.\u001b[39;49m\u001b[43mget\u001b[49m\u001b[43m(\u001b[49m\u001b[38;5;124;43m\"\u001b[39;49m\u001b[38;5;124;43mencoding_errors\u001b[39;49m\u001b[38;5;124;43m\"\u001b[39;49m\u001b[43m,\u001b[49m\u001b[43m \u001b[49m\u001b[38;5;124;43m\"\u001b[39;49m\u001b[38;5;124;43mstrict\u001b[39;49m\u001b[38;5;124;43m\"\u001b[39;49m\u001b[43m)\u001b[49m\u001b[43m,\u001b[49m\n\u001b[1;32m   1743\u001b[0m \u001b[43m    \u001b[49m\u001b[43mstorage_options\u001b[49m\u001b[38;5;241;43m=\u001b[39;49m\u001b[38;5;28;43mself\u001b[39;49m\u001b[38;5;241;43m.\u001b[39;49m\u001b[43moptions\u001b[49m\u001b[38;5;241;43m.\u001b[39;49m\u001b[43mget\u001b[49m\u001b[43m(\u001b[49m\u001b[38;5;124;43m\"\u001b[39;49m\u001b[38;5;124;43mstorage_options\u001b[39;49m\u001b[38;5;124;43m\"\u001b[39;49m\u001b[43m,\u001b[49m\u001b[43m \u001b[49m\u001b[38;5;28;43;01mNone\u001b[39;49;00m\u001b[43m)\u001b[49m\u001b[43m,\u001b[49m\n\u001b[1;32m   1744\u001b[0m \u001b[43m\u001b[49m\u001b[43m)\u001b[49m\n\u001b[1;32m   1745\u001b[0m \u001b[38;5;28;01massert\u001b[39;00m \u001b[38;5;28mself\u001b[39m\u001b[38;5;241m.\u001b[39mhandles \u001b[38;5;129;01mis\u001b[39;00m \u001b[38;5;129;01mnot\u001b[39;00m \u001b[38;5;28;01mNone\u001b[39;00m\n\u001b[1;32m   1746\u001b[0m f \u001b[38;5;241m=\u001b[39m \u001b[38;5;28mself\u001b[39m\u001b[38;5;241m.\u001b[39mhandles\u001b[38;5;241m.\u001b[39mhandle\n",
      "File \u001b[0;32m/opt/anaconda3/envs/python3_9_16/lib/python3.9/site-packages/pandas/io/common.py:856\u001b[0m, in \u001b[0;36mget_handle\u001b[0;34m(path_or_buf, mode, encoding, compression, memory_map, is_text, errors, storage_options)\u001b[0m\n\u001b[1;32m    851\u001b[0m \u001b[38;5;28;01melif\u001b[39;00m \u001b[38;5;28misinstance\u001b[39m(handle, \u001b[38;5;28mstr\u001b[39m):\n\u001b[1;32m    852\u001b[0m     \u001b[38;5;66;03m# Check whether the filename is to be opened in binary mode.\u001b[39;00m\n\u001b[1;32m    853\u001b[0m     \u001b[38;5;66;03m# Binary mode does not support 'encoding' and 'newline'.\u001b[39;00m\n\u001b[1;32m    854\u001b[0m     \u001b[38;5;28;01mif\u001b[39;00m ioargs\u001b[38;5;241m.\u001b[39mencoding \u001b[38;5;129;01mand\u001b[39;00m \u001b[38;5;124m\"\u001b[39m\u001b[38;5;124mb\u001b[39m\u001b[38;5;124m\"\u001b[39m \u001b[38;5;129;01mnot\u001b[39;00m \u001b[38;5;129;01min\u001b[39;00m ioargs\u001b[38;5;241m.\u001b[39mmode:\n\u001b[1;32m    855\u001b[0m         \u001b[38;5;66;03m# Encoding\u001b[39;00m\n\u001b[0;32m--> 856\u001b[0m         handle \u001b[38;5;241m=\u001b[39m \u001b[38;5;28;43mopen\u001b[39;49m\u001b[43m(\u001b[49m\n\u001b[1;32m    857\u001b[0m \u001b[43m            \u001b[49m\u001b[43mhandle\u001b[49m\u001b[43m,\u001b[49m\n\u001b[1;32m    858\u001b[0m \u001b[43m            \u001b[49m\u001b[43mioargs\u001b[49m\u001b[38;5;241;43m.\u001b[39;49m\u001b[43mmode\u001b[49m\u001b[43m,\u001b[49m\n\u001b[1;32m    859\u001b[0m \u001b[43m            \u001b[49m\u001b[43mencoding\u001b[49m\u001b[38;5;241;43m=\u001b[39;49m\u001b[43mioargs\u001b[49m\u001b[38;5;241;43m.\u001b[39;49m\u001b[43mencoding\u001b[49m\u001b[43m,\u001b[49m\n\u001b[1;32m    860\u001b[0m \u001b[43m            \u001b[49m\u001b[43merrors\u001b[49m\u001b[38;5;241;43m=\u001b[39;49m\u001b[43merrors\u001b[49m\u001b[43m,\u001b[49m\n\u001b[1;32m    861\u001b[0m \u001b[43m            \u001b[49m\u001b[43mnewline\u001b[49m\u001b[38;5;241;43m=\u001b[39;49m\u001b[38;5;124;43m\"\u001b[39;49m\u001b[38;5;124;43m\"\u001b[39;49m\u001b[43m,\u001b[49m\n\u001b[1;32m    862\u001b[0m \u001b[43m        \u001b[49m\u001b[43m)\u001b[49m\n\u001b[1;32m    863\u001b[0m     \u001b[38;5;28;01melse\u001b[39;00m:\n\u001b[1;32m    864\u001b[0m         \u001b[38;5;66;03m# Binary mode\u001b[39;00m\n\u001b[1;32m    865\u001b[0m         handle \u001b[38;5;241m=\u001b[39m \u001b[38;5;28mopen\u001b[39m(handle, ioargs\u001b[38;5;241m.\u001b[39mmode)\n",
      "\u001b[0;31mFileNotFoundError\u001b[0m: [Errno 2] No such file or directory: '/Users/utkarsh/Desktop/study/iitj_mtech_ai/DV/Project/hero_roles728.csv'"
     ]
    }
   ],
   "source": [
    "dt2 = pd.read_csv(\"/Users/utkarsh/Desktop/study/iitj_mtech_ai/DV/Project/hero_roles_728.csv\")\n",
    "abc = pd.read_csv(\"/Users/utkarsh/Desktop/study/iitj_mtech_ai/DV/Project/hero_category728.csv\")"
   ]
  },
  {
   "cell_type": "markdown",
   "metadata": {
    "execution": {
     "iopub.execute_input": "2022-04-14T06:18:59.422965Z",
     "iopub.status.busy": "2022-04-14T06:18:59.422702Z",
     "iopub.status.idle": "2022-04-14T06:18:59.450861Z",
     "shell.execute_reply": "2022-04-14T06:18:59.449597Z",
     "shell.execute_reply.started": "2022-04-14T06:18:59.422941Z"
    }
   },
   "source": [
    "<a id = \"1\"></a><br>\n",
    "# 1. What kind of hereos we have\n",
    "1. Carries\n",
    "2. Supports\n",
    "3. Nukers\n",
    "4. Disablers\n",
    "5. Junglers\n",
    "6. Durable\n",
    "7. Escape\n",
    "8. Pushers\n",
    "9. Initiators"
   ]
  },
  {
   "cell_type": "markdown",
   "metadata": {},
   "source": [
    "<a id = \"2\"></a><br>\n",
    "# Which kind has how many heroes are there in kinds? "
   ]
  },
  {
   "cell_type": "code",
   "execution_count": null,
   "metadata": {
    "execution": {
     "iopub.execute_input": "2022-04-18T16:14:44.838128Z",
     "iopub.status.busy": "2022-04-18T16:14:44.837898Z",
     "iopub.status.idle": "2022-04-18T16:14:44.879115Z",
     "shell.execute_reply": "2022-04-18T16:14:44.878192Z",
     "shell.execute_reply.started": "2022-04-18T16:14:44.838098Z"
    }
   },
   "outputs": [],
   "source": [
    "dt2.describe()[0:1]"
   ]
  },
  {
   "cell_type": "code",
   "execution_count": null,
   "metadata": {
    "execution": {
     "iopub.execute_input": "2022-04-18T16:14:44.881198Z",
     "iopub.status.busy": "2022-04-18T16:14:44.880934Z",
     "iopub.status.idle": "2022-04-18T16:14:45.129292Z",
     "shell.execute_reply": "2022-04-18T16:14:45.128577Z",
     "shell.execute_reply.started": "2022-04-18T16:14:44.881166Z"
    }
   },
   "outputs": [],
   "source": [
    "values = list(dt2.count())\n",
    "types = list(dt2.columns)\n",
    "dataframe = pd.DataFrame({\"Kinds\": types, \"Counts\": values})\n",
    "index = dataframe.Counts.sort_values(ascending = True).index.values\n",
    "sorted_data = dataframe.reindex(index)\n",
    "\n",
    "plt.figure(figsize = (7,12))\n",
    "sns.barplot(x = sorted_data[\"Counts\"], y = sorted_data[\"Kinds\"], palette = \"husl\")\n",
    "plt.xlabel(\"Counts\")\n",
    "plt.ylabel(\"Types\")\n",
    "plt.title(\"Counts of Hero Types\")\n",
    "plt.show()"
   ]
  },
  {
   "cell_type": "markdown",
   "metadata": {},
   "source": [
    "<a id = \"3\"></a><br>\n",
    "# Categories Of Hereos "
   ]
  },
  {
   "cell_type": "code",
   "execution_count": null,
   "metadata": {
    "execution": {
     "iopub.execute_input": "2022-04-18T16:14:45.130574Z",
     "iopub.status.busy": "2022-04-18T16:14:45.13037Z",
     "iopub.status.idle": "2022-04-18T16:14:45.137042Z",
     "shell.execute_reply": "2022-04-18T16:14:45.136315Z",
     "shell.execute_reply.started": "2022-04-18T16:14:45.130549Z"
    }
   },
   "outputs": [],
   "source": [
    "values = dt[\"Gib type\"].value_counts()\n",
    "print(values)"
   ]
  },
  {
   "cell_type": "code",
   "execution_count": null,
   "metadata": {
    "execution": {
     "iopub.execute_input": "2022-04-18T16:14:45.138376Z",
     "iopub.status.busy": "2022-04-18T16:14:45.138134Z",
     "iopub.status.idle": "2022-04-18T16:14:45.339531Z",
     "shell.execute_reply": "2022-04-18T16:14:45.338667Z",
     "shell.execute_reply.started": "2022-04-18T16:14:45.138346Z"
    }
   },
   "outputs": [],
   "source": [
    "values = dt[\"Gib type\"].value_counts()\n",
    "plt.figure(figsize = (9,5))\n",
    "plt.bar(values.index, values,color = 'r')\n",
    "plt.ylabel(\"Frequency\")\n",
    "plt.title(\"values\")\n",
    "plt.show()"
   ]
  },
  {
   "cell_type": "code",
   "execution_count": null,
   "metadata": {
    "execution": {
     "iopub.execute_input": "2022-04-18T16:14:45.341083Z",
     "iopub.status.busy": "2022-04-18T16:14:45.340809Z",
     "iopub.status.idle": "2022-04-18T16:14:45.657248Z",
     "shell.execute_reply": "2022-04-18T16:14:45.656341Z",
     "shell.execute_reply.started": "2022-04-18T16:14:45.341042Z"
    }
   },
   "outputs": [],
   "source": [
    "types = dt[\"Gib type\"].value_counts().index\n",
    "explode = [0,0,0,0,0,0,0,0,0] #oranlar\n",
    "sizes = dt[\"Gib type\"].value_counts().values\n",
    "\n",
    "plt.figure(figsize = (7,7))\n",
    "plt.pie(sizes, explode = explode, labels = types, autopct = '%1.1f%%',shadow = True)\n",
    "plt.title(\"Categories of Heroes\", color = \"red\", fontsize = 15)\n",
    "plt.tight_layout()\n",
    "plt.show()"
   ]
  },
  {
   "cell_type": "markdown",
   "metadata": {},
   "source": [
    "<a id = \"5\"></a><br>\n",
    "# Basic Analysis in Properties"
   ]
  },
  {
   "cell_type": "code",
   "execution_count": null,
   "metadata": {
    "execution": {
     "iopub.execute_input": "2022-04-18T16:14:45.659685Z",
     "iopub.status.busy": "2022-04-18T16:14:45.658736Z",
     "iopub.status.idle": "2022-04-18T16:14:45.894776Z",
     "shell.execute_reply": "2022-04-18T16:14:45.894098Z",
     "shell.execute_reply.started": "2022-04-18T16:14:45.659634Z"
    }
   },
   "outputs": [],
   "source": [
    "kinds = list(dt[\"Gib type\"].unique())\n",
    "health_30lvl = []\n",
    "for i in kinds:\n",
    "    x = dt[dt[\"Gib type\"] == i]\n",
    "    health = sum(x.Health_lvl30)/len(x.Health_lvl30)\n",
    "    health_30lvl.append(health)\n",
    "\n",
    "dataframe = pd.DataFrame({\"types\": kinds,\"health\": health_30lvl})\n",
    "index = (dataframe.health.sort_values(ascending = False)).index.values\n",
    "sorted_data = dataframe.reindex(index)\n",
    "\n",
    "\n",
    "plt.figure(figsize=(12,8))\n",
    "sns.barplot(x = sorted_data.types, y = sorted_data.health,palette = \"Paired\")\n",
    "plt.title(\"Healths at 30 level\", fontsize = 15, color = \"red\")\n",
    "plt.show()"
   ]
  },
  {
   "cell_type": "code",
   "execution_count": null,
   "metadata": {
    "execution": {
     "iopub.execute_input": "2022-04-18T16:14:45.897163Z",
     "iopub.status.busy": "2022-04-18T16:14:45.896251Z",
     "iopub.status.idle": "2022-04-18T16:14:46.11703Z",
     "shell.execute_reply": "2022-04-18T16:14:46.116349Z",
     "shell.execute_reply.started": "2022-04-18T16:14:45.897109Z"
    }
   },
   "outputs": [],
   "source": [
    "types = list(dt[\"Gib type\"].unique())\n",
    "attack_speed = []\n",
    "for i in types:\n",
    "    x = dt[dt[\"Gib type\"] == i]\n",
    "    attack_s = sum(x[\"Attack speed\"]) / len(x[\"Attack speed\"])\n",
    "    attack_speed.append(attack_s)\n",
    "\n",
    "dataFrame = pd.DataFrame({\"Types\":types, \"Attack Speeds\":attack_speed})\n",
    "new_index = (dataFrame[\"Attack Speeds\"].sort_values(ascending = False)).index.values\n",
    "sorted_values = dataFrame.reindex(new_index)\n",
    "\n",
    "\n",
    "plt.figure(figsize = (12,8))\n",
    "sns.barplot(x = sorted_values[\"Types\"], y = sorted_values[\"Attack Speeds\"], palette = \"mako\")\n",
    "plt.title(\"Attack Speeds\",fontsize = 15, color = \"red\")\n",
    "plt.show()"
   ]
  },
  {
   "cell_type": "markdown",
   "metadata": {},
   "source": [
    "***Heroes legs counts vs Heroes properties***"
   ]
  },
  {
   "cell_type": "code",
   "execution_count": null,
   "metadata": {
    "execution": {
     "iopub.execute_input": "2022-04-18T16:14:46.118916Z",
     "iopub.status.busy": "2022-04-18T16:14:46.118364Z",
     "iopub.status.idle": "2022-04-18T16:14:46.308877Z",
     "shell.execute_reply": "2022-04-18T16:14:46.308061Z",
     "shell.execute_reply.started": "2022-04-18T16:14:46.118873Z"
    }
   },
   "outputs": [],
   "source": [
    "plt.figure(figsize = (9,5))\n",
    "plt.hist(dt.Legs)\n",
    "plt.xlabel(\"Legs count\")\n",
    "plt.ylabel(\"Frequency\")\n",
    "plt.title(\"Frequency of legs counts\",fontsize = 15, color = \"red\")\n",
    "plt.show()"
   ]
  },
  {
   "cell_type": "code",
   "execution_count": null,
   "metadata": {
    "execution": {
     "iopub.execute_input": "2022-04-18T16:14:46.311111Z",
     "iopub.status.busy": "2022-04-18T16:14:46.31031Z",
     "iopub.status.idle": "2022-04-18T16:14:46.335786Z",
     "shell.execute_reply": "2022-04-18T16:14:46.335024Z",
     "shell.execute_reply.started": "2022-04-18T16:14:46.311072Z"
    }
   },
   "outputs": [],
   "source": [
    "dt3 = pd.DataFrame(dt[[\"Gib type\",\"Magic resistance\", \"Movement speed\", \"Attack speed\",\"Att/sec_base\",\"Turn rate\",\n",
    "       \"Vision range\", \"Attack range\", \"Projectile speed\", \"Attack animation\",\n",
    "       \"Base attack time\", \"Damage block\", \"Collision size\"]].groupby([\"Gib type\"], as_index = False).mean())\n",
    "dt3"
   ]
  },
  {
   "cell_type": "code",
   "execution_count": null,
   "metadata": {
    "execution": {
     "iopub.execute_input": "2022-04-18T16:14:46.337292Z",
     "iopub.status.busy": "2022-04-18T16:14:46.336733Z",
     "iopub.status.idle": "2022-04-18T16:14:46.554975Z",
     "shell.execute_reply": "2022-04-18T16:14:46.554068Z",
     "shell.execute_reply.started": "2022-04-18T16:14:46.337247Z"
    }
   },
   "outputs": [],
   "source": [
    "dt3[\"Attack Range\"] = dt3[\"Attack range\"] / max(dt3[\"Attack range\"])\n",
    "dt3['Attack Speed'] = dt3[\"Attack speed\"] / max(dt3[\"Attack speed\"])\n",
    "\n",
    "\n",
    "plt.subplots(figsize= (15,7))\n",
    "sns.pointplot(x = 'Gib type',y = 'Attack Speed', data = dt3)\n",
    "sns.pointplot(x = \"Gib type\", y = \"Attack Range\", data = dt3, color = \"lime\")\n",
    "plt.text(1.2,0.35,\"Attack speed ratio\",color = \"blue\",fontsize = 16, style = \"italic\")\n",
    "plt.text(1.2,0.3,\"Attack range ratio\",color = \"lime\",fontsize = 16, style = \"italic\")\n",
    "plt.yticks(rotation = 90)\n",
    "plt.ylabel(\"values\")\n",
    "plt.xlabel(\"Types\")\n",
    "plt.title(\"Attack Range vs Attack Speed\",fontsize = 16, color = \"red\")\n",
    "plt.show()"
   ]
  },
  {
   "cell_type": "code",
   "execution_count": null,
   "metadata": {
    "execution": {
     "iopub.execute_input": "2022-04-18T16:14:46.558408Z",
     "iopub.status.busy": "2022-04-18T16:14:46.55789Z",
     "iopub.status.idle": "2022-04-18T16:14:46.572072Z",
     "shell.execute_reply": "2022-04-18T16:14:46.571302Z",
     "shell.execute_reply.started": "2022-04-18T16:14:46.55836Z"
    }
   },
   "outputs": [],
   "source": [
    "# Legs vs Movement speed\n",
    "ay = pd.DataFrame(dt[[\"Legs\", \"Movement speed\"]].groupby([\"Legs\"], as_index = False).mean().sort_values(by=\"Movement speed\", ascending = False))\n",
    "ay"
   ]
  },
  {
   "cell_type": "code",
   "execution_count": null,
   "metadata": {
    "execution": {
     "iopub.execute_input": "2022-04-18T16:14:46.573573Z",
     "iopub.status.busy": "2022-04-18T16:14:46.573306Z",
     "iopub.status.idle": "2022-04-18T16:14:46.743267Z",
     "shell.execute_reply": "2022-04-18T16:14:46.742412Z",
     "shell.execute_reply.started": "2022-04-18T16:14:46.573544Z"
    }
   },
   "outputs": [],
   "source": [
    "f, ax = plt.subplots(figsize=(5,5))\n",
    "sns.heatmap(ay.corr(), annot = True,linewidths = 0.5,fmt = \".1f\",ax = ax)\n",
    "plt.title(\"Correlations Between Legs and Movement Speed\", fontsize = 15, color = \"red\")\n",
    "plt.show()"
   ]
  },
  {
   "cell_type": "code",
   "execution_count": null,
   "metadata": {
    "execution": {
     "iopub.execute_input": "2022-04-18T16:14:46.744886Z",
     "iopub.status.busy": "2022-04-18T16:14:46.744592Z",
     "iopub.status.idle": "2022-04-18T16:14:47.022485Z",
     "shell.execute_reply": "2022-04-18T16:14:47.021517Z",
     "shell.execute_reply.started": "2022-04-18T16:14:46.744843Z"
    }
   },
   "outputs": [],
   "source": [
    "pal = sns.cubehelix_palette(2, rot = .5, dark = .3)\n",
    "sns.violinplot(data = dt[\"Movement speed\"], palette = pal, inner = \"points\")\n",
    "plt.title(\"Distribution of Movement Speed\", fontsize = 16, color = \"red\")\n",
    "plt.show()"
   ]
  }
 ],
 "metadata": {
  "kernelspec": {
   "display_name": "Python 3 (ipykernel)",
   "language": "python",
   "name": "python3"
  },
  "language_info": {
   "codemirror_mode": {
    "name": "ipython",
    "version": 3
   },
   "file_extension": ".py",
   "mimetype": "text/x-python",
   "name": "python",
   "nbconvert_exporter": "python",
   "pygments_lexer": "ipython3",
   "version": "3.9.16"
  }
 },
 "nbformat": 4,
 "nbformat_minor": 4
}
