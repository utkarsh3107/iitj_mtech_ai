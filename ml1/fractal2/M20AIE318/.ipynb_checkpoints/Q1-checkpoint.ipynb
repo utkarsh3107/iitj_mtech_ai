{
 "cells": [
  {
   "cell_type": "markdown",
   "id": "d87cdd56",
   "metadata": {},
   "source": [
    "# Q1: Implement the k-means and spectral clustering algorithms for clustering the points given in the datasets: http://cs.joensuu.fi/sipu/datasets/jain.txt. Plot the obtained results. In order to evaluate the performance of these algorithms, find the percentage of points for which the estimated cluster label is correct. Report the accuracy of both the algorithm. The ground truth clustering is given as the third column of the given text file."
   ]
  },
  {
   "cell_type": "code",
   "execution_count": 1,
   "id": "7118fe7e",
   "metadata": {},
   "outputs": [],
   "source": [
    "import numpy as np\n",
    "import pandas as pd\n",
    "from sklearn.metrics import accuracy_score\n",
    "from sklearn.datasets import make_blobs, load_digits\n",
    "from sklearn.model_selection import train_test_split\n",
    "from sklearn.linear_model import LogisticRegression\n",
    "from sklearn.cluster import KMeans\n",
    "from matplotlib import pyplot as plt\n",
    "from matplotlib.pyplot import figure"
   ]
  },
  {
   "cell_type": "code",
   "execution_count": 2,
   "id": "f8d376b7",
   "metadata": {},
   "outputs": [],
   "source": [
    "class KMeans_Test:\n",
    "\n",
    "    def __init__(self, k=2, tolerance=0.002, max_iter=100):\n",
    "        \"\"\"\n",
    "        :param k: the value of k clusters\n",
    "        :param tolerance: represents how much centroid is going to move. It will be a percentage change\n",
    "        :param max_iter: times we want to run the testcase\n",
    "        :param centroid: the dictionary reprents the centroid\n",
    "\n",
    "        Init operation for the class. Init basic values required for the class.\n",
    "        Copying the code from sklearn\n",
    "        \"\"\"\n",
    "        self.k = k\n",
    "        self.tolerance = tolerance\n",
    "        self.max_iter = max_iter\n",
    "        self.centroids = {}\n",
    "        self.classifications = {}\n",
    "        \n",
    "\n",
    "    def fit(self, _data):\n",
    "        \"\"\"\n",
    "        Performs the actual fit function as reprented by KMeans library\n",
    "        :return:\n",
    "        \"\"\"\n",
    "\n",
    "        for eachK in range(0, self.k):\n",
    "            self.centroids[eachK] = _data[eachK]\n",
    "\n",
    "        while True: \n",
    "            each_iter = 0\n",
    "            isOptimized = True\n",
    "            \n",
    "            # Clearing out classifications after each iteration because each time we move centroid will always have\n",
    "            # 0,1 index but value will change every time.\n",
    "            # Classification will cleaned everytime\n",
    "            self.classifications = {}\n",
    "\n",
    "            for eachK in range(0, self.k):\n",
    "                self.classifications[eachK] = []\n",
    "\n",
    "            # Adding feature to an centroid\n",
    "            for eachF in range(0,len(_data)):\n",
    "                feature = _data[eachF]\n",
    "                distances = []\n",
    "                for centroid in self.centroids:\n",
    "                    distances.append(np.linalg.norm(feature - self.centroids[centroid])) \n",
    "                min_distance = min(distances)\n",
    "                self.classifications[distances.index(min_distance)].append(feature)\n",
    "               \n",
    "            # Comparing the centroids so that we can verify how much they are changed using\n",
    "            # the tolerance value\n",
    "            temp_centroids = dict(self.centroids)\n",
    "\n",
    "            for classification in self.classifications:\n",
    "                # Taking average value of the classifications and computing centroid of all the values\n",
    "                self.centroids[classification] = np.average(self.classifications[classification], axis=0)\n",
    "\n",
    "            for centroid in self.centroids:\n",
    "                original_centroid = temp_centroids[centroid]\n",
    "                current_centroid = self.centroids[centroid]\n",
    "                centroid_space = current_centroid - original_centroid\n",
    "                if np.sum((centroid_space / original_centroid) * 100.0) > self.tolerance:\n",
    "                    isOptimized = False\n",
    "\n",
    "                \n",
    "            if each_iter == self.max_iter or isOptimized:\n",
    "                break\n",
    "            \n",
    "            each_iter += 1   \n",
    "    \n",
    "\n",
    "    def predict(self, _data):\n",
    "        distances = []\n",
    "        for centroid in self.centroids:\n",
    "            distances.append(np.linalg.norm(_data - self.centroids[centroid]))\n",
    "        return distances.index(min(distances))\n",
    "\n",
    "    def plot_data(self):\n",
    "        colors = 10 * ['#1f77b4', '#ff7f0e']\n",
    "        for centroid in self.centroids:\n",
    "            plt.scatter(self.centroids[centroid][0], self.centroids[centroid][1], \n",
    "                        marker = \".\", \n",
    "                        color=\"k\", \n",
    "                        s=150,\n",
    "                        linewidths=5)\n",
    "\n",
    "        for classification in self.classifications:\n",
    "            color = colors[classification]\n",
    "            for feature in self.classifications[classification]:\n",
    "                plt.scatter(feature[0], \n",
    "                            feature[1],\n",
    "                            marker=\"x\", \n",
    "                            color=color, \n",
    "                            s=150, \n",
    "                            linewidths=5)\n",
    "        \n",
    "    def compare(self, _data):\n",
    "        predicted = []\n",
    "        actual = _data[:, 2]\n",
    "        \n",
    "        for each in _data:\n",
    "            predicted_op = self.predict(each)\n",
    "            predicted.append(predicted_op)\n",
    "    \n",
    "        centroids = np.zeros([4], dtype = int) \n",
    "        for each_actual, each_predicted in zip(actual, predicted):\n",
    "            if each_actual == 2 and each_predicted == 0:\n",
    "                centroids[0] = centroids[0] + 1\n",
    "            elif each_actual == 1 and each_predicted == 1:\n",
    "                centroids[1] = centroids[1] + 1\n",
    "            elif each_actual == 2 and each_predicted == 1:\n",
    "                centroids[2] = centroids[2] + 1\n",
    "            elif each_actual == 1 and each_predicted == 0:\n",
    "                centroids[3] = centroids[3] + 1\n",
    "        \n",
    "        print(\"Accuracy = \",100 * (centroids[0] + centroids[1])/np.sum(centroids))"
   ]
  },
  {
   "cell_type": "code",
   "execution_count": 3,
   "id": "9965547f",
   "metadata": {},
   "outputs": [],
   "source": [
    "# Reading input provided in the file\n",
    "def read_input():\n",
    "    jain_csv = pd.read_csv('jain.txt', sep='\\t')\n",
    "    jain_arr = (np.array(jain_csv))\n",
    "    return jain_arr"
   ]
  },
  {
   "cell_type": "code",
   "execution_count": 4,
   "id": "a1a0df49",
   "metadata": {},
   "outputs": [
    {
     "data": {
      "image/png": "[encoded data removed]",
      "text/plain": [
       "<Figure size 432x288 with 1 Axes>"
      ]
     },
     "metadata": {
      "needs_background": "light"
     },
     "output_type": "display_data"
    }
   ],
   "source": [
    "data = read_input()\n",
    "model = KMeans_Test(2)\n",
    "model.fit(data)\n",
    "model.plot_data()"
   ]
  },
  {
   "cell_type": "code",
   "execution_count": 5,
   "id": "51031560",
   "metadata": {},
   "outputs": [
    {
     "name": "stdout",
     "output_type": "stream",
     "text": [
      "Accuracy =  84.13978494623656\n"
     ]
    }
   ],
   "source": [
    "model.compare(data)\n"
   ]
  },
  {
   "cell_type": "code",
   "execution_count": 6,
   "id": "da6815dd",
   "metadata": {},
   "outputs": [],
   "source": [
    "kmeans = KMeans(n_clusters=2, init='k-means++', random_state= 42)  \n",
    "y_predict= kmeans.fit_predict(data)  "
   ]
  },
  {
   "cell_type": "code",
   "execution_count": 7,
   "id": "93f9b9e0",
   "metadata": {},
   "outputs": [
    {
     "data": {
      "image/png": "[encoded data removed]",
      "text/plain": [
       "<Figure size 432x288 with 1 Axes>"
      ]
     },
     "metadata": {
      "needs_background": "light"
     },
     "output_type": "display_data"
    }
   ],
   "source": [
    "plt.scatter(data[y_predict == 0, 0], data[y_predict == 0, 1], s = 150, c = 'blue', label = 'Cluster 1') #for first cluster  \n",
    "plt.scatter(data[y_predict == 1, 0], data[y_predict == 1, 1], s = 150, c = 'orange', label = 'Cluster 2') #for second cluster \n",
    "plt.scatter(kmeans.cluster_centers_[:, 0], kmeans.cluster_centers_[:, 1], s = 300, c = 'black', label = 'Centroid')   \n",
    "plt.title('Clusters of data')  \n",
    "plt.xlabel('X - axis')  \n",
    "plt.ylabel('Y - axis')  \n",
    "plt.legend()  \n",
    "plt.show()  "
   ]
  },
  {
   "cell_type": "code",
   "execution_count": null,
   "id": "a69f813b",
   "metadata": {},
   "outputs": [],
   "source": []
  },
  {
   "cell_type": "code",
   "execution_count": null,
   "id": "9fdac974",
   "metadata": {},
   "outputs": [],
   "source": []
  },
  {
   "cell_type": "code",
   "execution_count": null,
   "id": "b2af72c1",
   "metadata": {},
   "outputs": [],
   "source": []
  },
  {
   "cell_type": "code",
   "execution_count": null,
   "id": "0fb302ec",
   "metadata": {},
   "outputs": [],
   "source": []
  },
  {
   "cell_type": "markdown",
   "id": "df015f83",
   "metadata": {},
   "source": [
    "Refrences:\n",
    "    https://www.youtube.com/watch?v=H4JSN_99kig\n",
    "    https://www.youtube.com/watch?v=HRoeYblYhkg\n",
    "    https://www.javatpoint.com/k-means-clustering-algorithm-in-machine-learning"
   ]
  },
  {
   "cell_type": "code",
   "execution_count": null,
   "id": "032069ed",
   "metadata": {},
   "outputs": [],
   "source": []
  }
 ],
 "metadata": {
  "kernelspec": {
   "display_name": "Python 3",
   "language": "python",
   "name": "python3"
  },
  "language_info": {
   "codemirror_mode": {
    "name": "ipython",
    "version": 3
   },
   "file_extension": ".py",
   "mimetype": "text/x-python",
   "name": "python",
   "nbconvert_exporter": "python",
   "pygments_lexer": "ipython3",
   "version": "3.8.10"
  }
 },
 "nbformat": 4,
 "nbformat_minor": 5
}
