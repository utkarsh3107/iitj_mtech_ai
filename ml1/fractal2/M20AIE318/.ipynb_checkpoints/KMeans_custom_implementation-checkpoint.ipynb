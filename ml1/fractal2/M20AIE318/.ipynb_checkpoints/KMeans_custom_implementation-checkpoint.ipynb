{
 "cells": [
  {
   "cell_type": "code",
   "execution_count": 71,
   "id": "4c766b9e-78ef-4c1d-9880-2c0c69d7cc9e",
   "metadata": {},
   "outputs": [],
   "source": [
    "global_verbose=False"
   ]
  },
  {
   "cell_type": "code",
   "execution_count": 72,
   "id": "1e1206e3-dc6b-45e3-bcac-cc6c36c9fc63",
   "metadata": {},
   "outputs": [],
   "source": [
    "import numpy as np\n",
    "\n",
    "class CustomKmeans:\n",
    "    \n",
    "    # sleleton or structure of the program is copied from the sklearn library.\n",
    "    def __init__(self, n_clusters=2, n_init=10, max_iter=300, centroids=None):\n",
    "        self.verbose = global_verbose\n",
    "        self.n_clusters = n_clusters\n",
    "        self.n_init = n_init\n",
    "        self.max_iter = max_iter\n",
    "        self.cluster_centers_ = None\n",
    "        self.intial_centroids = centroids\n",
    "        self.labels_=None\n",
    "        self.inertia_=None\n",
    "        \"\"\"\n",
    "        centroids : ndarray\n",
    "        random centroids from the data points.\n",
    "        \n",
    "        n_clusters : int, default=2\n",
    "        The number of clusters to form as well as the number of centroids to generate.\n",
    "\n",
    "        n_init : int, default=10\n",
    "        Number of time the k-means algorithm will be run with different centroid seeds.\n",
    "        The final results will be the best output of n_init consecutive runs in terms of inertia.\n",
    "\n",
    "        max_iter : int, default=300\n",
    "        Maximum number of iterations of the k-means algorithm for a single run.\n",
    "        \"\"\"\n",
    "        if verbose:\n",
    "            print(\"initialization of custom kmeans\")\n",
    "\n",
    "    def _init_centroids(self, X, random_state):\n",
    "        \"\"\"\n",
    "        Compute the initial centroids if the there are no initial centroids provided.\n",
    "        \"\"\"\n",
    "        if verbose:\n",
    "            print(\"Compute the initial centroids.\")\n",
    "        if self.intial_centroids is None:\n",
    "            self.intial_centroids = X[np.random.choice(len(X), self.n_clusters, replace=True)]\n",
    "            self.cluster_centers_ = self.intial_centroids\n",
    "            if self.verbose:\n",
    "                print(\"centroid: \",self.intial_centroids)\n",
    "    \n",
    "    def fit(self, X):\n",
    "        \"\"\"\n",
    "            Compute k-means clustering.\n",
    "            anchor condition:\n",
    "                1. repeat the centroid computation for n iterations\n",
    "                2. repeat until centroids doesn't change the\n",
    "                3. labels Or elements in the cluster remain same.\n",
    "            for this program we just considering the point 3.\n",
    "        \"\"\" \n",
    "        if self.verbose:\n",
    "            print(\"operation: model fit\")\n",
    "        #initializing the centroids\n",
    "        self._init_centroids(X, None)\n",
    "        \n",
    "        # compute the centroids and labels for max_iter iterations\n",
    "        for iteration in range(self.max_iter):\n",
    "            for cluster in (self.n_clusters):\n",
    "                \n",
    "        \n",
    "        \n",
    "    def predict(self, X):\n",
    "        #Predict the closest cluster each sample in X belongs to.\n",
    "        if self.verbose:\n",
    "            print(\"operation: predict\")\n",
    "        return np.apply_along_axis(self.fit_predict, 1, X)\n",
    "\n",
    "    def fit_predict(self, sample):\n",
    "        #Compute cluster centers and predict cluster index for each sample.\n",
    "        #if self.verbose:\n",
    "        #    print(\"operation: fit predict\")\n",
    "        label = np.argmin(np.sum((self.cluster_centers_ - sample)**2, axis=1)**0.5)\n",
    "        #if self.verbose:\n",
    "        #    print(\"sample: \",sample,\", label=: \",label)\n",
    "        return label\n",
    "    "
   ]
  },
  {
   "cell_type": "code",
   "execution_count": 73,
   "id": "ad8e9be5-8a05-4af7-aaf0-068170183117",
   "metadata": {},
   "outputs": [
    {
     "name": "stdout",
     "output_type": "stream",
     "text": [
      "total  130 mismatch out of  373\n",
      "kmeans accuracy computed: 0.6514745308310992\n"
     ]
    },
    {
     "data": {
      "image/png": "[encoded data removed]",
      "text/plain": [
       "<Figure size 432x288 with 1 Axes>"
      ]
     },
     "metadata": {
      "needs_background": "light"
     },
     "output_type": "display_data"
    }
   ],
   "source": [
    "import sys\n",
    "import pandas as pd\n",
    "import numpy as np\n",
    "#from CustomKmeans import CustomKmeans\n",
    "from matplotlib import pyplot as plt\n",
    "\n",
    "verbose = global_verbose\n",
    "data=pd.read_csv('jain.csv')\n",
    "X=data.iloc[:,0:2].values\n",
    "y=data.iloc[:,2:3].values\n",
    "if verbose:\n",
    "    print(\"data format: \",df.head)\n",
    "\n",
    "# creating the KMeans object\n",
    "kmeans=CustomKmeans(n_clusters=2, n_init=10, max_iter=300)\n",
    "\n",
    "# training the model\n",
    "kmeans.fit(X)\n",
    "\n",
    "# finding the label\n",
    "pred_label = kmeans.predict(X)\n",
    "\n",
    "# printing the centroids and labels\n",
    "centroids = kmeans.cluster_centers_\n",
    "labels=kmeans.labels_\n",
    "inertia = kmeans.inertia_\n",
    "if verbose:\n",
    "    #print(\"labels: \",labels)\n",
    "    #print(\"inertia: \",inertia)\n",
    "    print(\"centroids: \",centroids)\n",
    "    \n",
    "total_mismatch=0\n",
    "for i in range(len(pred_label)):\n",
    "    if df_label.iloc[i,0]!=pred_label[i]:\n",
    "        if verbose:\n",
    "            print(df_label.iloc[i,0],':',pred_label[i])\n",
    "        total_mismatch=total_mismatch+1\n",
    "print(\"total \",total_mismatch,\"mismatch out of \",len(pred_label))\n",
    "print(\"kmeans accuracy computed: \"+str((len(pred_label)-total_mismatch)/len(pred_label)))\n",
    "\n",
    "plt.scatter(x=data.iloc[:,0:1], y=data.iloc[:,1:2], c=kmeans.labels_)\n",
    "plt.scatter(centroids[:, 0], centroids[:, 1], c='red')\n",
    "plt.show()"
   ]
  },
  {
   "cell_type": "code",
   "execution_count": null,
   "id": "df091d48-e510-487f-8b5e-5fa09c46e6cb",
   "metadata": {},
   "outputs": [],
   "source": []
  },
  {
   "cell_type": "code",
   "execution_count": null,
   "id": "128d7d3e-6847-4678-943a-78b4ccffae2d",
   "metadata": {},
   "outputs": [],
   "source": []
  }
 ],
 "metadata": {
  "kernelspec": {
   "display_name": "Python 3",
   "language": "python",
   "name": "python3"
  },
  "language_info": {
   "codemirror_mode": {
    "name": "ipython",
    "version": 3
   },
   "file_extension": ".py",
   "mimetype": "text/x-python",
   "name": "python",
   "nbconvert_exporter": "python",
   "pygments_lexer": "ipython3",
   "version": "3.8.10"
  },
  "toc-showcode": true
 },
 "nbformat": 4,
 "nbformat_minor": 5
}
