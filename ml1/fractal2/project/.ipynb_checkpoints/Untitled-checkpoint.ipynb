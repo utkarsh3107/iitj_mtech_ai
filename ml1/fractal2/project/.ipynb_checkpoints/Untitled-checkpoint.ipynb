{
 "cells": [
  {
   "cell_type": "code",
   "execution_count": 1,
   "id": "6d569fb9",
   "metadata": {},
   "outputs": [],
   "source": [
    "import pandas as pd\n",
    "import csv\n",
    "import re\n",
    "import spacy\n",
    "import en_core_web_sm"
   ]
  },
  {
   "cell_type": "code",
   "execution_count": 2,
   "id": "ec86afed",
   "metadata": {},
   "outputs": [
    {
     "data": {
      "image/png": "[encoded data removed]",
      "text/plain": [
       "<Figure size 432x288 with 1 Axes>"
      ]
     },
     "metadata": {
      "needs_background": "light"
     },
     "output_type": "display_data"
    }
   ],
   "source": [
    "df = pd.read_csv(\"training.1600000.processed.noemoticon.csv\",quoting=csv.QUOTE_ALL,encoding='latin-1',header=None)\n",
    "df.columns = ['Sentiment','ID','Date','Query','User_ID','Text']\n",
    "df.head()\n",
    "\n",
    "df['Sentiment'].plot()\n",
    "df['Sentiment'].describe()\n",
    "df['Sentiment'].fillna(value=df['Sentiment'].mode(),inplace=True)\n",
    "_ = df.pop('ID')\n",
    "_ = df.pop('Date')\n",
    "_ = df.pop('Query')\n",
    "_ = df.pop('User_ID')\n",
    "df.dropna(subset=['Text'],inplace=True)\n",
    "target = df.pop(item='Sentiment')\n",
    "\n",
    "nlp = en_core_web_sm.load()\n",
    "#nlp = spacy.load('en_core_web_lg')\n"
   ]
  },
  {
   "cell_type": "code",
   "execution_count": 3,
   "id": "9fdabb3d",
   "metadata": {},
   "outputs": [],
   "source": [
    "def remove_hashtags(sentence):\n",
    "    return re.sub(r'[^a-zA-Z]', \" \",sentence)\n",
    "\n",
    "def remove_usernames(sentence):\n",
    "    return re.sub(r'@[A-Z0-9a-z_:]+','',sentence)\n",
    "\n",
    "def remove_retweet_tags(sentence):\n",
    "    return re.sub(r'^[RT]+','',sentence)\n",
    "\n",
    "def remove_urls(sentence):\n",
    "    return re.sub(r'(http|https|ftp)?://[A-Za-z0-9./]+','',sentence)\n",
    "\n",
    "def clean_tweet(tweet):\n",
    "    tweet = remove_usernames(tweet)\n",
    "    tweet = remove_retweet_tags(tweet)\n",
    "    tweet = remove_urls(tweet)\n",
    "    tweet = remove_hashtags(tweet)\n",
    "    return tweet.strip()\n",
    "\n",
    "def remove_stopwords(tweet):\n",
    "    return \" \".join([word for word in tweet.split(\" \") if word.lower() not in nlp.Defaults.stop_words])\n",
    "\n",
    "def preproccess_pipeline(tweet):\n",
    "    tweet = clean_tweet(tweet)\n",
    "    tweet = remove_stopwords(tweet)\n",
    "    return tweet\n"
   ]
  },
  {
   "cell_type": "code",
   "execution_count": 7,
   "id": "3845a948",
   "metadata": {},
   "outputs": [
    {
     "data": {
      "text/html": [
       "<div>\n",
       "<style scoped>\n",
       "    .dataframe tbody tr th:only-of-type {\n",
       "        vertical-align: middle;\n",
       "    }\n",
       "\n",
       "    .dataframe tbody tr th {\n",
       "        vertical-align: top;\n",
       "    }\n",
       "\n",
       "    .dataframe thead th {\n",
       "        text-align: right;\n",
       "    }\n",
       "</style>\n",
       "<table border=\"1\" class=\"dataframe\">\n",
       "  <thead>\n",
       "    <tr style=\"text-align: right;\">\n",
       "      <th></th>\n",
       "      <th>Text</th>\n",
       "    </tr>\n",
       "  </thead>\n",
       "  <tbody>\n",
       "    <tr>\n",
       "      <th>0</th>\n",
       "      <td>Awww  s bummer   shoulda got David Carr Day   D</td>\n",
       "    </tr>\n",
       "    <tr>\n",
       "      <th>1</th>\n",
       "      <td>upset t update Facebook texting    cry result ...</td>\n",
       "    </tr>\n",
       "    <tr>\n",
       "      <th>2</th>\n",
       "      <td>dived times ball  Managed save      rest bounds</td>\n",
       "    </tr>\n",
       "    <tr>\n",
       "      <th>3</th>\n",
       "      <td>body feels itchy like fire</td>\n",
       "    </tr>\n",
       "    <tr>\n",
       "      <th>4</th>\n",
       "      <td>s behaving  m mad   t</td>\n",
       "    </tr>\n",
       "  </tbody>\n",
       "</table>\n",
       "</div>"
      ],
      "text/plain": [
       "                                                Text\n",
       "0    Awww  s bummer   shoulda got David Carr Day   D\n",
       "1  upset t update Facebook texting    cry result ...\n",
       "2    dived times ball  Managed save      rest bounds\n",
       "3                         body feels itchy like fire\n",
       "4                              s behaving  m mad   t"
      ]
     },
     "execution_count": 7,
     "metadata": {},
     "output_type": "execute_result"
    }
   ],
   "source": [
    "df['Text'] = df['Text'].apply(preproccess_pipeline)\n",
    "df.head()"
   ]
  },
  {
   "cell_type": "code",
   "execution_count": 16,
   "id": "f4c2cb3d",
   "metadata": {},
   "outputs": [
    {
     "name": "stdout",
     "output_type": "stream",
     "text": [
      "<class 'pandas.core.series.Series'>\n",
      "Text    Awww  s bummer   shoulda got David Carr Day   D\n",
      "Name: 0, dtype: object\n",
      "Text    upset t update Facebook texting    cry result ...\n",
      "Name: 1, dtype: object\n",
      "Text    dived times ball  Managed save      rest bounds\n",
      "Name: 2, dtype: object\n",
      "Text    body feels itchy like fire\n",
      "Name: 3, dtype: object\n",
      "Text    s behaving  m mad   t\n",
      "Name: 4, dtype: object\n",
      "Text    crew\n",
      "Name: 5, dtype: object\n",
      "Text    Need hug\n",
      "Name: 6, dtype: object\n",
      "Text    hey  long time  Yes   Rains bit  bit  LOL   m ...\n",
      "Name: 7, dtype: object\n",
      "Text    nope didn t\n",
      "Name: 8, dtype: object\n",
      "Text    que muera\n",
      "Name: 9, dtype: object\n"
     ]
    }
   ],
   "source": [
    "print(type(df['Text']))\n",
    "i = 1\n",
    "for index, row in df.iterrows():\n",
    "    print(row.to_string())\n",
    "    if i == 10:\n",
    "        break\n",
    "    i += 1"
   ]
  },
  {
   "cell_type": "code",
   "execution_count": 17,
   "id": "084b663b",
   "metadata": {},
   "outputs": [],
   "source": [
    "def buildTestSet(search_keyword):\n",
    "    try:\n",
    "        tweets_fetched = []\n",
    "        for index, row in df.iterrows():\n",
    "            if search_keyword in row.to_string():\n",
    "                tweets_fetched.append(row.to_string())\n",
    "        \n",
    "        print(\"Fetched \" + str(len(tweets_fetched)) + \" tweets for the term \" + search_keyword)\n",
    "        \n",
    "        return [{\"text\":status.text, \"label\":None} for status in tweets_fetched]\n",
    "    except Exception as e:\n",
    "        print(e)\n",
    "        return None"
   ]
  },
  {
   "cell_type": "code",
   "execution_count": 18,
   "id": "0171979f",
   "metadata": {},
   "outputs": [
    {
     "name": "stdout",
     "output_type": "stream",
     "text": [
      "Fetched 239 tweets for the term shoulda\n",
      "Unfortunately, something went wrong..\n"
     ]
    }
   ],
   "source": [
    "buildTestSet(\"shoulda\")"
   ]
  },
  {
   "cell_type": "code",
   "execution_count": null,
   "id": "8ed6bfd4",
   "metadata": {},
   "outputs": [],
   "source": []
  }
 ],
 "metadata": {
  "kernelspec": {
   "display_name": "Python 3",
   "language": "python",
   "name": "python3"
  },
  "language_info": {
   "codemirror_mode": {
    "name": "ipython",
    "version": 3
   },
   "file_extension": ".py",
   "mimetype": "text/x-python",
   "name": "python",
   "nbconvert_exporter": "python",
   "pygments_lexer": "ipython3",
   "version": "3.8.10"
  }
 },
 "nbformat": 4,
 "nbformat_minor": 5
}
