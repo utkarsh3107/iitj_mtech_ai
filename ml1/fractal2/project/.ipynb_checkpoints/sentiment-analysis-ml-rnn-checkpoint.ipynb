{
 "cells": [
  {
   "cell_type": "markdown",
   "metadata": {},
   "source": [
    "# Sentiment Analysis Using Various ML Classifiers ans well as using Recurrent Neural Network"
   ]
  },
  {
   "cell_type": "markdown",
   "metadata": {
    "id": "geTqmFoOp0i8"
   },
   "source": [
    "### In this notebook you will see text precessing on twitter data set and after that I have performed different Machine Learning Algorithms on the data such as **Logistic Regression, RandomForestClassifier, SVC, Naive Bayes** to classifiy positive and negative tweets. After that I have also built a RNN network which is the best fit for such textual sentiment analysis, since it's a Sequential Dataset which is requirement for RNN network.\n",
    "\n",
    "#### Let's Dive into it."
   ]
  },
  {
   "cell_type": "markdown",
   "metadata": {},
   "source": [
    "# Index\n",
    "\n",
    "* <a href=\"#1\" style=\"color: blue;\">Importing Libraries</a>\n",
    "* <a href=\"#2\" style=\"color: blue;\">Loading Dataset</a>\n",
    "* <a href=\"#3\" style=\"color: blue;\">Data Visualization</a>\n",
    "* <a href=\"#4\" style=\"color: blue;\">Data Preprocessing</a>\n",
    "* <a href=\"#5\" style=\"color: blue;\">Analyzing the Data</a>\n",
    "* <a href=\"#6\" style=\"color: blue;\">Vectorization and Splitting the data</a>\n",
    "* <a href=\"#7\" style=\"color: blue;\">Model Building</a>\n",
    "* <a href=\"#8\" style=\"color: blue;\">Logistic Regression</a>\n",
    "* <a href=\"#9\" style=\"color: blue;\">Linear SVM</a>\n",
    "* <a href=\"#10\" style=\"color: blue;\">Random Forest</a>\n",
    "* <a href=\"#11\" style=\"color: blue;\">Naive Bayes</a>\n",
    "* <a href=\"#12\" style=\"color: blue;\">RNN</a>\n",
    "* <a href=\"#13\" style=\"color: blue;\">Model Saving, Loading and Prediction</a>"
   ]
  },
  {
   "cell_type": "markdown",
   "metadata": {
    "id": "NCfN_akmFrj3"
   },
   "source": [
    "# Importing libraries <a id=\"1\"></a>"
   ]
  },
  {
   "cell_type": "code",
   "execution_count": 1,
   "metadata": {
    "execution": {
     "iopub.execute_input": "2021-06-08T17:18:02.432899Z",
     "iopub.status.busy": "2021-06-08T17:18:02.432316Z",
     "iopub.status.idle": "2021-06-08T17:18:11.280876Z",
     "shell.execute_reply": "2021-06-08T17:18:11.279915Z",
     "shell.execute_reply.started": "2021-06-08T17:18:02.432809Z"
    },
    "id": "pVYNu9wMdkko"
   },
   "outputs": [],
   "source": [
    "# DataFrame\n",
    "import pandas as pd \n",
    "\n",
    "# plotting\n",
    "import seaborn as sns\n",
    "from wordcloud import WordCloud\n",
    "import matplotlib.pyplot as plt\n",
    "\n",
    "# nltk\n",
    "import nltk\n",
    "from nltk.stem import WordNetLemmatizer\n",
    "from nltk.corpus import stopwords\n",
    "from nltk.tokenize import word_tokenize\n",
    "\n",
    "# sklearn\n",
    "from sklearn.model_selection import train_test_split\n",
    "from sklearn.feature_extraction.text import TfidfVectorizer\n",
    "from sklearn.metrics import confusion_matrix, classification_report\n",
    "\n",
    "from sklearn.linear_model import LogisticRegression\n",
    "from sklearn.svm import LinearSVC\n",
    "from sklearn.ensemble import RandomForestClassifier\n",
    "from sklearn.naive_bayes import BernoulliNB\n",
    "\n",
    "\n",
    "#tensorflow\n",
    "import tensorflow.compat.v2 as tf\n",
    "import tensorflow_datasets as tfds\n",
    "\n",
    "# Utility\n",
    "import pandas as pd\n",
    "import numpy as np \n",
    "import warnings\n",
    "warnings.filterwarnings('ignore')\n",
    "import re\n",
    "import string\n",
    "import pickle"
   ]
  },
  {
   "cell_type": "markdown",
   "metadata": {
    "id": "R7jmsaF2dkkq"
   },
   "source": [
    "# Loading Dataset <a id=\"2\"></a>"
   ]
  },
  {
   "cell_type": "code",
   "execution_count": 2,
   "metadata": {
    "execution": {
     "iopub.execute_input": "2021-06-08T17:18:11.282672Z",
     "iopub.status.busy": "2021-06-08T17:18:11.282353Z",
     "iopub.status.idle": "2021-06-08T17:18:18.494314Z",
     "shell.execute_reply": "2021-06-08T17:18:18.493395Z",
     "shell.execute_reply.started": "2021-06-08T17:18:11.282641Z"
    },
    "id": "hycEYqiDlC8p",
    "outputId": "217a0d84-a615-4c25-b37b-8814b2f76049"
   },
   "outputs": [],
   "source": [
    "# Construct a tf.data.Dataset\n",
    "data = pd.read_csv('/kaggle/input/sentiment140/training.1600000.processed.noemoticon.csv',encoding='latin', names = ['polarity','id','date','query','user','text'])"
   ]
  },
  {
   "cell_type": "code",
   "execution_count": 3,
   "metadata": {
    "execution": {
     "iopub.execute_input": "2021-06-08T17:18:18.495823Z",
     "iopub.status.busy": "2021-06-08T17:18:18.495498Z",
     "iopub.status.idle": "2021-06-08T17:18:19.943506Z",
     "shell.execute_reply": "2021-06-08T17:18:19.942585Z",
     "shell.execute_reply.started": "2021-06-08T17:18:18.495785Z"
    },
    "id": "Uu3dZ9eeBZOU"
   },
   "outputs": [],
   "source": [
    "data = data.sample(frac=1)\n",
    "data = data[:200000]"
   ]
  },
  {
   "cell_type": "markdown",
   "metadata": {
    "id": "8NMuY7JBwmmy"
   },
   "source": [
    "# Data Visualization <a id=\"3\"></a>"
   ]
  },
  {
   "cell_type": "markdown",
   "metadata": {
    "id": "5JSPtS23yPfd"
   },
   "source": [
    "Dataset details\n",
    "target: the polarity of the tweet (0 = negative, 4 = positive)\n",
    "\n",
    "* date : the date of the tweet (Sat May 16 23:58:44 PDT 2009)\n",
    "* polarity : the polarity of the tweet (0 = negative 4 = positive)\n",
    "* user : the user that tweeted (TerraScene)\n",
    "* text : the text of the tweet (i'm 10x cooler than all of you)"
   ]
  },
  {
   "cell_type": "code",
   "execution_count": 4,
   "metadata": {
    "execution": {
     "iopub.execute_input": "2021-06-08T17:18:19.945270Z",
     "iopub.status.busy": "2021-06-08T17:18:19.944959Z",
     "iopub.status.idle": "2021-06-08T17:18:19.950572Z",
     "shell.execute_reply": "2021-06-08T17:18:19.949850Z",
     "shell.execute_reply.started": "2021-06-08T17:18:19.945240Z"
    },
    "id": "f1lt303exS3J",
    "outputId": "d98c81bc-29ee-46e6-e028-e1692af6176f"
   },
   "outputs": [
    {
     "name": "stdout",
     "output_type": "stream",
     "text": [
      "Dataset shape: (200000, 6)\n"
     ]
    }
   ],
   "source": [
    "print(\"Dataset shape:\", data.shape)"
   ]
  },
  {
   "cell_type": "code",
   "execution_count": 5,
   "metadata": {
    "execution": {
     "iopub.execute_input": "2021-06-08T17:18:19.953753Z",
     "iopub.status.busy": "2021-06-08T17:18:19.953188Z",
     "iopub.status.idle": "2021-06-08T17:18:19.994994Z",
     "shell.execute_reply": "2021-06-08T17:18:19.993917Z",
     "shell.execute_reply.started": "2021-06-08T17:18:19.953705Z"
    },
    "id": "MKn0VS_kdkkr",
    "outputId": "7e4e692e-af3f-4605-9a0b-3e62bc7028ce"
   },
   "outputs": [
    {
     "data": {
      "text/html": [
       "<div>\n",
       "<style scoped>\n",
       "    .dataframe tbody tr th:only-of-type {\n",
       "        vertical-align: middle;\n",
       "    }\n",
       "\n",
       "    .dataframe tbody tr th {\n",
       "        vertical-align: top;\n",
       "    }\n",
       "\n",
       "    .dataframe thead th {\n",
       "        text-align: right;\n",
       "    }\n",
       "</style>\n",
       "<table border=\"1\" class=\"dataframe\">\n",
       "  <thead>\n",
       "    <tr style=\"text-align: right;\">\n",
       "      <th></th>\n",
       "      <th>polarity</th>\n",
       "      <th>id</th>\n",
       "      <th>date</th>\n",
       "      <th>query</th>\n",
       "      <th>user</th>\n",
       "      <th>text</th>\n",
       "    </tr>\n",
       "  </thead>\n",
       "  <tbody>\n",
       "    <tr>\n",
       "      <th>1563549</th>\n",
       "      <td>4</td>\n",
       "      <td>2187091364</td>\n",
       "      <td>Mon Jun 15 19:46:38 PDT 2009</td>\n",
       "      <td>NO_QUERY</td>\n",
       "      <td>stephrose</td>\n",
       "      <td>@dooce she's gorgeous and yes, her name does k...</td>\n",
       "    </tr>\n",
       "    <tr>\n",
       "      <th>543128</th>\n",
       "      <td>0</td>\n",
       "      <td>2200665641</td>\n",
       "      <td>Tue Jun 16 19:12:22 PDT 2009</td>\n",
       "      <td>NO_QUERY</td>\n",
       "      <td>since06</td>\n",
       "      <td>wish i could sing for living!!! i'd do it in m...</td>\n",
       "    </tr>\n",
       "    <tr>\n",
       "      <th>1494397</th>\n",
       "      <td>4</td>\n",
       "      <td>2069693927</td>\n",
       "      <td>Sun Jun 07 16:21:11 PDT 2009</td>\n",
       "      <td>NO_QUERY</td>\n",
       "      <td>autodafe</td>\n",
       "      <td>@midknightsmusee grats on your purchase</td>\n",
       "    </tr>\n",
       "    <tr>\n",
       "      <th>800240</th>\n",
       "      <td>4</td>\n",
       "      <td>1467862924</td>\n",
       "      <td>Mon Apr 06 22:33:23 PDT 2009</td>\n",
       "      <td>NO_QUERY</td>\n",
       "      <td>sarup1212</td>\n",
       "      <td>One sixty six in bowling. Holy shit lol</td>\n",
       "    </tr>\n",
       "    <tr>\n",
       "      <th>1408133</th>\n",
       "      <td>4</td>\n",
       "      <td>2055648731</td>\n",
       "      <td>Sat Jun 06 09:42:11 PDT 2009</td>\n",
       "      <td>NO_QUERY</td>\n",
       "      <td>araihc12</td>\n",
       "      <td>at rachy's house. gonna walk somewhere to have...</td>\n",
       "    </tr>\n",
       "    <tr>\n",
       "      <th>1367547</th>\n",
       "      <td>4</td>\n",
       "      <td>2050433174</td>\n",
       "      <td>Fri Jun 05 18:39:37 PDT 2009</td>\n",
       "      <td>NO_QUERY</td>\n",
       "      <td>smrtgirl</td>\n",
       "      <td>The house is clean again, now I can enjoy the ...</td>\n",
       "    </tr>\n",
       "    <tr>\n",
       "      <th>977272</th>\n",
       "      <td>4</td>\n",
       "      <td>1833717916</td>\n",
       "      <td>Mon May 18 00:12:51 PDT 2009</td>\n",
       "      <td>NO_QUERY</td>\n",
       "      <td>ajohns44</td>\n",
       "      <td>relaxxxxxxxxing at last</td>\n",
       "    </tr>\n",
       "    <tr>\n",
       "      <th>769444</th>\n",
       "      <td>0</td>\n",
       "      <td>2301408671</td>\n",
       "      <td>Tue Jun 23 15:24:10 PDT 2009</td>\n",
       "      <td>NO_QUERY</td>\n",
       "      <td>couserctu</td>\n",
       "      <td>its sooo warm tonight</td>\n",
       "    </tr>\n",
       "    <tr>\n",
       "      <th>1273803</th>\n",
       "      <td>4</td>\n",
       "      <td>2000891104</td>\n",
       "      <td>Mon Jun 01 23:14:30 PDT 2009</td>\n",
       "      <td>NO_QUERY</td>\n",
       "      <td>AnthonyxSteez</td>\n",
       "      <td>New puppy, more memories</td>\n",
       "    </tr>\n",
       "    <tr>\n",
       "      <th>6928</th>\n",
       "      <td>0</td>\n",
       "      <td>1469615079</td>\n",
       "      <td>Tue Apr 07 06:54:43 PDT 2009</td>\n",
       "      <td>NO_QUERY</td>\n",
       "      <td>TwilightDa</td>\n",
       "      <td>I will no longer drink coffee. if i do, you ca...</td>\n",
       "    </tr>\n",
       "  </tbody>\n",
       "</table>\n",
       "</div>"
      ],
      "text/plain": [
       "         polarity          id                          date     query  \\\n",
       "1563549         4  2187091364  Mon Jun 15 19:46:38 PDT 2009  NO_QUERY   \n",
       "543128          0  2200665641  Tue Jun 16 19:12:22 PDT 2009  NO_QUERY   \n",
       "1494397         4  2069693927  Sun Jun 07 16:21:11 PDT 2009  NO_QUERY   \n",
       "800240          4  1467862924  Mon Apr 06 22:33:23 PDT 2009  NO_QUERY   \n",
       "1408133         4  2055648731  Sat Jun 06 09:42:11 PDT 2009  NO_QUERY   \n",
       "1367547         4  2050433174  Fri Jun 05 18:39:37 PDT 2009  NO_QUERY   \n",
       "977272          4  1833717916  Mon May 18 00:12:51 PDT 2009  NO_QUERY   \n",
       "769444          0  2301408671  Tue Jun 23 15:24:10 PDT 2009  NO_QUERY   \n",
       "1273803         4  2000891104  Mon Jun 01 23:14:30 PDT 2009  NO_QUERY   \n",
       "6928            0  1469615079  Tue Apr 07 06:54:43 PDT 2009  NO_QUERY   \n",
       "\n",
       "                  user                                               text  \n",
       "1563549      stephrose  @dooce she's gorgeous and yes, her name does k...  \n",
       "543128         since06  wish i could sing for living!!! i'd do it in m...  \n",
       "1494397       autodafe           @midknightsmusee grats on your purchase   \n",
       "800240       sarup1212           One sixty six in bowling. Holy shit lol   \n",
       "1408133       araihc12  at rachy's house. gonna walk somewhere to have...  \n",
       "1367547       smrtgirl  The house is clean again, now I can enjoy the ...  \n",
       "977272        ajohns44                           relaxxxxxxxxing at last   \n",
       "769444       couserctu                             its sooo warm tonight   \n",
       "1273803  AnthonyxSteez                          New puppy, more memories   \n",
       "6928        TwilightDa  I will no longer drink coffee. if i do, you ca...  "
      ]
     },
     "execution_count": 5,
     "metadata": {},
     "output_type": "execute_result"
    }
   ],
   "source": [
    "data.head(10)"
   ]
  },
  {
   "cell_type": "code",
   "execution_count": 6,
   "metadata": {
    "execution": {
     "iopub.execute_input": "2021-06-08T17:18:19.998339Z",
     "iopub.status.busy": "2021-06-08T17:18:19.998002Z",
     "iopub.status.idle": "2021-06-08T17:18:20.010359Z",
     "shell.execute_reply": "2021-06-08T17:18:20.009340Z",
     "shell.execute_reply.started": "2021-06-08T17:18:19.998305Z"
    },
    "id": "CEGPNsXRdkks",
    "outputId": "d7a07409-b827-4c03-ee78-a87a2a2b03cf"
   },
   "outputs": [
    {
     "data": {
      "text/plain": [
       "array([4, 0])"
      ]
     },
     "execution_count": 6,
     "metadata": {},
     "output_type": "execute_result"
    }
   ],
   "source": [
    "data['polarity'].unique()"
   ]
  },
  {
   "cell_type": "code",
   "execution_count": 7,
   "metadata": {
    "execution": {
     "iopub.execute_input": "2021-06-08T17:18:20.012040Z",
     "iopub.status.busy": "2021-06-08T17:18:20.011732Z",
     "iopub.status.idle": "2021-06-08T17:18:20.032604Z",
     "shell.execute_reply": "2021-06-08T17:18:20.031531Z",
     "shell.execute_reply.started": "2021-06-08T17:18:20.012005Z"
    },
    "id": "Tl4afas1W20w",
    "outputId": "8e3d79af-1590-4c87-e2c1-aadc45e651e4"
   },
   "outputs": [
    {
     "data": {
      "text/html": [
       "<div>\n",
       "<style scoped>\n",
       "    .dataframe tbody tr th:only-of-type {\n",
       "        vertical-align: middle;\n",
       "    }\n",
       "\n",
       "    .dataframe tbody tr th {\n",
       "        vertical-align: top;\n",
       "    }\n",
       "\n",
       "    .dataframe thead th {\n",
       "        text-align: right;\n",
       "    }\n",
       "</style>\n",
       "<table border=\"1\" class=\"dataframe\">\n",
       "  <thead>\n",
       "    <tr style=\"text-align: right;\">\n",
       "      <th></th>\n",
       "      <th>polarity</th>\n",
       "      <th>id</th>\n",
       "      <th>date</th>\n",
       "      <th>query</th>\n",
       "      <th>user</th>\n",
       "      <th>text</th>\n",
       "    </tr>\n",
       "  </thead>\n",
       "  <tbody>\n",
       "    <tr>\n",
       "      <th>1563549</th>\n",
       "      <td>1</td>\n",
       "      <td>2187091364</td>\n",
       "      <td>Mon Jun 15 19:46:38 PDT 2009</td>\n",
       "      <td>NO_QUERY</td>\n",
       "      <td>stephrose</td>\n",
       "      <td>@dooce she's gorgeous and yes, her name does k...</td>\n",
       "    </tr>\n",
       "    <tr>\n",
       "      <th>543128</th>\n",
       "      <td>0</td>\n",
       "      <td>2200665641</td>\n",
       "      <td>Tue Jun 16 19:12:22 PDT 2009</td>\n",
       "      <td>NO_QUERY</td>\n",
       "      <td>since06</td>\n",
       "      <td>wish i could sing for living!!! i'd do it in m...</td>\n",
       "    </tr>\n",
       "    <tr>\n",
       "      <th>1494397</th>\n",
       "      <td>1</td>\n",
       "      <td>2069693927</td>\n",
       "      <td>Sun Jun 07 16:21:11 PDT 2009</td>\n",
       "      <td>NO_QUERY</td>\n",
       "      <td>autodafe</td>\n",
       "      <td>@midknightsmusee grats on your purchase</td>\n",
       "    </tr>\n",
       "    <tr>\n",
       "      <th>800240</th>\n",
       "      <td>1</td>\n",
       "      <td>1467862924</td>\n",
       "      <td>Mon Apr 06 22:33:23 PDT 2009</td>\n",
       "      <td>NO_QUERY</td>\n",
       "      <td>sarup1212</td>\n",
       "      <td>One sixty six in bowling. Holy shit lol</td>\n",
       "    </tr>\n",
       "    <tr>\n",
       "      <th>1408133</th>\n",
       "      <td>1</td>\n",
       "      <td>2055648731</td>\n",
       "      <td>Sat Jun 06 09:42:11 PDT 2009</td>\n",
       "      <td>NO_QUERY</td>\n",
       "      <td>araihc12</td>\n",
       "      <td>at rachy's house. gonna walk somewhere to have...</td>\n",
       "    </tr>\n",
       "  </tbody>\n",
       "</table>\n",
       "</div>"
      ],
      "text/plain": [
       "         polarity          id                          date     query  \\\n",
       "1563549         1  2187091364  Mon Jun 15 19:46:38 PDT 2009  NO_QUERY   \n",
       "543128          0  2200665641  Tue Jun 16 19:12:22 PDT 2009  NO_QUERY   \n",
       "1494397         1  2069693927  Sun Jun 07 16:21:11 PDT 2009  NO_QUERY   \n",
       "800240          1  1467862924  Mon Apr 06 22:33:23 PDT 2009  NO_QUERY   \n",
       "1408133         1  2055648731  Sat Jun 06 09:42:11 PDT 2009  NO_QUERY   \n",
       "\n",
       "              user                                               text  \n",
       "1563549  stephrose  @dooce she's gorgeous and yes, her name does k...  \n",
       "543128     since06  wish i could sing for living!!! i'd do it in m...  \n",
       "1494397   autodafe           @midknightsmusee grats on your purchase   \n",
       "800240   sarup1212           One sixty six in bowling. Holy shit lol   \n",
       "1408133   araihc12  at rachy's house. gonna walk somewhere to have...  "
      ]
     },
     "execution_count": 7,
     "metadata": {},
     "output_type": "execute_result"
    }
   ],
   "source": [
    "# Replacing the value 4 -->1 for ease of understanding.\n",
    "data['polarity'] = data['polarity'].replace(4,1)\n",
    "data.head()"
   ]
  },
  {
   "cell_type": "code",
   "execution_count": 8,
   "metadata": {
    "execution": {
     "iopub.execute_input": "2021-06-08T17:18:20.034037Z",
     "iopub.status.busy": "2021-06-08T17:18:20.033762Z",
     "iopub.status.idle": "2021-06-08T17:18:20.067866Z",
     "shell.execute_reply": "2021-06-08T17:18:20.066953Z",
     "shell.execute_reply.started": "2021-06-08T17:18:20.034010Z"
    },
    "id": "evVpnAuDwo64",
    "outputId": "a74f56e3-e55b-4c18-e854-32cbba487025"
   },
   "outputs": [
    {
     "data": {
      "text/html": [
       "<div>\n",
       "<style scoped>\n",
       "    .dataframe tbody tr th:only-of-type {\n",
       "        vertical-align: middle;\n",
       "    }\n",
       "\n",
       "    .dataframe tbody tr th {\n",
       "        vertical-align: top;\n",
       "    }\n",
       "\n",
       "    .dataframe thead th {\n",
       "        text-align: right;\n",
       "    }\n",
       "</style>\n",
       "<table border=\"1\" class=\"dataframe\">\n",
       "  <thead>\n",
       "    <tr style=\"text-align: right;\">\n",
       "      <th></th>\n",
       "      <th>polarity</th>\n",
       "      <th>id</th>\n",
       "    </tr>\n",
       "  </thead>\n",
       "  <tbody>\n",
       "    <tr>\n",
       "      <th>count</th>\n",
       "      <td>200000.000000</td>\n",
       "      <td>2.000000e+05</td>\n",
       "    </tr>\n",
       "    <tr>\n",
       "      <th>mean</th>\n",
       "      <td>0.499545</td>\n",
       "      <td>1.999141e+09</td>\n",
       "    </tr>\n",
       "    <tr>\n",
       "      <th>std</th>\n",
       "      <td>0.500001</td>\n",
       "      <td>1.931377e+08</td>\n",
       "    </tr>\n",
       "    <tr>\n",
       "      <th>min</th>\n",
       "      <td>0.000000</td>\n",
       "      <td>1.467812e+09</td>\n",
       "    </tr>\n",
       "    <tr>\n",
       "      <th>25%</th>\n",
       "      <td>0.000000</td>\n",
       "      <td>1.957005e+09</td>\n",
       "    </tr>\n",
       "    <tr>\n",
       "      <th>50%</th>\n",
       "      <td>0.000000</td>\n",
       "      <td>2.002124e+09</td>\n",
       "    </tr>\n",
       "    <tr>\n",
       "      <th>75%</th>\n",
       "      <td>1.000000</td>\n",
       "      <td>2.177051e+09</td>\n",
       "    </tr>\n",
       "    <tr>\n",
       "      <th>max</th>\n",
       "      <td>1.000000</td>\n",
       "      <td>2.329206e+09</td>\n",
       "    </tr>\n",
       "  </tbody>\n",
       "</table>\n",
       "</div>"
      ],
      "text/plain": [
       "            polarity            id\n",
       "count  200000.000000  2.000000e+05\n",
       "mean        0.499545  1.999141e+09\n",
       "std         0.500001  1.931377e+08\n",
       "min         0.000000  1.467812e+09\n",
       "25%         0.000000  1.957005e+09\n",
       "50%         0.000000  2.002124e+09\n",
       "75%         1.000000  2.177051e+09\n",
       "max         1.000000  2.329206e+09"
      ]
     },
     "execution_count": 8,
     "metadata": {},
     "output_type": "execute_result"
    }
   ],
   "source": [
    "data.describe()"
   ]
  },
  {
   "cell_type": "code",
   "execution_count": 9,
   "metadata": {
    "execution": {
     "iopub.execute_input": "2021-06-08T17:18:20.070649Z",
     "iopub.status.busy": "2021-06-08T17:18:20.070308Z",
     "iopub.status.idle": "2021-06-08T17:18:20.104497Z",
     "shell.execute_reply": "2021-06-08T17:18:20.103281Z",
     "shell.execute_reply.started": "2021-06-08T17:18:20.070619Z"
    },
    "id": "iTN9l7p2w_N0",
    "outputId": "c03ca38a-2536-479a-9219-fcef71791510"
   },
   "outputs": [
    {
     "name": "stdout",
     "output_type": "stream",
     "text": [
      "Total length of the data is:         200000\n",
      "No. of positve tagged sentences is:  99909\n",
      "No. of negative tagged sentences is: 100091\n"
     ]
    }
   ],
   "source": [
    "# check the number of positive vs. negative tagged sentences\n",
    "positives = data['polarity'][data.polarity == 1 ]\n",
    "negatives = data['polarity'][data.polarity == 0 ]\n",
    "\n",
    "print('Total length of the data is:         {}'.format(data.shape[0]))\n",
    "print('No. of positve tagged sentences is:  {}'.format(len(positives)))\n",
    "print('No. of negative tagged sentences is: {}'.format(len(negatives)))"
   ]
  },
  {
   "cell_type": "code",
   "execution_count": 10,
   "metadata": {
    "execution": {
     "iopub.execute_input": "2021-06-08T17:18:20.106441Z",
     "iopub.status.busy": "2021-06-08T17:18:20.106066Z",
     "iopub.status.idle": "2021-06-08T17:18:20.111055Z",
     "shell.execute_reply": "2021-06-08T17:18:20.110134Z",
     "shell.execute_reply.started": "2021-06-08T17:18:20.106409Z"
    },
    "id": "FZCZYZKn00Iv"
   },
   "outputs": [],
   "source": [
    "# get a word count per of text\n",
    "def word_count(words):\n",
    "    return len(words.split())"
   ]
  },
  {
   "cell_type": "code",
   "execution_count": 11,
   "metadata": {
    "execution": {
     "iopub.execute_input": "2021-06-08T17:18:20.113105Z",
     "iopub.status.busy": "2021-06-08T17:18:20.112800Z",
     "iopub.status.idle": "2021-06-08T17:18:20.740819Z",
     "shell.execute_reply": "2021-06-08T17:18:20.739854Z",
     "shell.execute_reply.started": "2021-06-08T17:18:20.113075Z"
    },
    "id": "G25IkW3303gw",
    "outputId": "42406a20-5812-4d51-8053-573c11b32014"
   },
   "outputs": [
    {
     "data": {
      "text/plain": [
       "<matplotlib.legend.Legend at 0x7f4c069f7e90>"
      ]
     },
     "execution_count": 11,
     "metadata": {},
     "output_type": "execute_result"
    },
    {
     "data": {
      "image/png": "[encoded data removed]",
      "text/plain": [
       "<Figure size 864x432 with 1 Axes>"
      ]
     },
     "metadata": {
      "needs_background": "light"
     },
     "output_type": "display_data"
    }
   ],
   "source": [
    "# plot word count distribution for both positive and negative \n",
    "\n",
    "data['word count'] = data['text'].apply(word_count)\n",
    "p = data['word count'][data.polarity == 1]\n",
    "n = data['word count'][data.polarity == 0]\n",
    "plt.figure(figsize=(12,6))\n",
    "plt.xlim(0,45)\n",
    "plt.xlabel('Word count')\n",
    "plt.ylabel('Frequency')\n",
    "g = plt.hist([p, n], color=['g','r'], alpha=0.5, label=['positive','negative'])\n",
    "plt.legend(loc='upper right')"
   ]
  },
  {
   "cell_type": "code",
   "execution_count": 12,
   "metadata": {
    "execution": {
     "iopub.execute_input": "2021-06-08T17:18:20.742353Z",
     "iopub.status.busy": "2021-06-08T17:18:20.742039Z",
     "iopub.status.idle": "2021-06-08T17:18:22.535396Z",
     "shell.execute_reply": "2021-06-08T17:18:22.534331Z",
     "shell.execute_reply.started": "2021-06-08T17:18:20.742319Z"
    },
    "id": "AudC8DVW07Cf",
    "outputId": "65ebdbd3-ae34-4ebe-88b2-e96fa7c099fe"
   },
   "outputs": [
    {
     "data": {
      "text/plain": [
       "[('the', 64593),\n",
       " ('and', 37260),\n",
       " ('you', 29661),\n",
       " ('for', 26552),\n",
       " ('have', 18109),\n",
       " (\"i'm\", 16094),\n",
       " ('that', 16078),\n",
       " ('but', 15765),\n",
       " ('just', 15764),\n",
       " ('with', 14297),\n",
       " ('was', 12862),\n",
       " ('not', 12812),\n",
       " ('this', 11010),\n",
       " ('get', 10181),\n",
       " ('good', 9754),\n",
       " ('are', 9445),\n",
       " ('like', 9412),\n",
       " ('all', 9196),\n",
       " ('out', 8557),\n",
       " ('your', 8081)]"
      ]
     },
     "execution_count": 12,
     "metadata": {},
     "output_type": "execute_result"
    }
   ],
   "source": [
    "# get common words in training dataset\n",
    "from collections import Counter\n",
    "all_words = []\n",
    "for line in list(data['text']):\n",
    "    words = line.split()\n",
    "    for word in words:\n",
    "      if(len(word)>2):\n",
    "        all_words.append(word.lower())\n",
    "    \n",
    "    \n",
    "Counter(all_words).most_common(20)"
   ]
  },
  {
   "cell_type": "markdown",
   "metadata": {
    "id": "XXzTV672dkkr"
   },
   "source": [
    "# Data Processing <a id=\"4\"></a>"
   ]
  },
  {
   "cell_type": "code",
   "execution_count": 13,
   "metadata": {
    "execution": {
     "iopub.execute_input": "2021-06-08T17:18:22.537214Z",
     "iopub.status.busy": "2021-06-08T17:18:22.536874Z",
     "iopub.status.idle": "2021-06-08T17:18:22.713710Z",
     "shell.execute_reply": "2021-06-08T17:18:22.712682Z",
     "shell.execute_reply.started": "2021-06-08T17:18:22.537183Z"
    },
    "id": "Da5Dmn9Vdkks",
    "outputId": "ba678aa4-7e32-44c3-f03e-33cebe7c6451"
   },
   "outputs": [
    {
     "data": {
      "text/plain": [
       "<AxesSubplot:xlabel='polarity', ylabel='count'>"
      ]
     },
     "execution_count": 13,
     "metadata": {},
     "output_type": "execute_result"
    },
    {
     "data": {
      "image/png": "[encoded data removed]",
      "text/plain": [
       "<Figure size 432x288 with 1 Axes>"
      ]
     },
     "metadata": {
      "needs_background": "light"
     },
     "output_type": "display_data"
    }
   ],
   "source": [
    "%matplotlib inline\n",
    "sns.countplot(data['polarity'])"
   ]
  },
  {
   "cell_type": "code",
   "execution_count": 14,
   "metadata": {
    "execution": {
     "iopub.execute_input": "2021-06-08T17:18:22.715359Z",
     "iopub.status.busy": "2021-06-08T17:18:22.715074Z",
     "iopub.status.idle": "2021-06-08T17:18:22.731830Z",
     "shell.execute_reply": "2021-06-08T17:18:22.730388Z",
     "shell.execute_reply.started": "2021-06-08T17:18:22.715331Z"
    },
    "id": "VE6nqmh5dkku"
   },
   "outputs": [],
   "source": [
    "# Removing the unnecessary columns.\n",
    "data.drop(['date','query','user','word count'], axis=1, inplace=True)"
   ]
  },
  {
   "cell_type": "code",
   "execution_count": 15,
   "metadata": {
    "execution": {
     "iopub.execute_input": "2021-06-08T17:18:22.735792Z",
     "iopub.status.busy": "2021-06-08T17:18:22.735410Z",
     "iopub.status.idle": "2021-06-08T17:18:22.757912Z",
     "shell.execute_reply": "2021-06-08T17:18:22.756739Z",
     "shell.execute_reply.started": "2021-06-08T17:18:22.735757Z"
    }
   },
   "outputs": [],
   "source": [
    "data.drop('id', axis=1, inplace=True)"
   ]
  },
  {
   "cell_type": "code",
   "execution_count": 16,
   "metadata": {
    "execution": {
     "iopub.execute_input": "2021-06-08T17:18:22.759803Z",
     "iopub.status.busy": "2021-06-08T17:18:22.759444Z",
     "iopub.status.idle": "2021-06-08T17:18:22.777431Z",
     "shell.execute_reply": "2021-06-08T17:18:22.776529Z",
     "shell.execute_reply.started": "2021-06-08T17:18:22.759771Z"
    },
    "id": "XNSb32D9dkku",
    "outputId": "dc5e8e0e-041d-4fdc-f94d-716c17fcaa52"
   },
   "outputs": [
    {
     "data": {
      "text/html": [
       "<div>\n",
       "<style scoped>\n",
       "    .dataframe tbody tr th:only-of-type {\n",
       "        vertical-align: middle;\n",
       "    }\n",
       "\n",
       "    .dataframe tbody tr th {\n",
       "        vertical-align: top;\n",
       "    }\n",
       "\n",
       "    .dataframe thead th {\n",
       "        text-align: right;\n",
       "    }\n",
       "</style>\n",
       "<table border=\"1\" class=\"dataframe\">\n",
       "  <thead>\n",
       "    <tr style=\"text-align: right;\">\n",
       "      <th></th>\n",
       "      <th>polarity</th>\n",
       "      <th>text</th>\n",
       "    </tr>\n",
       "  </thead>\n",
       "  <tbody>\n",
       "    <tr>\n",
       "      <th>1563549</th>\n",
       "      <td>1</td>\n",
       "      <td>@dooce she's gorgeous and yes, her name does k...</td>\n",
       "    </tr>\n",
       "    <tr>\n",
       "      <th>543128</th>\n",
       "      <td>0</td>\n",
       "      <td>wish i could sing for living!!! i'd do it in m...</td>\n",
       "    </tr>\n",
       "    <tr>\n",
       "      <th>1494397</th>\n",
       "      <td>1</td>\n",
       "      <td>@midknightsmusee grats on your purchase</td>\n",
       "    </tr>\n",
       "    <tr>\n",
       "      <th>800240</th>\n",
       "      <td>1</td>\n",
       "      <td>One sixty six in bowling. Holy shit lol</td>\n",
       "    </tr>\n",
       "    <tr>\n",
       "      <th>1408133</th>\n",
       "      <td>1</td>\n",
       "      <td>at rachy's house. gonna walk somewhere to have...</td>\n",
       "    </tr>\n",
       "    <tr>\n",
       "      <th>1367547</th>\n",
       "      <td>1</td>\n",
       "      <td>The house is clean again, now I can enjoy the ...</td>\n",
       "    </tr>\n",
       "    <tr>\n",
       "      <th>977272</th>\n",
       "      <td>1</td>\n",
       "      <td>relaxxxxxxxxing at last</td>\n",
       "    </tr>\n",
       "    <tr>\n",
       "      <th>769444</th>\n",
       "      <td>0</td>\n",
       "      <td>its sooo warm tonight</td>\n",
       "    </tr>\n",
       "    <tr>\n",
       "      <th>1273803</th>\n",
       "      <td>1</td>\n",
       "      <td>New puppy, more memories</td>\n",
       "    </tr>\n",
       "    <tr>\n",
       "      <th>6928</th>\n",
       "      <td>0</td>\n",
       "      <td>I will no longer drink coffee. if i do, you ca...</td>\n",
       "    </tr>\n",
       "  </tbody>\n",
       "</table>\n",
       "</div>"
      ],
      "text/plain": [
       "         polarity                                               text\n",
       "1563549         1  @dooce she's gorgeous and yes, her name does k...\n",
       "543128          0  wish i could sing for living!!! i'd do it in m...\n",
       "1494397         1           @midknightsmusee grats on your purchase \n",
       "800240          1           One sixty six in bowling. Holy shit lol \n",
       "1408133         1  at rachy's house. gonna walk somewhere to have...\n",
       "1367547         1  The house is clean again, now I can enjoy the ...\n",
       "977272          1                           relaxxxxxxxxing at last \n",
       "769444          0                             its sooo warm tonight \n",
       "1273803         1                          New puppy, more memories \n",
       "6928            0  I will no longer drink coffee. if i do, you ca..."
      ]
     },
     "execution_count": 16,
     "metadata": {},
     "output_type": "execute_result"
    }
   ],
   "source": [
    "data.head(10)"
   ]
  },
  {
   "cell_type": "code",
   "execution_count": 17,
   "metadata": {
    "execution": {
     "iopub.execute_input": "2021-06-08T17:18:22.779004Z",
     "iopub.status.busy": "2021-06-08T17:18:22.778569Z",
     "iopub.status.idle": "2021-06-08T17:18:22.832507Z",
     "shell.execute_reply": "2021-06-08T17:18:22.831170Z",
     "shell.execute_reply.started": "2021-06-08T17:18:22.778962Z"
    },
    "id": "vI1xFqAZdkku",
    "outputId": "d09a39d1-b8be-4879-e7ec-6409800f80d8"
   },
   "outputs": [
    {
     "data": {
      "text/plain": [
       "polarity    0.0\n",
       "text        0.0\n",
       "dtype: float64"
      ]
     },
     "execution_count": 17,
     "metadata": {},
     "output_type": "execute_result"
    }
   ],
   "source": [
    "#Checking if any null values present\n",
    "(data.isnull().sum() / len(data))*100"
   ]
  },
  {
   "cell_type": "code",
   "execution_count": 18,
   "metadata": {
    "execution": {
     "iopub.execute_input": "2021-06-08T17:18:22.834253Z",
     "iopub.status.busy": "2021-06-08T17:18:22.833955Z",
     "iopub.status.idle": "2021-06-08T17:18:22.886729Z",
     "shell.execute_reply": "2021-06-08T17:18:22.885695Z",
     "shell.execute_reply.started": "2021-06-08T17:18:22.834225Z"
    },
    "id": "ThC3QfwupuUs"
   },
   "outputs": [],
   "source": [
    "#convrting pandas object to a string type\n",
    "data['text'] = data['text'].astype('str')"
   ]
  },
  {
   "cell_type": "code",
   "execution_count": 19,
   "metadata": {
    "execution": {
     "iopub.execute_input": "2021-06-08T17:18:22.888714Z",
     "iopub.status.busy": "2021-06-08T17:18:22.888409Z",
     "iopub.status.idle": "2021-06-08T17:18:42.935488Z",
     "shell.execute_reply": "2021-06-08T17:18:42.934367Z",
     "shell.execute_reply.started": "2021-06-08T17:18:22.888685Z"
    },
    "id": "sUxte8kadkkt",
    "outputId": "20ab1d84-f414-4935-d556-1a100f9c91f3"
   },
   "outputs": [
    {
     "name": "stdout",
     "output_type": "stream",
     "text": [
      "[nltk_data] Error loading stopwords: <urlopen error [Errno -3]\n",
      "[nltk_data]     Temporary failure in name resolution>\n",
      "{'themselves', 'has', 'myself', 'herself', 'further', 'be', 'during', 'about', 'through', 'that', 'mightn', 'at', 'against', 'into', 'same', 'as', \"shan't\", \"hasn't\", 'for', 'very', 'he', 'those', 'most', 'ain', 'between', 'will', 'you', \"weren't\", 'was', 'in', \"isn't\", \"didn't\", 'some', 'nor', 'again', 'my', 'me', 'himself', 'too', 'i', 'where', 'or', 'few', \"she's\", \"you'll\", 'had', 'because', 'is', 'does', 'ours', 'all', 'how', 'whom', 'above', \"mustn't\", 'shouldn', \"you've\", \"aren't\", 'more', 'on', 'yours', 'why', 'didn', \"doesn't\", 'can', 'hers', 'doing', 'down', 'yourselves', 'up', 'your', 'while', \"wasn't\", 'to', 'each', 'but', 'off', 'from', \"couldn't\", 'her', 'itself', \"won't\", 'couldn', \"hadn't\", 'it', \"that'll\", 'been', 'having', 'did', 'ma', 'now', 'do', 'the', 'isn', 's', 'won', 'other', 'hasn', 'they', 'she', 'these', 'such', 'mustn', 'under', 'theirs', 'needn', 'then', \"should've\", 'd', 've', 'y', 'over', 'and', 'their', 'what', 'have', 'with', 'of', 'once', 'are', \"mightn't\", 'don', 'weren', 'm', 'being', 'its', 'll', 'we', 'any', 'by', 'than', 'before', 'o', 'who', \"needn't\", \"shouldn't\", 'own', 't', 'hadn', 'only', 'an', 'out', 'below', 'if', 'ourselves', \"wouldn't\", 'our', 'both', 'doesn', \"haven't\", 'shan', 'haven', 'here', 'wasn', 'which', \"don't\", 'yourself', 'should', \"you're\", 'so', 're', 'wouldn', 'his', 'this', 'were', 'am', 'no', 'a', 'when', 'not', 'just', 'him', \"it's\", 'until', 'aren', \"you'd\", 'there', 'them', 'after'}\n"
     ]
    }
   ],
   "source": [
    "nltk.download('stopwords')\n",
    "stopword = set(stopwords.words('english'))\n",
    "print(stopword)"
   ]
  },
  {
   "cell_type": "code",
   "execution_count": 20,
   "metadata": {
    "execution": {
     "iopub.execute_input": "2021-06-08T17:18:42.939337Z",
     "iopub.status.busy": "2021-06-08T17:18:42.939005Z",
     "iopub.status.idle": "2021-06-08T17:19:23.001254Z",
     "shell.execute_reply": "2021-06-08T17:19:23.000061Z",
     "shell.execute_reply.started": "2021-06-08T17:18:42.939297Z"
    },
    "id": "eIbgnD6_p8Dr",
    "outputId": "91ef58df-bf04-48cf-e7d9-2d2d2f48fec6"
   },
   "outputs": [
    {
     "name": "stdout",
     "output_type": "stream",
     "text": [
      "[nltk_data] Error loading punkt: <urlopen error [Errno -3] Temporary\n",
      "[nltk_data]     failure in name resolution>\n",
      "[nltk_data] Error loading wordnet: <urlopen error [Errno -3] Temporary\n",
      "[nltk_data]     failure in name resolution>\n"
     ]
    },
    {
     "data": {
      "text/plain": [
       "False"
      ]
     },
     "execution_count": 20,
     "metadata": {},
     "output_type": "execute_result"
    }
   ],
   "source": [
    "nltk.download('punkt')\n",
    "nltk.download('wordnet')"
   ]
  },
  {
   "cell_type": "markdown",
   "metadata": {
    "id": "wgKLmakU4bTh"
   },
   "source": [
    "> The Preprocessing steps taken are:\n",
    "\n",
    "* Lower Casing: Each text is converted to lowercase.\n",
    "* Removing URLs: Links starting with \"http\" or \"https\" or \"www\" are replaced by \"\".\n",
    "\n",
    "* Removing Usernames: Replace @Usernames with word \"\". (eg: \"@XYZ\" to \"\")\n",
    "* Removing Short Words: Words with length less than 2 are removed.\n",
    "* Removing Stopwords: Stopwords are the English words which does not add much meaning to a sentence. They can safely be ignored without sacrificing the meaning of the sentence. (eg: \"the\", \"he\", \"have\")\n",
    "* Lemmatizing: Lemmatization is the process of converting a word to its base form. (e.g: “wolves” to “wolf”)"
   ]
  },
  {
   "cell_type": "code",
   "execution_count": 21,
   "metadata": {
    "execution": {
     "iopub.execute_input": "2021-06-08T17:19:23.003085Z",
     "iopub.status.busy": "2021-06-08T17:19:23.002778Z",
     "iopub.status.idle": "2021-06-08T17:19:23.011103Z",
     "shell.execute_reply": "2021-06-08T17:19:23.009806Z",
     "shell.execute_reply.started": "2021-06-08T17:19:23.003055Z"
    },
    "id": "1qK7KlBpdkkt"
   },
   "outputs": [],
   "source": [
    "urlPattern = r\"((http://)[^ ]*|(https://)[^ ]*|( www\\.)[^ ]*)\"\n",
    "userPattern = '@[^\\s]+'\n",
    "def process_tweets(tweet):\n",
    "  # Lower Casing\n",
    "    tweet = tweet.lower()\n",
    "    tweet=tweet[1:]\n",
    "    # Removing all URls \n",
    "    tweet = re.sub(urlPattern,'',tweet)\n",
    "    # Removing all @username.\n",
    "    tweet = re.sub(userPattern,'', tweet) \n",
    "    #Remove punctuations\n",
    "    tweet = tweet.translate(str.maketrans(\"\",\"\",string.punctuation))\n",
    "    #tokenizing words\n",
    "    tokens = word_tokenize(tweet)\n",
    "    #Removing Stop Words\n",
    "    final_tokens = [w for w in tokens if w not in stopword]\n",
    "    #reducing a word to its word stem \n",
    "    wordLemm = WordNetLemmatizer()\n",
    "    finalwords=[]\n",
    "    for w in final_tokens:\n",
    "      if len(w)>1:\n",
    "        word = wordLemm.lemmatize(w)\n",
    "        finalwords.append(word)\n",
    "    return ' '.join(finalwords)"
   ]
  },
  {
   "cell_type": "code",
   "execution_count": 22,
   "metadata": {
    "execution": {
     "iopub.execute_input": "2021-06-08T17:19:23.013343Z",
     "iopub.status.busy": "2021-06-08T17:19:23.013028Z",
     "iopub.status.idle": "2021-06-08T17:20:14.214167Z",
     "shell.execute_reply": "2021-06-08T17:20:14.213091Z",
     "shell.execute_reply.started": "2021-06-08T17:19:23.013311Z"
    },
    "id": "We9fsGPzdkku",
    "outputId": "3ca97e3b-6b03-4df0-918c-2183d87c5599"
   },
   "outputs": [
    {
     "name": "stdout",
     "output_type": "stream",
     "text": [
      "Text Preprocessing complete.\n"
     ]
    }
   ],
   "source": [
    "data['processed_tweets'] = data['text'].apply(lambda x: process_tweets(x))\n",
    "print('Text Preprocessing complete.')"
   ]
  },
  {
   "cell_type": "code",
   "execution_count": 23,
   "metadata": {
    "execution": {
     "iopub.execute_input": "2021-06-08T17:20:14.215916Z",
     "iopub.status.busy": "2021-06-08T17:20:14.215597Z",
     "iopub.status.idle": "2021-06-08T17:20:14.228625Z",
     "shell.execute_reply": "2021-06-08T17:20:14.227406Z",
     "shell.execute_reply.started": "2021-06-08T17:20:14.215884Z"
    },
    "id": "25A79MOtdkkv",
    "outputId": "03c1e106-a052-44f0-df3b-7826f8044a68"
   },
   "outputs": [
    {
     "data": {
      "text/html": [
       "<div>\n",
       "<style scoped>\n",
       "    .dataframe tbody tr th:only-of-type {\n",
       "        vertical-align: middle;\n",
       "    }\n",
       "\n",
       "    .dataframe tbody tr th {\n",
       "        vertical-align: top;\n",
       "    }\n",
       "\n",
       "    .dataframe thead th {\n",
       "        text-align: right;\n",
       "    }\n",
       "</style>\n",
       "<table border=\"1\" class=\"dataframe\">\n",
       "  <thead>\n",
       "    <tr style=\"text-align: right;\">\n",
       "      <th></th>\n",
       "      <th>polarity</th>\n",
       "      <th>text</th>\n",
       "      <th>processed_tweets</th>\n",
       "    </tr>\n",
       "  </thead>\n",
       "  <tbody>\n",
       "    <tr>\n",
       "      <th>1563549</th>\n",
       "      <td>1</td>\n",
       "      <td>@dooce she's gorgeous and yes, her name does k...</td>\n",
       "      <td>dooce shes gorgeous yes name kick as love cong...</td>\n",
       "    </tr>\n",
       "    <tr>\n",
       "      <th>543128</th>\n",
       "      <td>0</td>\n",
       "      <td>wish i could sing for living!!! i'd do it in m...</td>\n",
       "      <td>ish could sing living id sleep haha imma beast...</td>\n",
       "    </tr>\n",
       "    <tr>\n",
       "      <th>1494397</th>\n",
       "      <td>1</td>\n",
       "      <td>@midknightsmusee grats on your purchase</td>\n",
       "      <td>midknightsmusee grats purchase</td>\n",
       "    </tr>\n",
       "    <tr>\n",
       "      <th>800240</th>\n",
       "      <td>1</td>\n",
       "      <td>One sixty six in bowling. Holy shit lol</td>\n",
       "      <td>ne sixty six bowling holy shit lol</td>\n",
       "    </tr>\n",
       "    <tr>\n",
       "      <th>1408133</th>\n",
       "      <td>1</td>\n",
       "      <td>at rachy's house. gonna walk somewhere to have...</td>\n",
       "      <td>rachys house gon na walk somewhere lunnnch</td>\n",
       "    </tr>\n",
       "    <tr>\n",
       "      <th>1367547</th>\n",
       "      <td>1</td>\n",
       "      <td>The house is clean again, now I can enjoy the ...</td>\n",
       "      <td>house clean enjoy rest weekend</td>\n",
       "    </tr>\n",
       "    <tr>\n",
       "      <th>977272</th>\n",
       "      <td>1</td>\n",
       "      <td>relaxxxxxxxxing at last</td>\n",
       "      <td>elaxxxxxxxxing last</td>\n",
       "    </tr>\n",
       "    <tr>\n",
       "      <th>769444</th>\n",
       "      <td>0</td>\n",
       "      <td>its sooo warm tonight</td>\n",
       "      <td>t sooo warm tonight</td>\n",
       "    </tr>\n",
       "    <tr>\n",
       "      <th>1273803</th>\n",
       "      <td>1</td>\n",
       "      <td>New puppy, more memories</td>\n",
       "      <td>ew puppy memory</td>\n",
       "    </tr>\n",
       "    <tr>\n",
       "      <th>6928</th>\n",
       "      <td>0</td>\n",
       "      <td>I will no longer drink coffee. if i do, you ca...</td>\n",
       "      <td>longer drink coffee jem doll except house co d...</td>\n",
       "    </tr>\n",
       "  </tbody>\n",
       "</table>\n",
       "</div>"
      ],
      "text/plain": [
       "         polarity                                               text  \\\n",
       "1563549         1  @dooce she's gorgeous and yes, her name does k...   \n",
       "543128          0  wish i could sing for living!!! i'd do it in m...   \n",
       "1494397         1           @midknightsmusee grats on your purchase    \n",
       "800240          1           One sixty six in bowling. Holy shit lol    \n",
       "1408133         1  at rachy's house. gonna walk somewhere to have...   \n",
       "1367547         1  The house is clean again, now I can enjoy the ...   \n",
       "977272          1                           relaxxxxxxxxing at last    \n",
       "769444          0                             its sooo warm tonight    \n",
       "1273803         1                          New puppy, more memories    \n",
       "6928            0  I will no longer drink coffee. if i do, you ca...   \n",
       "\n",
       "                                          processed_tweets  \n",
       "1563549  dooce shes gorgeous yes name kick as love cong...  \n",
       "543128   ish could sing living id sleep haha imma beast...  \n",
       "1494397                     midknightsmusee grats purchase  \n",
       "800240                  ne sixty six bowling holy shit lol  \n",
       "1408133         rachys house gon na walk somewhere lunnnch  \n",
       "1367547                     house clean enjoy rest weekend  \n",
       "977272                                 elaxxxxxxxxing last  \n",
       "769444                                 t sooo warm tonight  \n",
       "1273803                                    ew puppy memory  \n",
       "6928     longer drink coffee jem doll except house co d...  "
      ]
     },
     "execution_count": 23,
     "metadata": {},
     "output_type": "execute_result"
    }
   ],
   "source": [
    "data.head(10)"
   ]
  },
  {
   "cell_type": "markdown",
   "metadata": {
    "id": "8oYwlcqgqXZV"
   },
   "source": [
    "# Analyzing the data <a id=\"5\"></a>\n",
    "\n",
    "> #### Now we're going to analyse the preprocessed data to get an understanding of it. We'll plot Word Clouds for Positive and Negative tweets from our dataset and see which words occur the most."
   ]
  },
  {
   "cell_type": "markdown",
   "metadata": {
    "id": "vu7ZqLw3rRWb"
   },
   "source": [
    "### Word-Cloud for Negative tweets."
   ]
  },
  {
   "cell_type": "code",
   "execution_count": null,
   "metadata": {
    "execution": {
     "iopub.execute_input": "2021-06-08T17:20:14.230898Z",
     "iopub.status.busy": "2021-06-08T17:20:14.230433Z"
    },
    "id": "M5VSi3yitet8",
    "outputId": "14ff2464-9969-4dcf-fe9c-918cb0795c3d"
   },
   "outputs": [],
   "source": [
    "plt.figure(figsize = (15,15)) \n",
    "wc = WordCloud(max_words = 2000 , width = 1600 , height = 800).generate(\" \".join(data[data.polarity == 0].processed_tweets))\n",
    "plt.imshow(wc , interpolation = 'bilinear')"
   ]
  },
  {
   "cell_type": "markdown",
   "metadata": {
    "id": "rgAuqnsLrXPp"
   },
   "source": [
    "### Word-Cloud for Positive tweets."
   ]
  },
  {
   "cell_type": "code",
   "execution_count": null,
   "metadata": {
    "id": "43faZ5-JuDBa",
    "outputId": "1366150b-735f-45a6-b845-73caf76a5d6b"
   },
   "outputs": [],
   "source": [
    "plt.figure(figsize = (15,15)) \n",
    "wc = WordCloud(max_words = 2000 , width = 1600 , height = 800).generate(\" \".join(data[data.polarity == 1].processed_tweets))\n",
    "plt.imshow(wc , interpolation = 'bilinear')"
   ]
  },
  {
   "cell_type": "markdown",
   "metadata": {
    "id": "YqARyAu8Ad1a"
   },
   "source": [
    "## Vectorization and Splitting the data <a id=\"6\"></a>\n",
    "Storing input variable-processes_tweets to X and output variable-polarity to y"
   ]
  },
  {
   "cell_type": "code",
   "execution_count": null,
   "metadata": {
    "id": "F_H_S5Xgdkkv"
   },
   "outputs": [],
   "source": [
    "X = data['processed_tweets'].values\n",
    "y = data['polarity'].values\n"
   ]
  },
  {
   "cell_type": "code",
   "execution_count": null,
   "metadata": {
    "id": "V7jVqik-dkkv",
    "outputId": "44777099-9068-436e-968d-7bfcceb9d63e"
   },
   "outputs": [],
   "source": [
    "print(X.shape)\n",
    "print(y.shape)"
   ]
  },
  {
   "cell_type": "markdown",
   "metadata": {
    "id": "mZM6jsR8_cJ7"
   },
   "source": [
    "## Convert text to word frequency vectors\n",
    "### TF-IDF\n",
    " This is an acronym than stands for **Term Frequency – Inverse Document** Frequency which are the components of the resulting scores assigned to each word.\n",
    "\n",
    "* Term Frequency: This summarizes how often a given word appears within a document.\n",
    "* Inverse Document Frequency: This downscales words that appear a lot across documents."
   ]
  },
  {
   "cell_type": "code",
   "execution_count": null,
   "metadata": {
    "id": "jFJC-pg8dkkw",
    "outputId": "95bdeeb6-7ab5-4bd1-a960-40a98ac10a05"
   },
   "outputs": [],
   "source": [
    "#Convert a collection of raw documents to a matrix of TF-IDF features.\n",
    "vector = TfidfVectorizer(sublinear_tf=True)\n",
    "X = vector.fit_transform(X)\n",
    "print(f'Vector fitted.')\n",
    "print('No. of feature_words: ', len(vector.get_feature_names()))"
   ]
  },
  {
   "cell_type": "code",
   "execution_count": null,
   "metadata": {
    "id": "K7OeXCrQdkkw",
    "outputId": "5882c3f6-9c74-4ddb-95d0-22a6a2125f4b"
   },
   "outputs": [],
   "source": [
    "print(X.shape)\n",
    "print(y.shape)"
   ]
  },
  {
   "cell_type": "markdown",
   "metadata": {
    "id": "2h8-AkgrBJC0"
   },
   "source": [
    "## Split train and test"
   ]
  },
  {
   "cell_type": "markdown",
   "metadata": {
    "id": "O7uscJT049G3"
   },
   "source": [
    "The Preprocessed Data is divided into 2 sets of data:\n",
    "\n",
    "* Training Data: The dataset upon which the model would be trained on. Contains 80% data.\n",
    "* Test Data: The dataset upon which the model would be tested against. Contains 20% data.\n",
    "\n",
    "\n"
   ]
  },
  {
   "cell_type": "code",
   "execution_count": null,
   "metadata": {
    "id": "RgFgy_iBdkkw"
   },
   "outputs": [],
   "source": [
    "X_train, X_test, y_train, y_test = train_test_split(X, y, test_size = 0.20, random_state=101)"
   ]
  },
  {
   "cell_type": "code",
   "execution_count": null,
   "metadata": {
    "id": "7h_jfcqedkkw",
    "outputId": "a14f9528-df9d-4593-98f5-22bea23edefe"
   },
   "outputs": [],
   "source": [
    "print(\"X_train\", X_train.shape)\n",
    "print(\"y_train\", y_train.shape)\n",
    "print()\n",
    "print(\"X_test\", X_test.shape)\n",
    "print(\"y_test\", y_test.shape)"
   ]
  },
  {
   "cell_type": "markdown",
   "metadata": {
    "id": "bk6zPzyxsPa-"
   },
   "source": [
    "# Model Building <a id=\"7\"></a>"
   ]
  },
  {
   "cell_type": "markdown",
   "metadata": {
    "id": "b4hgNd80Gqv_"
   },
   "source": [
    "### Model evaluating function"
   ]
  },
  {
   "cell_type": "code",
   "execution_count": null,
   "metadata": {
    "id": "aTM2kj98C9xq"
   },
   "outputs": [],
   "source": [
    "def model_Evaluate(model):\n",
    "    #accuracy of model on training data\n",
    "    acc_train=model.score(X_train, y_train)\n",
    "    #accuracy of model on test data\n",
    "    acc_test=model.score(X_test, y_test)\n",
    "    \n",
    "    print('Accuracy of model on training data : {}'.format(acc_train*100))\n",
    "    print('Accuracy of model on testing data : {} \\n'.format(acc_test*100))\n",
    "\n",
    "    # Predict values for Test dataset\n",
    "    y_pred = model.predict(X_test)\n",
    "\n",
    "    # Print the evaluation metrics for the dataset.\n",
    "    print(classification_report(y_test, y_pred))\n",
    "    \n",
    "    # Compute and plot the Confusion matrix\n",
    "    cf_matrix = confusion_matrix(y_test, y_pred)\n",
    "\n",
    "    categories  = ['Negative','Positive']\n",
    "    group_names = ['True Neg','False Pos', 'False Neg','True Pos']\n",
    "    group_percentages = ['{0:.2%}'.format(value) for value in cf_matrix.flatten() / np.sum(cf_matrix)]\n",
    "\n",
    "    labels = [f'{v1}\\n{v2}' for v1, v2 in zip(group_names,group_percentages)]\n",
    "    labels = np.asarray(labels).reshape(2,2)\n",
    "\n",
    "    sns.heatmap(cf_matrix, annot = labels, cmap = 'Reds',fmt = '',\n",
    "                xticklabels = categories, yticklabels = categories)\n",
    "\n",
    "    plt.xlabel(\"Predicted values\", fontdict = {'size':14}, labelpad = 10)\n",
    "    plt.ylabel(\"Actual values\"   , fontdict = {'size':14}, labelpad = 10)\n",
    "    plt.title (\"Confusion Matrix\", fontdict = {'size':18}, pad = 20)"
   ]
  },
  {
   "cell_type": "markdown",
   "metadata": {
    "id": "Mn-LI-2oJFjJ"
   },
   "source": [
    "### Logistic Regression <a id=\"8\"></a>"
   ]
  },
  {
   "cell_type": "code",
   "execution_count": null,
   "metadata": {
    "id": "KJ8RdPM6dkkx",
    "outputId": "779810ad-0a1f-4b92-956c-696cf15f9fc4"
   },
   "outputs": [],
   "source": [
    "lg = LogisticRegression()\n",
    "history=lg.fit(X_train, y_train)\n",
    "model_Evaluate(lg)"
   ]
  },
  {
   "cell_type": "markdown",
   "metadata": {
    "id": "oUwXXr1nI_rn"
   },
   "source": [
    "### Linear SVM <a id=\"9\"></a>"
   ]
  },
  {
   "cell_type": "code",
   "execution_count": null,
   "metadata": {
    "id": "H6hOCx_pqc6m",
    "outputId": "a64fa3c2-585a-43db-8278-22849691df81"
   },
   "outputs": [],
   "source": [
    "svm = LinearSVC()\n",
    "svm.fit(X_train, y_train)\n",
    "model_Evaluate(svm)"
   ]
  },
  {
   "cell_type": "markdown",
   "metadata": {
    "id": "zrRHaqy_I5qO"
   },
   "source": [
    "### Random Forest <a id=\"10\"></a>"
   ]
  },
  {
   "cell_type": "code",
   "execution_count": null,
   "metadata": {
    "id": "yYnt9mRTHRbb",
    "outputId": "fdeede87-5133-4bbc-9692-c303ad3ebb71"
   },
   "outputs": [],
   "source": [
    "rf = RandomForestClassifier(n_estimators = 20, criterion = 'entropy', max_depth=50)\n",
    "rf.fit(X_train, y_train)\n",
    "model_Evaluate(rf)"
   ]
  },
  {
   "cell_type": "markdown",
   "metadata": {
    "id": "JCvxpxFMI2JW"
   },
   "source": [
    "### Naive Bayes <a id=\"11\"></a>"
   ]
  },
  {
   "cell_type": "code",
   "execution_count": null,
   "metadata": {
    "id": "NSwMQQGRI0fp",
    "outputId": "10139359-22a5-4399-e5a1-8b14a73ee3a4"
   },
   "outputs": [],
   "source": [
    "nb = BernoulliNB()\n",
    "nb.fit(X_train, y_train)\n",
    "model_Evaluate(nb)"
   ]
  },
  {
   "cell_type": "markdown",
   "metadata": {
    "id": "d07tHN83wOUz"
   },
   "source": [
    "# RNN <a id=\"12\"></a>"
   ]
  },
  {
   "cell_type": "markdown",
   "metadata": {
    "id": "6fAJBzpEefLC"
   },
   "source": [
    "#### What is RNN?\n",
    "Recurrent neural networks (RNN) are the state of the art algorithm for sequential data and are used by Apple's Siri and and Google's voice search. It is the first algorithm that remembers its input, due to an internal memory, which makes it perfectly suited for machine learning problems that involve sequential data\n",
    "\n",
    "#### Embedding Layer\n",
    "Embedding layer is one of the available layers in Keras. This is mainly used in Natural Language Processing related applications such as language modeling, but it can also be used with other tasks that involve neural networks. While dealing with NLP problems, we can use pre-trained word embeddings such as GloVe. Alternatively we can also train our own embeddings using Keras embedding layer.\n",
    "\n",
    "#### LSTM layer\n",
    "Long Short Term Memory networks, usually called “LSTMs” , were introduced by Hochreiter and Schmiduber. These have widely been used for speech recognition, language modeling, sentiment analysis and text prediction. Before going deep into LSTM, we should first understand the need of LSTM which can be explained by the drawback of practical use of Recurrent Neural Network (RNN). So, lets start with RNN."
   ]
  },
  {
   "cell_type": "code",
   "execution_count": null,
   "metadata": {
    "id": "z-O59gYEyV7B"
   },
   "outputs": [],
   "source": [
    "from keras.models import Sequential\n",
    "from keras.layers import Dense, Embedding, LSTM, Dropout\n",
    "from sklearn.feature_extraction.text import CountVectorizer\n",
    "from keras.preprocessing.text import Tokenizer\n",
    "from keras.preprocessing.sequence import pad_sequences\n",
    "from keras.utils.np_utils import to_categorical\n",
    "import re"
   ]
  },
  {
   "cell_type": "code",
   "execution_count": null,
   "metadata": {
    "id": "_HpLbl0z-kZg",
    "outputId": "7e4f396f-71b0-4af5-c2d5-fe4efa6e1d33"
   },
   "outputs": [],
   "source": [
    "import keras\n",
    "keras.__version__"
   ]
  },
  {
   "cell_type": "code",
   "execution_count": null,
   "metadata": {
    "id": "68irxgj85Duv",
    "outputId": "9fbd6393-c152-45f0-b4b6-63014e90ab70"
   },
   "outputs": [],
   "source": [
    "from keras.preprocessing.text import Tokenizer\n",
    "from keras.preprocessing.sequence import pad_sequences\n",
    "from keras import regularizers\n",
    "\n",
    "max_words = 5000\n",
    "max_len = 200\n",
    "\n",
    "tokenizer = Tokenizer(num_words=max_words)\n",
    "tokenizer.fit_on_texts(data.processed_tweets)\n",
    "sequences = tokenizer.texts_to_sequences(data.processed_tweets)\n",
    "tweets = pad_sequences(sequences, maxlen=max_len)\n",
    "print(tweets)"
   ]
  },
  {
   "cell_type": "code",
   "execution_count": null,
   "metadata": {
    "id": "GVXtFMC453Hi"
   },
   "outputs": [],
   "source": [
    "X_train, X_test, y_train, y_test = train_test_split(tweets, data.polarity.values, test_size=0.2, random_state=101)"
   ]
  },
  {
   "cell_type": "code",
   "execution_count": null,
   "metadata": {
    "id": "eGpuqkUj5Dxv",
    "outputId": "07dc0998-3e41-412a-a49b-e0ec9fcfd3ef"
   },
   "outputs": [],
   "source": [
    "from keras.models import Sequential\n",
    "from keras import layers\n",
    "from keras import regularizers\n",
    "from keras import backend as K\n",
    "from keras.callbacks import ModelCheckpoint\n",
    "model2 = Sequential()\n",
    "model2.add(layers.Embedding(max_words, 128))\n",
    "model2.add(layers.LSTM(64,dropout=0.5))\n",
    "model2.add(layers.Dense(16, activation='relu'))\n",
    "model2.add(layers.Dense(8, activation='relu'))\n",
    "model2.add(layers.Dense(1,activation='sigmoid'))\n",
    "model2.compile(optimizer='adam',loss='binary_crossentropy', metrics=['accuracy'])\n",
    "checkpoint2 = ModelCheckpoint(\"rnn_model.hdf5\", monitor='val_accuracy', verbose=1,save_best_only=True, mode='auto', period=1,save_weights_only=False)\n",
    "history = model2.fit(X_train, y_train, epochs=10,validation_data=(X_test, y_test),callbacks=[checkpoint2])\n"
   ]
  },
  {
   "cell_type": "code",
   "execution_count": null,
   "metadata": {
    "id": "NjU0Kf7idfJf",
    "outputId": "ed0c9408-007f-4473-e6a3-fe70647507e8"
   },
   "outputs": [],
   "source": [
    "sequence = tokenizer.texts_to_sequences(['this data science article is the worst ever'])\n",
    "test = pad_sequences(sequence, maxlen=max_len)\n",
    "pred = model2.predict(test)\n",
    "if pred > 0.5:\n",
    "  print('Positive')\n",
    "else:\n",
    "  print('Negative')\n",
    "# print(pred)"
   ]
  },
  {
   "cell_type": "code",
   "execution_count": null,
   "metadata": {
    "id": "HJXJWC53PGEp",
    "outputId": "539028f1-fcf9-443e-a8b3-be82b43a78ef"
   },
   "outputs": [],
   "source": [
    "model = keras.models.load_model('rnn_model.hdf5')\n",
    "sequence = tokenizer.texts_to_sequences(['this data science article is the best ever'])\n",
    "test = pad_sequences(sequence, maxlen=max_len)\n",
    "pred = model.predict(test)\n",
    "if pred > 0.5:\n",
    "  print('Positive')\n",
    "else:\n",
    "  print('Negative')"
   ]
  },
  {
   "cell_type": "code",
   "execution_count": null,
   "metadata": {
    "id": "_Bw4rZQjTWEw",
    "outputId": "93705aa3-e7bc-49a3-d356-84bdecaeec84"
   },
   "outputs": [],
   "source": [
    "sequence = tokenizer.texts_to_sequences(['I had a bad day at work.'])\n",
    "test = pad_sequences(sequence, maxlen=max_len)\n",
    "pred = model.predict(test)\n",
    "if pred > 0.5:\n",
    "  print('Positive')\n",
    "else:\n",
    "  print('Negative')"
   ]
  },
  {
   "cell_type": "markdown",
   "metadata": {
    "id": "S4hTkNceDOqT"
   },
   "source": [
    "# Model Saving, Loading and Prediction <a id=\"13\"></a>"
   ]
  },
  {
   "cell_type": "code",
   "execution_count": null,
   "metadata": {
    "id": "8yCr6DDCOs0g"
   },
   "outputs": [],
   "source": [
    "import pickle\n",
    "\n",
    "file = open('vectoriser.pickle','wb')\n",
    "pickle.dump(vector, file)\n",
    "file.close()\n",
    "\n",
    "file = open('logisticRegression.pickle','wb')\n",
    "pickle.dump(lg, file)\n",
    "file.close()\n",
    "\n",
    "file = open('SVM.pickle','wb')\n",
    "pickle.dump(svm, file)\n",
    "file.close()\n",
    "\n",
    "file = open('RandomForest.pickle','wb')\n",
    "pickle.dump(rf, file)\n",
    "file.close()\n",
    "\n",
    "file = open('NaivesBayes.pickle','wb')\n",
    "pickle.dump(nb, file)\n",
    "file.close()"
   ]
  },
  {
   "cell_type": "markdown",
   "metadata": {
    "id": "4GOWIRETDwCr"
   },
   "source": [
    "### Predict using saved model"
   ]
  },
  {
   "cell_type": "code",
   "execution_count": null,
   "metadata": {
    "id": "nHrQifAQDCyc"
   },
   "outputs": [],
   "source": [
    "def load_models():\n",
    "    # Load the vectoriser.\n",
    "    file = open('vectoriser.pickle', 'rb')\n",
    "    vectoriser = pickle.load(file)\n",
    "    file.close()\n",
    "    # Load the LR Model.\n",
    "    file = open('logisticRegression.pickle', 'rb')\n",
    "    lg = pickle.load(file)\n",
    "    file.close()\n",
    "    return vectoriser, lg"
   ]
  },
  {
   "cell_type": "code",
   "execution_count": null,
   "metadata": {
    "id": "VAqUYn4MDHsB"
   },
   "outputs": [],
   "source": [
    "def predict(vectoriser, model, text):\n",
    "    # Predict the sentiment\n",
    "    processes_text=[process_tweets(sen) for sen in text]\n",
    "    textdata = vectoriser.transform(processes_text)\n",
    "    sentiment = model.predict(textdata)\n",
    "    \n",
    "    # Make a list of text with sentiment.\n",
    "    data = []\n",
    "    for text, pred in zip(text, sentiment):\n",
    "        data.append((text,pred))\n",
    "    # Convert the list into a Pandas DataFrame.\n",
    "    df = pd.DataFrame(data, columns = ['text','sentiment'])\n",
    "    df = df.replace([0,1], [\"Negative\",\"Positive\"])\n",
    "    return df"
   ]
  },
  {
   "cell_type": "code",
   "execution_count": null,
   "metadata": {
    "id": "CEdCqF0oW7em",
    "outputId": "897cacac-6fb7-48c1-86a7-f6244b1968fa"
   },
   "outputs": [],
   "source": [
    "if __name__==\"__main__\":\n",
    "    # Loading the models.\n",
    "    vectoriser, lg = load_models()\n",
    "    \n",
    "    # Text to classify should be in a list.\n",
    "    text = [\"I love machine learning\",\n",
    "            \"Work is too hectic.\",\n",
    "            \"Mr.Sharama, I feel so good\"]\n",
    "    \n",
    "    df = predict(vectoriser, lg, text)\n",
    "    print(df.head())\n"
   ]
  },
  {
   "cell_type": "code",
   "execution_count": null,
   "metadata": {},
   "outputs": [],
   "source": []
  },
  {
   "cell_type": "code",
   "execution_count": null,
   "metadata": {},
   "outputs": [],
   "source": []
  }
 ],
 "metadata": {
  "kernelspec": {
   "display_name": "Python 3",
   "language": "python",
   "name": "python3"
  },
  "language_info": {
   "codemirror_mode": {
    "name": "ipython",
    "version": 3
   },
   "file_extension": ".py",
   "mimetype": "text/x-python",
   "name": "python",
   "nbconvert_exporter": "python",
   "pygments_lexer": "ipython3",
   "version": "3.8.10"
  }
 },
 "nbformat": 4,
 "nbformat_minor": 4
}
