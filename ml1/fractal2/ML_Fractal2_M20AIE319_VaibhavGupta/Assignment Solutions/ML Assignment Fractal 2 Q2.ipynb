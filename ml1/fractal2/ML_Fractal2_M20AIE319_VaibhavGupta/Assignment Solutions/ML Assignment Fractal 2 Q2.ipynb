{
 "cells": [
  {
   "cell_type": "markdown",
   "metadata": {},
   "source": [
    "#### Q2:  \n",
    "\n",
    "Implement the Principal Component Analysis algorithm for reducing the dimensionality of the points\n",
    "given in the datasets: https://archive.ics.uci.edu/ml/machine-learning-databases/iris/iris.\n",
    "data. Each point of this dataset is a 4-dimensional vector (d = 4) given in the first column of the datafile.\n",
    "Reduce the dimensionality to 2 (k = 2). This dataset contains 3 clusters. Ground-truth cluster IDs are\n",
    "given as the fifth column of the data file. In order to evaluate the performance of the PCA algorithm,\n",
    "perform clustering (in 3 clusters) before and after dimensionality reduction using the Spectral Clustering\n",
    "algorithm and then find the percentage of points for which the estimated cluster label is correct. Report\n",
    "the accuracy of the Spectral Clustering algorithm before and after the dimensionality reduction. Report\n",
    "the reconstruction error for k = 1, 2, 3.\n",
    "\n",
    "https://archive.ics.uci.edu/ml/machine-learning-databases/iris/iris.data \n",
    "\n"
   ]
  },
  {
   "cell_type": "code",
   "execution_count": 1,
   "metadata": {},
   "outputs": [],
   "source": [
    "#imports \n",
    "import numpy as np\n",
    "import pandas as pd\n",
    "import matplotlib.pyplot as plt\n",
    "import numpy as np\n",
    "from sklearn.datasets import load_iris"
   ]
  },
  {
   "cell_type": "code",
   "execution_count": 2,
   "metadata": {},
   "outputs": [],
   "source": [
    "data = pd.read_csv(\"../dataset/iris.data\",sep = ',',header=None)"
   ]
  },
  {
   "cell_type": "code",
   "execution_count": 3,
   "metadata": {},
   "outputs": [
    {
     "data": {
      "text/html": [
       "<div>\n",
       "<style scoped>\n",
       "    .dataframe tbody tr th:only-of-type {\n",
       "        vertical-align: middle;\n",
       "    }\n",
       "\n",
       "    .dataframe tbody tr th {\n",
       "        vertical-align: top;\n",
       "    }\n",
       "\n",
       "    .dataframe thead th {\n",
       "        text-align: right;\n",
       "    }\n",
       "</style>\n",
       "<table border=\"1\" class=\"dataframe\">\n",
       "  <thead>\n",
       "    <tr style=\"text-align: right;\">\n",
       "      <th></th>\n",
       "      <th>0</th>\n",
       "      <th>1</th>\n",
       "      <th>2</th>\n",
       "      <th>3</th>\n",
       "      <th>4</th>\n",
       "    </tr>\n",
       "  </thead>\n",
       "  <tbody>\n",
       "    <tr>\n",
       "      <th>0</th>\n",
       "      <td>5.1</td>\n",
       "      <td>3.5</td>\n",
       "      <td>1.4</td>\n",
       "      <td>0.2</td>\n",
       "      <td>Iris-setosa</td>\n",
       "    </tr>\n",
       "    <tr>\n",
       "      <th>1</th>\n",
       "      <td>4.9</td>\n",
       "      <td>3.0</td>\n",
       "      <td>1.4</td>\n",
       "      <td>0.2</td>\n",
       "      <td>Iris-setosa</td>\n",
       "    </tr>\n",
       "    <tr>\n",
       "      <th>2</th>\n",
       "      <td>4.7</td>\n",
       "      <td>3.2</td>\n",
       "      <td>1.3</td>\n",
       "      <td>0.2</td>\n",
       "      <td>Iris-setosa</td>\n",
       "    </tr>\n",
       "    <tr>\n",
       "      <th>3</th>\n",
       "      <td>4.6</td>\n",
       "      <td>3.1</td>\n",
       "      <td>1.5</td>\n",
       "      <td>0.2</td>\n",
       "      <td>Iris-setosa</td>\n",
       "    </tr>\n",
       "    <tr>\n",
       "      <th>4</th>\n",
       "      <td>5.0</td>\n",
       "      <td>3.6</td>\n",
       "      <td>1.4</td>\n",
       "      <td>0.2</td>\n",
       "      <td>Iris-setosa</td>\n",
       "    </tr>\n",
       "  </tbody>\n",
       "</table>\n",
       "</div>"
      ],
      "text/plain": [
       "     0    1    2    3            4\n",
       "0  5.1  3.5  1.4  0.2  Iris-setosa\n",
       "1  4.9  3.0  1.4  0.2  Iris-setosa\n",
       "2  4.7  3.2  1.3  0.2  Iris-setosa\n",
       "3  4.6  3.1  1.5  0.2  Iris-setosa\n",
       "4  5.0  3.6  1.4  0.2  Iris-setosa"
      ]
     },
     "execution_count": 3,
     "metadata": {},
     "output_type": "execute_result"
    }
   ],
   "source": [
    "data.head()"
   ]
  },
  {
   "cell_type": "code",
   "execution_count": 4,
   "metadata": {},
   "outputs": [],
   "source": [
    "data[4] = data[4].replace({\"Iris-setosa\":0,\"Iris-versicolor\":1,\"Iris-virginica\":2})"
   ]
  },
  {
   "cell_type": "code",
   "execution_count": 5,
   "metadata": {},
   "outputs": [],
   "source": [
    "x=data.iloc[:,0:4]\n",
    "y=data.iloc[:,4]"
   ]
  },
  {
   "cell_type": "code",
   "execution_count": 6,
   "metadata": {},
   "outputs": [],
   "source": [
    "# Implementation Of PCA \n",
    "class PCA:\n",
    "\n",
    "    def __init__(self, n_components):\n",
    "        self.n_components = n_components\n",
    "        self.components = None\n",
    "        self.mean = None\n",
    "\n",
    "    def fit(self, X):\n",
    "        self.mean = np.mean(X, axis=0)\n",
    "        X = X - self.mean\n",
    "        cov = np.cov(X.T)\n",
    "        eigenvalues, eigenvectors = np.linalg.eig(cov)\n",
    "        eigenvectors = eigenvectors.T\n",
    "        idxs = np.argsort(eigenvalues)[::-1]\n",
    "        eigenvalues = eigenvalues[idxs]\n",
    "        eigenvectors = eigenvectors[idxs]\n",
    "        self.components = eigenvectors[0:self.n_components]\n",
    "\n",
    "    def transform(self, X):\n",
    "        X = X - self.mean\n",
    "        return np.dot(X, self.components.T)"
   ]
  },
  {
   "cell_type": "code",
   "execution_count": 7,
   "metadata": {},
   "outputs": [
    {
     "name": "stdout",
     "output_type": "stream",
     "text": [
      "[[-2.68420713 -0.32660731]\n",
      " [-2.71539062  0.16955685]\n",
      " [-2.88981954  0.13734561]\n",
      " [-2.7464372   0.31112432]\n",
      " [-2.72859298 -0.33392456]\n",
      " [-2.27989736 -0.74778271]\n",
      " [-2.82089068  0.08210451]\n",
      " [-2.62648199 -0.17040535]\n",
      " [-2.88795857  0.57079803]\n",
      " [-2.67384469  0.1066917 ]]\n"
     ]
    }
   ],
   "source": [
    "pca = PCA(2)\n",
    "pca.fit(x)\n",
    "X_projected = pca.transform(x)\n",
    "print(X_projected[0:10,:])\n",
    "x1 = X_projected[:, 0]\n",
    "x2 = X_projected[:, 1]"
   ]
  },
  {
   "cell_type": "code",
   "execution_count": 8,
   "metadata": {},
   "outputs": [
    {
     "data": {
      "image/png": "[encoded data removed]",
      "text/plain": [
       "<Figure size 432x288 with 2 Axes>"
      ]
     },
     "metadata": {
      "needs_background": "light"
     },
     "output_type": "display_data"
    }
   ],
   "source": [
    "plt.scatter(x1, x2,c=y, edgecolor='blue',alpha=0.8,cmap=plt.cm.get_cmap('viridis', 3))\n",
    "plt.xlabel('Principal Component X')\n",
    "plt.ylabel('Principal Component Y')\n",
    "plt.colorbar()\n",
    "plt.show()"
   ]
  },
  {
   "cell_type": "code",
   "execution_count": 9,
   "metadata": {},
   "outputs": [
    {
     "name": "stdout",
     "output_type": "stream",
     "text": [
      "original shape:    (150, 4)\n",
      "transformed shape: (150, 1)\n"
     ]
    }
   ],
   "source": [
    "pca = PCA(n_components=1)\n",
    "pca.fit(x)\n",
    "X_pca = pca.transform(x)\n",
    "print(\"original shape:   \", x.shape)\n",
    "print(\"transformed shape:\", X_pca.shape)\n"
   ]
  },
  {
   "cell_type": "markdown",
   "metadata": {},
   "source": [
    "#### -----------============-------------------------============-------------------------"
   ]
  },
  {
   "cell_type": "markdown",
   "metadata": {},
   "source": [
    "## References : "
   ]
  },
  {
   "cell_type": "markdown",
   "metadata": {},
   "source": [
    "Principal component analysis (PCA) is a technique to bring out strong patterns in a dataset by supressing variations. It is used to clean data sets to make it easy to explore and analyse. The algorithm of Principal Component Analysis is based on a few mathematical ideas namely:\n",
    "\n",
    "    Variance and Convariance\n",
    "    Eigen Vectors and Eigen values\n",
    "\n",
    "We will explain the two topics in simple terms in the steps below so that you can follow along and learn enough to implement your own Principal Component Analysis code in any language.\n",
    "\n",
    "Algorithm steps\n",
    "Step 1: Get your data\n",
    "\n",
    "Separate your data set into Y and X. Y will be the validation set and X will be the training set. In simple terms, we will use X for our study and use Y to check whether our study is correct.\n",
    "Step 2: Give your data a structure\n",
    "\n",
    "Take the 2 dimensional matrix of independent variables X. Rows represent data items and columns represent features. The number of columns is the number of dimensions.\n",
    "\n",
    "For each column, subtract the mean of that column from each entry. (This ensures that each column has a mean of zero.)\n",
    "Step 3: Standardize your data\n",
    "\n",
    "Given the columns of X, are features with higher variance more important than features with lower variance, or is the importance of features independent of the variance? (In this case, importance means how well that feature predicts Y.)\n",
    "\n",
    "If the importance of features is independent of the variance of the features, then divide each observation in a column by that column’s standard deviation. Call the centered and standardized matrix Z.\n",
    "Step 4: Get Covariance of Z\n",
    "\n",
    "Take the matrix Z, transpose it and multiply the transposed matrix by Z.\n",
    "\n",
    "Convariance of Z = ZᵀZ\n",
    "\n",
    "The resulting matrix is the covariance matrix of Z, up to a constant.\n",
    "Step 5: Calculate Eigen Vectors and Eigen Values\n",
    "\n",
    "Calculate the eigenvectors and their corresponding eigenvalues of ZᵀZ.\n",
    "\n",
    "The eigendecomposition of ZᵀZ is where we decompose ZᵀZ into PDP⁻¹,\n",
    "\n",
    "where P is the matrix of eigenvectors\n",
    "D is the diagonal matrix with eigenvalues on the diagonal and values of zero everywhere else.\n",
    "\n",
    "The eigenvalues on the diagonal of D will be associated with the corresponding column in P — that is, the first element of D is λ₁ and the corresponding eigenvector is the first column of P. This holds for all elements in D and their corresponding eigenvectors in P. We will always be able to calculate PDP⁻¹ in this fashion.\n",
    "Step 6: Sort the Eigen Vectors\n",
    "\n",
    "Take the eigenvalues λ₁, λ₂, …, λp and sort them from largest to smallest. In doing so, sort the eigenvectors in P accordingly. (For example, if λ3 is the largest eigenvalue, then take the third column of P and place it in the first column position.)\n",
    "\n",
    "Call this sorted matrix of eigenvectors P*. The columns of P* are the same as the columns of P in a different order. Note that these eigenvectors are independent of one another.\n",
    "Step 7: Calculate the new features\n",
    "\n",
    "Calculate Z* = ZP*.\n",
    "\n",
    "This new matrix, Z*, is a centered/standardized version of X but now each observation is a combination of the original variables, where the weights are determined by the eigenvector. As a bonus, because our eigenvectors in P* are independent of one another, each column of Z* is also independent of one another.\n",
    "Step 8: Drop unimportant features from the new set\n",
    "\n",
    "We need to determine which features from the new set we wish to keep for further study.\n",
    "\n",
    "Side note: As each eigenvalue is roughly the importance of its corresponding eigenvector, the proportion of variance explained is the sum of the eigenvalues of the features you kept divided by the sum of the eigenvalues of all features.\n",
    "\n",
    "There are three common methods to do this:\n",
    "\n",
    "Method 1: Arbitrarily select how many dimensions we want to keep\n",
    "\n",
    "Method 2: Calculate the proportion of variance for each feature, pick a threshold, and add features until you hit that threshold\n",
    "\n",
    "Method 3: Calculate the proportion of variance for each feature, sort features by proportion of variance and plot the cumulative proportion of variance explained as you keep more features. One can pick how many features to include by identifying the point where adding a new feature has a significant drop in variance explained relative to the previous feature, and choosing features up until that point."
   ]
  },
  {
   "cell_type": "markdown",
   "metadata": {},
   "source": [
    "https://towardsdatascience.com/dimensionality-reduction-with-pca-from-basic-ideas-to-full-derivation-37921e13cae7"
   ]
  }
 ],
 "metadata": {
  "kernelspec": {
   "display_name": "Python 3",
   "language": "python",
   "name": "python3"
  },
  "language_info": {
   "codemirror_mode": {
    "name": "ipython",
    "version": 3
   },
   "file_extension": ".py",
   "mimetype": "text/x-python",
   "name": "python",
   "nbconvert_exporter": "python",
   "pygments_lexer": "ipython3",
   "version": "3.8.5"
  }
 },
 "nbformat": 4,
 "nbformat_minor": 4
}
